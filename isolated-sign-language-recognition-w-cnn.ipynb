{
 "cells": [
  {
   "cell_type": "markdown",
   "id": "a03f0edc",
   "metadata": {
    "papermill": {
     "duration": 0.011244,
     "end_time": "2024-08-30T03:49:50.843168",
     "exception": false,
     "start_time": "2024-08-30T03:49:50.831924",
     "status": "completed"
    },
    "tags": []
   },
   "source": [
    "# <font color='289C4E'>Table of contents<font><a class='anchor' id='top'></a>\n",
    "1. [Introduction](#intro)\n",
    "2. [Defining imports](#imports)\n",
    "3. [Exploring the data](#explore)\n",
    "4. [Defining pre-processing / utilities](#utilis)\n",
    "5. [Defining model](#models)\n",
    "6. [Training the model(s)](#m)\n",
    "7. [Plot evaluations](#background)\n",
    "8. [Viewing output](#alerts)\n",
    "9. [Creating final submission](#tf_lite)\n",
    "10. [Future work](#future_work)\n",
    "11. [References](#references)"
   ]
  },
  {
   "cell_type": "markdown",
   "id": "e233e934",
   "metadata": {
    "papermill": {
     "duration": 0.009666,
     "end_time": "2024-08-30T03:49:50.862979",
     "exception": false,
     "start_time": "2024-08-30T03:49:50.853313",
     "status": "completed"
    },
    "tags": []
   },
   "source": [
    "# <font color='289C4E'>1. Introduction <font><a class='anchor' id='intro'></a> [↑](#top)\n",
    "    \n",
    "    \n",
    "The following notebook will define a base neural network model with Tensorflow to classify ASL gestures, and continutelly tweak the model to see how we can improve overall validation accuracy. "
   ]
  },
  {
   "cell_type": "markdown",
   "id": "5e1be135",
   "metadata": {
    "papermill": {
     "duration": 0.009462,
     "end_time": "2024-08-30T03:49:50.882339",
     "exception": false,
     "start_time": "2024-08-30T03:49:50.872877",
     "status": "completed"
    },
    "tags": []
   },
   "source": [
    "# <font color='289C4E'>2. Defining imports <font><a class='anchor' id='imports'></a> [↑](#top)"
   ]
  },
  {
   "cell_type": "code",
   "execution_count": 1,
   "id": "4cf6f1d7",
   "metadata": {
    "_cell_guid": "b1076dfc-b9ad-4769-8c92-a6c4dae69d19",
    "_uuid": "8f2839f25d086af736a60e9eeb907d3b93b6e0e5",
    "execution": {
     "iopub.execute_input": "2024-08-30T03:49:50.904041Z",
     "iopub.status.busy": "2024-08-30T03:49:50.903240Z",
     "iopub.status.idle": "2024-08-30T03:50:01.804613Z",
     "shell.execute_reply": "2024-08-30T03:50:01.803523Z"
    },
    "papermill": {
     "duration": 10.91549,
     "end_time": "2024-08-30T03:50:01.807606",
     "exception": false,
     "start_time": "2024-08-30T03:49:50.892116",
     "status": "completed"
    },
    "tags": []
   },
   "outputs": [],
   "source": [
    "import os\n",
    "import json\n",
    "import gc\n",
    "import pickle\n",
    "import torch\n",
    "import torch.nn as nn\n",
    "import numpy as np\n",
    "import pandas as pd\n",
    "# import zipfile\n",
    "import pyarrow.parquet as pq\n",
    "import matplotlib.pyplot as plt\n",
    "import multiprocessing as mp\n",
    "from tqdm import tqdm\n",
    "import imgaug.augmenters as iaa\n",
    "from PIL import Image\n",
    "\n",
    "import tensorflow as tf\n",
    "from tensorflow.keras import layers, optimizers\n",
    "import tensorflow.keras.models as models\n",
    "\n",
    "from sklearn.preprocessing import LabelBinarizer\n",
    "from sklearn.model_selection import train_test_split\n",
    "from sklearn.metrics import accuracy_score\n",
    "\n",
    "from keras.models import Sequential\n",
    "from keras.utils.vis_utils import plot_model\n",
    "from keras.layers import Conv3D, BatchNormalization, Activation, MaxPooling3D, Flatten, Dense, Dropout, Conv2D, MaxPooling2D, Reshape\n",
    "\n",
    "from tensorflow.keras.layers import LeakyReLU\n",
    "from tensorflow.keras.initializers import Constant\n",
    "from tensorflow.keras import regularizers\n",
    "pd.options.display.max_rows = 9999"
   ]
  },
  {
   "cell_type": "markdown",
   "id": "a4af4cc6",
   "metadata": {
    "papermill": {
     "duration": 0.009595,
     "end_time": "2024-08-30T03:50:01.827446",
     "exception": false,
     "start_time": "2024-08-30T03:50:01.817851",
     "status": "completed"
    },
    "tags": []
   },
   "source": [
    "something I found really helpful during this process is utlizing a GPU! It's available for use if you click the 3 dots in the top right and click \"accelerator\"\n",
    "\n",
    "I was not familar with how to use one prior nor did I realize it was available - the following code just checks if you are using a GPU or not"
   ]
  },
  {
   "cell_type": "code",
   "execution_count": 2,
   "id": "5b61af98",
   "metadata": {
    "execution": {
     "iopub.execute_input": "2024-08-30T03:50:01.848940Z",
     "iopub.status.busy": "2024-08-30T03:50:01.848200Z",
     "iopub.status.idle": "2024-08-30T03:50:06.098107Z",
     "shell.execute_reply": "2024-08-30T03:50:06.097099Z"
    },
    "papermill": {
     "duration": 4.263588,
     "end_time": "2024-08-30T03:50:06.100849",
     "exception": false,
     "start_time": "2024-08-30T03:50:01.837261",
     "status": "completed"
    },
    "tags": []
   },
   "outputs": [
    {
     "name": "stdout",
     "output_type": "stream",
     "text": [
      "Found GPU at: /device:GPU:0\n"
     ]
    }
   ],
   "source": [
    "device_name = tf.test.gpu_device_name()\n",
    "if \"GPU\" not in device_name:\n",
    "    print(\"GPU device not found\")\n",
    "else:\n",
    "    print('Found GPU at: {}'.format(device_name))"
   ]
  },
  {
   "cell_type": "markdown",
   "id": "35dce0e7",
   "metadata": {
    "papermill": {
     "duration": 0.010867,
     "end_time": "2024-08-30T03:50:06.122123",
     "exception": false,
     "start_time": "2024-08-30T03:50:06.111256",
     "status": "completed"
    },
    "tags": []
   },
   "source": [
    "# <font color='289C4E'>3. Exploring the data <font><a class='anchor' id='explore'></a> [↑](#top)"
   ]
  },
  {
   "cell_type": "code",
   "execution_count": 3,
   "id": "0c2419fc",
   "metadata": {
    "execution": {
     "iopub.execute_input": "2024-08-30T03:50:06.143367Z",
     "iopub.status.busy": "2024-08-30T03:50:06.143033Z",
     "iopub.status.idle": "2024-08-30T03:50:06.147733Z",
     "shell.execute_reply": "2024-08-30T03:50:06.146772Z"
    },
    "papermill": {
     "duration": 0.017722,
     "end_time": "2024-08-30T03:50:06.149863",
     "exception": false,
     "start_time": "2024-08-30T03:50:06.132141",
     "status": "completed"
    },
    "tags": []
   },
   "outputs": [],
   "source": [
    "# file paths for given input files \n",
    "TRAIN = \"/kaggle/input/asl-signs/train.csv\"\n",
    "DATA_PATH = '../input/asl-signs/'\n",
    "MAPPINGS = \"../input/asl-signs/sign_to_prediction_index_map.json\"\n",
    "AGGREGATED_DATA_PATH = '../input/isolated-sign-language-aggregation-dataset/'"
   ]
  },
  {
   "cell_type": "markdown",
   "id": "590e9548",
   "metadata": {
    "papermill": {
     "duration": 0.010091,
     "end_time": "2024-08-30T03:50:06.170041",
     "exception": false,
     "start_time": "2024-08-30T03:50:06.159950",
     "status": "completed"
    },
    "tags": []
   },
   "source": [
    "### <font color='289C4E'> 3.1. Example of data landmark <font><a class='anchor' id='explore'></a>\n",
    "\n",
    "This is just taken from the competition guidelines, but putting it here for easy reference\n",
    "\n",
    "Landmark data should not be used to identify or re-identify an individual. Landmark data is not intended to enable any form of identity recognition or store any unique biometric identification.\n",
    "\n",
    "- Landmark data (ex face, right hand etc) is stored under `train_landmark_files` directory with the following naming convention: \n",
    "`train_landmark_files/[participant_id]/[sequence_id].parquet`\n",
    "- `frame` - The frame number in the raw video.\n",
    "- `row_id` - A unique identifier for the row.\n",
    "- `type` - The type of landmark. One of ['face', 'left_hand', 'pose', 'right_hand'].\n",
    "- `landmark_index` - The landmark index number. Details of the hand landmark locations can be found here.\n",
    "- `[x/y/z]` - The normalized spatial coordinates of the landmark. These are the only columns that will be provided to your submitted model\n",
    "for inference. The MediaPipe model is not fully trained to predict depth so you may wish to ignore the z values."
   ]
  },
  {
   "cell_type": "code",
   "execution_count": 4,
   "id": "c0607378",
   "metadata": {
    "execution": {
     "iopub.execute_input": "2024-08-30T03:50:06.191262Z",
     "iopub.status.busy": "2024-08-30T03:50:06.190961Z",
     "iopub.status.idle": "2024-08-30T03:50:06.353934Z",
     "shell.execute_reply": "2024-08-30T03:50:06.352808Z"
    },
    "papermill": {
     "duration": 0.176643,
     "end_time": "2024-08-30T03:50:06.356726",
     "exception": false,
     "start_time": "2024-08-30T03:50:06.180083",
     "status": "completed"
    },
    "tags": []
   },
   "outputs": [
    {
     "data": {
      "text/html": [
       "<div>\n",
       "<style scoped>\n",
       "    .dataframe tbody tr th:only-of-type {\n",
       "        vertical-align: middle;\n",
       "    }\n",
       "\n",
       "    .dataframe tbody tr th {\n",
       "        vertical-align: top;\n",
       "    }\n",
       "\n",
       "    .dataframe thead th {\n",
       "        text-align: right;\n",
       "    }\n",
       "</style>\n",
       "<table border=\"1\" class=\"dataframe\">\n",
       "  <thead>\n",
       "    <tr style=\"text-align: right;\">\n",
       "      <th></th>\n",
       "      <th>frame</th>\n",
       "      <th>row_id</th>\n",
       "      <th>type</th>\n",
       "      <th>landmark_index</th>\n",
       "      <th>x</th>\n",
       "      <th>y</th>\n",
       "      <th>z</th>\n",
       "    </tr>\n",
       "  </thead>\n",
       "  <tbody>\n",
       "    <tr>\n",
       "      <th>0</th>\n",
       "      <td>0</td>\n",
       "      <td>0-face-0</td>\n",
       "      <td>face</td>\n",
       "      <td>0</td>\n",
       "      <td>0.536712</td>\n",
       "      <td>0.421679</td>\n",
       "      <td>-0.054983</td>\n",
       "    </tr>\n",
       "    <tr>\n",
       "      <th>1</th>\n",
       "      <td>0</td>\n",
       "      <td>0-face-1</td>\n",
       "      <td>face</td>\n",
       "      <td>1</td>\n",
       "      <td>0.532607</td>\n",
       "      <td>0.388884</td>\n",
       "      <td>-0.064112</td>\n",
       "    </tr>\n",
       "    <tr>\n",
       "      <th>2</th>\n",
       "      <td>0</td>\n",
       "      <td>0-face-2</td>\n",
       "      <td>face</td>\n",
       "      <td>2</td>\n",
       "      <td>0.535190</td>\n",
       "      <td>0.405216</td>\n",
       "      <td>-0.043147</td>\n",
       "    </tr>\n",
       "    <tr>\n",
       "      <th>3</th>\n",
       "      <td>0</td>\n",
       "      <td>0-face-3</td>\n",
       "      <td>face</td>\n",
       "      <td>3</td>\n",
       "      <td>0.515270</td>\n",
       "      <td>0.369050</td>\n",
       "      <td>-0.034260</td>\n",
       "    </tr>\n",
       "    <tr>\n",
       "      <th>4</th>\n",
       "      <td>0</td>\n",
       "      <td>0-face-4</td>\n",
       "      <td>face</td>\n",
       "      <td>4</td>\n",
       "      <td>0.530208</td>\n",
       "      <td>0.380113</td>\n",
       "      <td>-0.063684</td>\n",
       "    </tr>\n",
       "    <tr>\n",
       "      <th>5</th>\n",
       "      <td>0</td>\n",
       "      <td>0-face-5</td>\n",
       "      <td>face</td>\n",
       "      <td>5</td>\n",
       "      <td>0.527388</td>\n",
       "      <td>0.371860</td>\n",
       "      <td>-0.053191</td>\n",
       "    </tr>\n",
       "    <tr>\n",
       "      <th>6</th>\n",
       "      <td>0</td>\n",
       "      <td>0-face-6</td>\n",
       "      <td>face</td>\n",
       "      <td>6</td>\n",
       "      <td>0.521091</td>\n",
       "      <td>0.354423</td>\n",
       "      <td>-0.005393</td>\n",
       "    </tr>\n",
       "    <tr>\n",
       "      <th>7</th>\n",
       "      <td>0</td>\n",
       "      <td>0-face-7</td>\n",
       "      <td>face</td>\n",
       "      <td>7</td>\n",
       "      <td>0.438529</td>\n",
       "      <td>0.376151</td>\n",
       "      <td>0.035212</td>\n",
       "    </tr>\n",
       "    <tr>\n",
       "      <th>8</th>\n",
       "      <td>0</td>\n",
       "      <td>0-face-8</td>\n",
       "      <td>face</td>\n",
       "      <td>8</td>\n",
       "      <td>0.515626</td>\n",
       "      <td>0.336895</td>\n",
       "      <td>0.014367</td>\n",
       "    </tr>\n",
       "    <tr>\n",
       "      <th>9</th>\n",
       "      <td>0</td>\n",
       "      <td>0-face-9</td>\n",
       "      <td>face</td>\n",
       "      <td>9</td>\n",
       "      <td>0.512473</td>\n",
       "      <td>0.325666</td>\n",
       "      <td>0.020026</td>\n",
       "    </tr>\n",
       "  </tbody>\n",
       "</table>\n",
       "</div>"
      ],
      "text/plain": [
       "   frame    row_id  type  landmark_index         x         y         z\n",
       "0      0  0-face-0  face               0  0.536712  0.421679 -0.054983\n",
       "1      0  0-face-1  face               1  0.532607  0.388884 -0.064112\n",
       "2      0  0-face-2  face               2  0.535190  0.405216 -0.043147\n",
       "3      0  0-face-3  face               3  0.515270  0.369050 -0.034260\n",
       "4      0  0-face-4  face               4  0.530208  0.380113 -0.063684\n",
       "5      0  0-face-5  face               5  0.527388  0.371860 -0.053191\n",
       "6      0  0-face-6  face               6  0.521091  0.354423 -0.005393\n",
       "7      0  0-face-7  face               7  0.438529  0.376151  0.035212\n",
       "8      0  0-face-8  face               8  0.515626  0.336895  0.014367\n",
       "9      0  0-face-9  face               9  0.512473  0.325666  0.020026"
      ]
     },
     "execution_count": 4,
     "metadata": {},
     "output_type": "execute_result"
    }
   ],
   "source": [
    "sample_data = pd.read_parquet(\"/kaggle/input/asl-signs/train_landmark_files/36257/3762317508.parquet\")\n",
    "sample_data.describe()\n",
    "sample_data.head(10)"
   ]
  },
  {
   "cell_type": "markdown",
   "id": "c7a630e7",
   "metadata": {
    "papermill": {
     "duration": 0.010702,
     "end_time": "2024-08-30T03:50:06.379238",
     "exception": false,
     "start_time": "2024-08-30T03:50:06.368536",
     "status": "completed"
    },
    "tags": []
   },
   "source": [
    "### <font color='289C4E'> 3.2. Example of training data <font><a class='anchor' id='explore'></a>\n",
    "\n",
    "Again, this is just taken from the competition guidelines, but putting it here for easy reference\n",
    "\n",
    "\n",
    "- `path` - The path to the landmark file.\n",
    "- `participant_id` - A unique identifier for the data contributor.\n",
    "- `sequence_id` - A unique identifier for the landmark sequence.\n",
    "- `sign` - The label for the landmark sequence."
   ]
  },
  {
   "cell_type": "code",
   "execution_count": 5,
   "id": "96c46aa6",
   "metadata": {
    "execution": {
     "iopub.execute_input": "2024-08-30T03:50:06.401380Z",
     "iopub.status.busy": "2024-08-30T03:50:06.400574Z",
     "iopub.status.idle": "2024-08-30T03:50:06.584401Z",
     "shell.execute_reply": "2024-08-30T03:50:06.582675Z"
    },
    "papermill": {
     "duration": 0.197507,
     "end_time": "2024-08-30T03:50:06.586867",
     "exception": false,
     "start_time": "2024-08-30T03:50:06.389360",
     "status": "completed"
    },
    "tags": []
   },
   "outputs": [
    {
     "name": "stdout",
     "output_type": "stream",
     "text": [
      "train shape (94477, 4)\n"
     ]
    },
    {
     "data": {
      "text/html": [
       "<div>\n",
       "<style scoped>\n",
       "    .dataframe tbody tr th:only-of-type {\n",
       "        vertical-align: middle;\n",
       "    }\n",
       "\n",
       "    .dataframe tbody tr th {\n",
       "        vertical-align: top;\n",
       "    }\n",
       "\n",
       "    .dataframe thead th {\n",
       "        text-align: right;\n",
       "    }\n",
       "</style>\n",
       "<table border=\"1\" class=\"dataframe\">\n",
       "  <thead>\n",
       "    <tr style=\"text-align: right;\">\n",
       "      <th></th>\n",
       "      <th>path</th>\n",
       "      <th>participant_id</th>\n",
       "      <th>sequence_id</th>\n",
       "      <th>sign</th>\n",
       "    </tr>\n",
       "  </thead>\n",
       "  <tbody>\n",
       "    <tr>\n",
       "      <th>0</th>\n",
       "      <td>train_landmark_files/26734/1000035562.parquet</td>\n",
       "      <td>26734</td>\n",
       "      <td>1000035562</td>\n",
       "      <td>blow</td>\n",
       "    </tr>\n",
       "    <tr>\n",
       "      <th>1</th>\n",
       "      <td>train_landmark_files/28656/1000106739.parquet</td>\n",
       "      <td>28656</td>\n",
       "      <td>1000106739</td>\n",
       "      <td>wait</td>\n",
       "    </tr>\n",
       "    <tr>\n",
       "      <th>2</th>\n",
       "      <td>train_landmark_files/16069/100015657.parquet</td>\n",
       "      <td>16069</td>\n",
       "      <td>100015657</td>\n",
       "      <td>cloud</td>\n",
       "    </tr>\n",
       "    <tr>\n",
       "      <th>3</th>\n",
       "      <td>train_landmark_files/25571/1000210073.parquet</td>\n",
       "      <td>25571</td>\n",
       "      <td>1000210073</td>\n",
       "      <td>bird</td>\n",
       "    </tr>\n",
       "    <tr>\n",
       "      <th>4</th>\n",
       "      <td>train_landmark_files/62590/1000240708.parquet</td>\n",
       "      <td>62590</td>\n",
       "      <td>1000240708</td>\n",
       "      <td>owie</td>\n",
       "    </tr>\n",
       "  </tbody>\n",
       "</table>\n",
       "</div>"
      ],
      "text/plain": [
       "                                            path  participant_id  sequence_id  \\\n",
       "0  train_landmark_files/26734/1000035562.parquet           26734   1000035562   \n",
       "1  train_landmark_files/28656/1000106739.parquet           28656   1000106739   \n",
       "2   train_landmark_files/16069/100015657.parquet           16069    100015657   \n",
       "3  train_landmark_files/25571/1000210073.parquet           25571   1000210073   \n",
       "4  train_landmark_files/62590/1000240708.parquet           62590   1000240708   \n",
       "\n",
       "    sign  \n",
       "0   blow  \n",
       "1   wait  \n",
       "2  cloud  \n",
       "3   bird  \n",
       "4   owie  "
      ]
     },
     "execution_count": 5,
     "metadata": {},
     "output_type": "execute_result"
    }
   ],
   "source": [
    "train_data = pd.read_csv(TRAIN)\n",
    "print('train shape', train_data.shape)\n",
    "train_data.head()"
   ]
  },
  {
   "cell_type": "markdown",
   "id": "553b0d04",
   "metadata": {
    "papermill": {
     "duration": 0.010578,
     "end_time": "2024-08-30T03:50:06.608192",
     "exception": false,
     "start_time": "2024-08-30T03:50:06.597614",
     "status": "completed"
    },
    "tags": []
   },
   "source": [
    "### <font color='289C4E'> 3.3. Distribution of signs <font><a class='anchor' id='explore'></a>"
   ]
  },
  {
   "cell_type": "code",
   "execution_count": 6,
   "id": "7a4ce0a1",
   "metadata": {
    "execution": {
     "iopub.execute_input": "2024-08-30T03:50:06.630526Z",
     "iopub.status.busy": "2024-08-30T03:50:06.630189Z",
     "iopub.status.idle": "2024-08-30T03:50:09.653481Z",
     "shell.execute_reply": "2024-08-30T03:50:09.652396Z"
    },
    "papermill": {
     "duration": 3.039115,
     "end_time": "2024-08-30T03:50:09.657726",
     "exception": false,
     "start_time": "2024-08-30T03:50:06.618611",
     "status": "completed"
    },
    "tags": []
   },
   "outputs": [
    {
     "data": {
      "image/png": "[encoded data removed]",
      "text/plain": [
       "<Figure size 1500x1000 with 1 Axes>"
      ]
     },
     "metadata": {},
     "output_type": "display_data"
    }
   ],
   "source": [
    "# Count the number of occurrences of each sign\n",
    "counts = train_data['sign'].value_counts()\n",
    "\n",
    "# Plot a bar graph\n",
    "fig, ax = plt.subplots(figsize=(15, 10))\n",
    "train_data['sign'].value_counts().plot(kind='bar', ax=ax)\n",
    "\n",
    "# Set title and labels\n",
    "ax.set_title('Distribution of Signs')\n",
    "ax.set_xlabel('Signs')\n",
    "ax.set_ylabel('Count')\n",
    "\n",
    "# Show the plot\n",
    "plt.show()"
   ]
  },
  {
   "cell_type": "markdown",
   "id": "c8e16070",
   "metadata": {
    "papermill": {
     "duration": 0.01233,
     "end_time": "2024-08-30T03:50:09.683325",
     "exception": false,
     "start_time": "2024-08-30T03:50:09.670995",
     "status": "completed"
    },
    "tags": []
   },
   "source": [
    "### <font color='289C4E'> 3.3. Example of sign prediction index map <font><a class='anchor' id='explore'></a>\n"
   ]
  },
  {
   "cell_type": "code",
   "execution_count": 7,
   "id": "cb5852bf",
   "metadata": {
    "execution": {
     "iopub.execute_input": "2024-08-30T03:50:09.710176Z",
     "iopub.status.busy": "2024-08-30T03:50:09.709594Z",
     "iopub.status.idle": "2024-08-30T03:50:09.785968Z",
     "shell.execute_reply": "2024-08-30T03:50:09.784969Z"
    },
    "papermill": {
     "duration": 0.092244,
     "end_time": "2024-08-30T03:50:09.788116",
     "exception": false,
     "start_time": "2024-08-30T03:50:09.695872",
     "status": "completed"
    },
    "tags": []
   },
   "outputs": [
    {
     "data": {
      "text/html": [
       "<div>\n",
       "<style scoped>\n",
       "    .dataframe tbody tr th:only-of-type {\n",
       "        vertical-align: middle;\n",
       "    }\n",
       "\n",
       "    .dataframe tbody tr th {\n",
       "        vertical-align: top;\n",
       "    }\n",
       "\n",
       "    .dataframe thead th {\n",
       "        text-align: right;\n",
       "    }\n",
       "</style>\n",
       "<table border=\"1\" class=\"dataframe\">\n",
       "  <thead>\n",
       "    <tr style=\"text-align: right;\">\n",
       "      <th></th>\n",
       "      <th>TV</th>\n",
       "      <th>after</th>\n",
       "      <th>airplane</th>\n",
       "      <th>all</th>\n",
       "      <th>alligator</th>\n",
       "      <th>animal</th>\n",
       "      <th>another</th>\n",
       "      <th>any</th>\n",
       "      <th>apple</th>\n",
       "      <th>arm</th>\n",
       "      <th>...</th>\n",
       "      <th>why</th>\n",
       "      <th>will</th>\n",
       "      <th>wolf</th>\n",
       "      <th>yellow</th>\n",
       "      <th>yes</th>\n",
       "      <th>yesterday</th>\n",
       "      <th>yourself</th>\n",
       "      <th>yucky</th>\n",
       "      <th>zebra</th>\n",
       "      <th>zipper</th>\n",
       "    </tr>\n",
       "  </thead>\n",
       "  <tbody>\n",
       "    <tr>\n",
       "      <th>0</th>\n",
       "      <td>0</td>\n",
       "      <td>1</td>\n",
       "      <td>2</td>\n",
       "      <td>3</td>\n",
       "      <td>4</td>\n",
       "      <td>5</td>\n",
       "      <td>6</td>\n",
       "      <td>7</td>\n",
       "      <td>8</td>\n",
       "      <td>9</td>\n",
       "      <td>...</td>\n",
       "      <td>240</td>\n",
       "      <td>241</td>\n",
       "      <td>242</td>\n",
       "      <td>243</td>\n",
       "      <td>244</td>\n",
       "      <td>245</td>\n",
       "      <td>246</td>\n",
       "      <td>247</td>\n",
       "      <td>248</td>\n",
       "      <td>249</td>\n",
       "    </tr>\n",
       "  </tbody>\n",
       "</table>\n",
       "<p>1 rows × 250 columns</p>\n",
       "</div>"
      ],
      "text/plain": [
       "   TV  after  airplane  all  alligator  animal  another  any  apple  arm  ...  \\\n",
       "0   0      1         2    3          4       5        6    7      8    9  ...   \n",
       "\n",
       "   why  will  wolf  yellow  yes  yesterday  yourself  yucky  zebra  zipper  \n",
       "0  240   241   242     243  244        245       246    247    248     249  \n",
       "\n",
       "[1 rows x 250 columns]"
      ]
     },
     "execution_count": 7,
     "metadata": {},
     "output_type": "execute_result"
    }
   ],
   "source": [
    "sign_prediction_index_map = pd.read_json(MAPPINGS, lines=True, orient='columns')\n",
    "sign_prediction_index_map.head()"
   ]
  },
  {
   "cell_type": "markdown",
   "id": "92ff5955",
   "metadata": {
    "papermill": {
     "duration": 0.013166,
     "end_time": "2024-08-30T03:50:09.814513",
     "exception": false,
     "start_time": "2024-08-30T03:50:09.801347",
     "status": "completed"
    },
    "tags": []
   },
   "source": [
    "### <font color='289C4E'> 3.4. Sign column examination <font><a class='anchor' id='explore'></a>\n",
    "    \n",
    "- 94477 rows of data\n",
    "- 250 unique signs\n",
    "- \"listen\" is the most frequent sign\n",
    "- \"415\" is the max number of samples for one sign"
   ]
  },
  {
   "cell_type": "code",
   "execution_count": 8,
   "id": "8d7c1595",
   "metadata": {
    "execution": {
     "iopub.execute_input": "2024-08-30T03:50:09.842039Z",
     "iopub.status.busy": "2024-08-30T03:50:09.841396Z",
     "iopub.status.idle": "2024-08-30T03:50:09.872143Z",
     "shell.execute_reply": "2024-08-30T03:50:09.871227Z"
    },
    "papermill": {
     "duration": 0.046779,
     "end_time": "2024-08-30T03:50:09.874257",
     "exception": false,
     "start_time": "2024-08-30T03:50:09.827478",
     "status": "completed"
    },
    "tags": []
   },
   "outputs": [
    {
     "data": {
      "text/html": [
       "<div>\n",
       "<style scoped>\n",
       "    .dataframe tbody tr th:only-of-type {\n",
       "        vertical-align: middle;\n",
       "    }\n",
       "\n",
       "    .dataframe tbody tr th {\n",
       "        vertical-align: top;\n",
       "    }\n",
       "\n",
       "    .dataframe thead th {\n",
       "        text-align: right;\n",
       "    }\n",
       "</style>\n",
       "<table border=\"1\" class=\"dataframe\">\n",
       "  <thead>\n",
       "    <tr style=\"text-align: right;\">\n",
       "      <th></th>\n",
       "      <th>count</th>\n",
       "      <th>unique</th>\n",
       "      <th>top</th>\n",
       "      <th>freq</th>\n",
       "    </tr>\n",
       "  </thead>\n",
       "  <tbody>\n",
       "    <tr>\n",
       "      <th>sign</th>\n",
       "      <td>94477</td>\n",
       "      <td>250</td>\n",
       "      <td>listen</td>\n",
       "      <td>415</td>\n",
       "    </tr>\n",
       "  </tbody>\n",
       "</table>\n",
       "</div>"
      ],
      "text/plain": [
       "      count unique     top freq\n",
       "sign  94477    250  listen  415"
      ]
     },
     "metadata": {},
     "output_type": "display_data"
    }
   ],
   "source": [
    "display(train_data[\"sign\"].describe().to_frame().T)"
   ]
  },
  {
   "cell_type": "markdown",
   "id": "f152c5eb",
   "metadata": {
    "papermill": {
     "duration": 0.012752,
     "end_time": "2024-08-30T03:50:09.900050",
     "exception": false,
     "start_time": "2024-08-30T03:50:09.887298",
     "status": "completed"
    },
    "tags": []
   },
   "source": [
    "### <font color='289C4E'> 3.5. Participant column examination <font><a class='anchor' id='explore'></a>\n",
    "    \n",
    "- 94477 rows of data\n",
    "- 21 unique participants"
   ]
  },
  {
   "cell_type": "code",
   "execution_count": 9,
   "id": "f141ed5c",
   "metadata": {
    "execution": {
     "iopub.execute_input": "2024-08-30T03:50:09.927685Z",
     "iopub.status.busy": "2024-08-30T03:50:09.927072Z",
     "iopub.status.idle": "2024-08-30T03:50:10.052092Z",
     "shell.execute_reply": "2024-08-30T03:50:10.051324Z"
    },
    "papermill": {
     "duration": 0.141249,
     "end_time": "2024-08-30T03:50:10.054367",
     "exception": false,
     "start_time": "2024-08-30T03:50:09.913118",
     "status": "completed"
    },
    "tags": []
   },
   "outputs": [
    {
     "data": {
      "text/html": [
       "<div>\n",
       "<style scoped>\n",
       "    .dataframe tbody tr th:only-of-type {\n",
       "        vertical-align: middle;\n",
       "    }\n",
       "\n",
       "    .dataframe tbody tr th {\n",
       "        vertical-align: top;\n",
       "    }\n",
       "\n",
       "    .dataframe thead th {\n",
       "        text-align: right;\n",
       "    }\n",
       "</style>\n",
       "<table border=\"1\" class=\"dataframe\">\n",
       "  <thead>\n",
       "    <tr style=\"text-align: right;\">\n",
       "      <th></th>\n",
       "      <th>count</th>\n",
       "      <th>unique</th>\n",
       "      <th>top</th>\n",
       "      <th>freq</th>\n",
       "    </tr>\n",
       "  </thead>\n",
       "  <tbody>\n",
       "    <tr>\n",
       "      <th>participant_id</th>\n",
       "      <td>94477</td>\n",
       "      <td>21</td>\n",
       "      <td>49445</td>\n",
       "      <td>4968</td>\n",
       "    </tr>\n",
       "  </tbody>\n",
       "</table>\n",
       "</div>"
      ],
      "text/plain": [
       "                count unique    top  freq\n",
       "participant_id  94477     21  49445  4968"
      ]
     },
     "metadata": {},
     "output_type": "display_data"
    }
   ],
   "source": [
    "display(train_data[\"participant_id\"].astype(str).describe().to_frame().T)"
   ]
  },
  {
   "cell_type": "markdown",
   "id": "27d09b89",
   "metadata": {
    "papermill": {
     "duration": 0.012946,
     "end_time": "2024-08-30T03:50:10.080853",
     "exception": false,
     "start_time": "2024-08-30T03:50:10.067907",
     "status": "completed"
    },
    "tags": []
   },
   "source": [
    "# <font color='289C4E'>4. Define Utilties/Preprocessing class <font><a class='anchor' id='utilis'></a> [↑](#top)\n",
    "    \n",
    "    \n",
    "Currently, this notebook is referencing an aggregated dataset!\n",
    "    \n",
    "For future work, I would like to pre-process the data here and potentially look into data augmentation to create more data! I'm mainly using this notebook to test what type of model modifications improve classification accuracy"
   ]
  },
  {
   "cell_type": "code",
   "execution_count": 10,
   "id": "e552057b",
   "metadata": {
    "execution": {
     "iopub.execute_input": "2024-08-30T03:50:10.109145Z",
     "iopub.status.busy": "2024-08-30T03:50:10.108444Z",
     "iopub.status.idle": "2024-08-30T03:50:10.121399Z",
     "shell.execute_reply": "2024-08-30T03:50:10.120468Z"
    },
    "papermill": {
     "duration": 0.029638,
     "end_time": "2024-08-30T03:50:10.123627",
     "exception": false,
     "start_time": "2024-08-30T03:50:10.093989",
     "status": "completed"
    },
    "tags": []
   },
   "outputs": [],
   "source": [
    "class Utilties:\n",
    "    def __init__(self):\n",
    "        self.aggregation_data_path = AGGREGATED_DATA_PATH\n",
    "        self.data_path = DATA_PATH\n",
    "        self.is_training = True\n",
    "        self.num_classes = 250\n",
    "        self.rows_per_frame = 543 \n",
    "        \n",
    "    def load_relevant_data_subset_with_imputation(self, pq_path):\n",
    "        data_columns = ['x', 'y', 'z']\n",
    "        data = pd.read_parquet(pq_path, columns=data_columns)\n",
    "        data.replace(np.nan, 0, inplace=True)\n",
    "        n_frames = int(len(data) / self.rows_per_frame)\n",
    "        data = data.values.reshape(n_frames, self.rows_per_frame, len(data_columns))\n",
    "        return data.astype(np.float32)\n",
    "\n",
    "    def load_relevant_data_subset(self, pq_path):\n",
    "        data_columns = ['x', 'y', 'z']\n",
    "        data = pd.read_parquet('/kaggle/input/asl-signs/' + pq_path, columns=data_columns)\n",
    "        n_frames = int(len(data) / self.rows_per_frame)\n",
    "        data = data.values.reshape(n_frames, self.rows_per_frame, len(data_columns))\n",
    "        return data.astype(np.float32)\n",
    "\n",
    "    def read_dict(self, file_path):\n",
    "        path = os.path.expanduser(file_path)\n",
    "        with open(path, \"r\") as f:\n",
    "            dic = json.load(f)\n",
    "        return dic\n",
    "    \n",
    "    def load_data(self):\n",
    "        train = pd.read_csv(f\"{self.aggregation_data_path}train.csv\")\n",
    "        label_index = self.read_dict(f\"{self.data_path}sign_to_prediction_index_map.json\")\n",
    "        index_label = dict([(label_index[key], key) for key in label_index])\n",
    "        train[\"label\"] = train[\"sign\"].map(lambda sign: label_index[sign])\n",
    "        return train\n",
    "        "
   ]
  },
  {
   "cell_type": "markdown",
   "id": "b9d5e792",
   "metadata": {
    "papermill": {
     "duration": 0.012961,
     "end_time": "2024-08-30T03:50:10.151083",
     "exception": false,
     "start_time": "2024-08-30T03:50:10.138122",
     "status": "completed"
    },
    "tags": []
   },
   "source": [
    "# <font color='289C4E'>5. Define Model(s) <font><a class='anchor' id='models'></a> [↑](#top)\n",
    "    \n",
    "The following class contains 10 different model architectures that we will train and test. each model is a small variation/adjustment of the previous model\n",
    "   \n",
    "The main motiviation for this is I wanted to test out differing hyperparameters, arhceituceres and layers but wanted to keep the orignial models for comparision to track if the changes I am making are improving or decreasing classification"
   ]
  },
  {
   "cell_type": "code",
   "execution_count": 11,
   "id": "d4a22fa8",
   "metadata": {
    "execution": {
     "iopub.execute_input": "2024-08-30T03:50:10.179286Z",
     "iopub.status.busy": "2024-08-30T03:50:10.178992Z",
     "iopub.status.idle": "2024-08-30T03:50:10.261657Z",
     "shell.execute_reply": "2024-08-30T03:50:10.260903Z"
    },
    "papermill": {
     "duration": 0.099636,
     "end_time": "2024-08-30T03:50:10.263920",
     "exception": false,
     "start_time": "2024-08-30T03:50:10.164284",
     "status": "completed"
    },
    "tags": []
   },
   "outputs": [],
   "source": [
    "class Model:\n",
    "    def __init__(self, is_training):\n",
    "        self.utilties = Utilties()\n",
    "        self.train_df = self.utilties.load_data()\n",
    "        self.model = None\n",
    "        self.epochs = None\n",
    "        self.is_training = is_training\n",
    "        \n",
    "    def find_pre_processed(self):\n",
    "        try:\n",
    "            x_ = np.load('/kaggle/working/preprocessed_x.npy')\n",
    "            y_ = np.load('/kaggle/working/preprocessed_y.npy')\n",
    "            print(\"found preprocessed_x.npy\")\n",
    "            print('found preprocessed_y.npy')\n",
    "        except Exception as e: \n",
    "            print(\"prepocessed files not found\", e)\n",
    "            x_ = np.array([])\n",
    "            y_ = np.array([])\n",
    "        return x_,y_\n",
    "        \n",
    "    '''\n",
    "    load preprocessed sets\n",
    "    this gave us valiation accuracy of ~60% and accuarcy of %70\n",
    "    '''\n",
    "    def preprocess(self):\n",
    "        if self.is_training:\n",
    "            ## atempt to fetch saved version if available\n",
    "            X,y = self.find_pre_processed()\n",
    "            if X.size == 0 and y.size == 0:\n",
    "                xs = []\n",
    "                ys = []\n",
    "                num_frames = np.zeros(len(self.train_df))\n",
    "                for i in tqdm(range(len(self.train_df))):\n",
    "                    path = f\"{DATA_PATH}{self.train_df.iloc[i].path}\"\n",
    "                    if i % 500 == 0:\n",
    "                        print('preprocessing ith datafile: ', i)\n",
    "                    data = self.utilties.load_relevant_data_subset_with_imputation(path)\n",
    "                    ## Mean Aggregation\n",
    "                    xs.append(np.mean(data, axis=0))\n",
    "                    ys.append(self.train_df.iloc[i].label)\n",
    "                    num_frames[i] = data.shape[0]\n",
    "                ## Save number of frames of each training sample for data analysis\n",
    "                X = np.array(xs)\n",
    "                y = np.array(ys)\n",
    "                np.save('preprocessed_x',X)\n",
    "                np.save('preprocessed_y',y)\n",
    "                \n",
    "        else:\n",
    "            X = np.load(f\"{self.utilties.aggregation_data_path}X.npy\")\n",
    "            y = np.load(f\"{self.utilties.aggregation_data_path}y.npy\")\n",
    "        print('x here: ', X)\n",
    "        print('y: ', y)\n",
    "        return X, y\n",
    "    \n",
    "    \n",
    "    '''\n",
    "    \n",
    "    apply data augmentation to training data to generate more data\n",
    "    \n",
    "    '''\n",
    "    def augment(self):\n",
    "        # Reshape the data into a 3D array\n",
    "        image_array = self.train_df.pivot_table(values='z', index='x', columns='y').values\n",
    "\n",
    "        # Define an augmentation pipeline\n",
    "        seq = iaa.Sequential([\n",
    "            iaa.Affine(rotate=(-45, 45)),\n",
    "            iaa.Fliplr(),\n",
    "            iaa.GaussianBlur(sigma=(0, 3.0)),\n",
    "            iaa.Crop(px=(0, 16)),\n",
    "            iaa.Resize({\"height\": 224, \"width\": 224})\n",
    "        ])\n",
    "        \n",
    "        # Apply the augmentation pipeline\n",
    "        augmented_images = []\n",
    "        for image in image_array:\n",
    "            pil_image = Image.fromarray(image.astype('uint8'))\n",
    "            augmented_pil_image = seq.augment_image(pil_image)\n",
    "            augmented_image = np.asarray(augmented_pil_image)\n",
    "            augmented_images.append(augmented_image)\n",
    "\n",
    "        # Save the augmented data to a new dataframe\n",
    "        augmented_df = pd.DataFrame({'image_data': augmented_images})\n",
    "        augmented_df.to_csv('augmented_image_data.csv', index=False)\n",
    "        return augmented_df\n",
    "\n",
    "    \n",
    "\n",
    "    '''\n",
    "    approach 1: base model approach - 4 dense layers with relu\n",
    "    '''\n",
    "    def compose(self):\n",
    "        inputs = tf.keras.Input((543, 3), dtype=tf.float32)\n",
    "        vector = tf.keras.layers.Dense(128, activation=\"relu\")(inputs)\n",
    "        vector = tf.keras.layers.Dense(64, activation=\"relu\")(vector)\n",
    "        vector = tf.keras.layers.Dense(32, activation=\"relu\")(vector)\n",
    "        vector = tf.keras.layers.Dense(16, activation=\"relu\")(vector)\n",
    "        vector = tf.keras.layers.Dropout(0.1)(vector)\n",
    "        vector = tf.keras.layers.Flatten()(vector)\n",
    "        output = tf.keras.layers.Dense(250, activation=\"softmax\")(vector)\n",
    "        model = tf.keras.Model(inputs=inputs, outputs=output)\n",
    "        model.compile(\n",
    "            loss=tf.keras.losses.SparseCategoricalCrossentropy(), \n",
    "            optimizer=tf.keras.optimizers.Adam(lr=0.000333),\n",
    "            metrics=[\"accuracy\"]\n",
    "        )\n",
    "        return model\n",
    "    \n",
    "    '''\n",
    "    approach 2: adding more layers and maxpooling\n",
    "    '''\n",
    "    def compose_2(self):\n",
    "        model = models.Sequential()\n",
    "        model.add(layers.Conv1D(64, 3, activation='relu', input_shape=(543, 3)))\n",
    "        model.add(layers.MaxPooling1D(pool_size=2))\n",
    "        model.add(layers.Conv1D(128, 3, activation='relu'))\n",
    "        model.add(layers.MaxPooling1D(pool_size=2))\n",
    "        model.add(layers.Conv1D(256, 3, activation='relu'))\n",
    "        model.add(layers.MaxPooling1D(pool_size=2))\n",
    "        model.add(layers.Conv1D(512, 3, activation='relu'))\n",
    "        model.add(layers.MaxPooling1D(pool_size=2))\n",
    "        model.add(layers.Flatten())\n",
    "        model.add(layers.Dense(512, activation='relu'))\n",
    "        model.add(layers.Dropout(0.5))\n",
    "        model.add(layers.Dense(256, activation='relu'))\n",
    "        model.add(layers.Dropout(0.5))\n",
    "        model.add(layers.Dense(250, activation='softmax'))\n",
    "\n",
    "        model.compile(optimizer=tf.keras.optimizers.Adam(lr=0.000333),\n",
    "                      loss=tf.keras.losses.SparseCategoricalCrossentropy(),\n",
    "                      metrics=['accuracy'])\n",
    "        return model\n",
    "\n",
    "    '''\n",
    "    approach 3: modification of model 1, using reLU leaky activation function\n",
    "    '''\n",
    "    def compose_3(self):\n",
    "        inputs = tf.keras.Input((543, 3), dtype=tf.float32)\n",
    "        vector = tf.keras.layers.Dense(128)(inputs)\n",
    "        vector = LeakyReLU(alpha=0.1)(vector)\n",
    "        vector = tf.keras.layers.Dense(64)(vector)\n",
    "        vector = LeakyReLU(alpha=0.1)(vector)\n",
    "        vector = tf.keras.layers.Dense(32)(vector)\n",
    "        vector = LeakyReLU(alpha=0.1)(vector)\n",
    "        vector = tf.keras.layers.Dense(16)(vector)\n",
    "        vector = LeakyReLU(alpha=0.1)(vector)\n",
    "        vector = tf.keras.layers.Dropout(0.1)(vector)\n",
    "        vector = tf.keras.layers.Flatten()(vector)\n",
    "        output = tf.keras.layers.Dense(250, activation=\"softmax\")(vector)\n",
    "\n",
    "        model = tf.keras.Model(inputs=inputs, outputs=output)\n",
    "        model.compile(\n",
    "            loss=tf.keras.losses.SparseCategoricalCrossentropy(), \n",
    "            metrics=[\"accuracy\"]\n",
    "        )\n",
    "        return model\n",
    "    \n",
    "    '''\n",
    "    approach 4: add dropout layers after each dense layer to prevent overfitting\n",
    "    '''\n",
    "    def compose_4(self):\n",
    "        inputs = tf.keras.Input((543, 3), dtype=tf.float32)\n",
    "        vector = tf.keras.layers.Dense(128, activation=\"relu\")(inputs)\n",
    "        vector = tf.keras.layers.Dropout(0.05)(vector)\n",
    "        vector = tf.keras.layers.Dense(64, activation=\"relu\")(vector)\n",
    "        vector = tf.keras.layers.Dropout(0.05)(vector)\n",
    "        vector = tf.keras.layers.Dense(32, activation=\"relu\")(vector)\n",
    "        vector = tf.keras.layers.Dropout(0.05)(vector)\n",
    "        vector = tf.keras.layers.Dense(16, activation=\"relu\")(vector)\n",
    "        vector = tf.keras.layers.Dropout(0.05)(vector)\n",
    "        vector = tf.keras.layers.Flatten()(vector)\n",
    "        output = tf.keras.layers.Dense(250, activation=\"softmax\")(vector)\n",
    "        model = tf.keras.Model(inputs=inputs, outputs=output)\n",
    "        model.compile(\n",
    "            loss=tf.keras.losses.SparseCategoricalCrossentropy(), \n",
    "            metrics=[\"accuracy\"]\n",
    "        )\n",
    "        return model\n",
    "    \n",
    "    \n",
    "    '''\n",
    "    approach 6: dropout and ReLU leaky\n",
    "    '''\n",
    "    def compose_6(self):\n",
    "        inputs = tf.keras.Input((543, 3), dtype=tf.float32)\n",
    "        vector = tf.keras.layers.Dense(128, activation=tf.keras.layers.LeakyReLU(alpha=0.2))(inputs)\n",
    "        vector = tf.keras.layers.Dense(64, activation=tf.keras.layers.LeakyReLU(alpha=0.2))(vector)\n",
    "        vector = tf.keras.layers.Dense(32, activation=tf.keras.layers.LeakyReLU(alpha=0.2))(vector)\n",
    "        vector = tf.keras.layers.Dense(16, activation=tf.keras.layers.LeakyReLU(alpha=0.2))(vector)\n",
    "        vector = tf.keras.layers.Dropout(0.05)(vector)\n",
    "        vector = tf.keras.layers.Flatten()(vector)\n",
    "        output = tf.keras.layers.Dense(250, activation=\"softmax\")(vector)\n",
    "        model = tf.keras.Model(inputs=inputs, outputs=output)\n",
    "        model.compile(\n",
    "            loss=tf.keras.losses.SparseCategoricalCrossentropy(), \n",
    "            metrics=[\"accuracy\"]\n",
    "        )\n",
    "        return model\n",
    "    \n",
    "    \n",
    "        \n",
    "    '''\n",
    "    approach 7: add batch normalization and use gelu activation function\n",
    "    '''\n",
    "    def compose_7(self):\n",
    "        inputs = tf.keras.Input((543, 3), dtype=tf.float32)\n",
    "        x = tf.keras.layers.Dense(128)(inputs)\n",
    "        x = tf.keras.layers.BatchNormalization()(x)\n",
    "        x = tf.keras.layers.Activation(\"gelu\")(x)\n",
    "        x = tf.keras.layers.Dropout(0.05)(x)\n",
    "        x = tf.keras.layers.Dense(64)(inputs)\n",
    "        x = tf.keras.layers.BatchNormalization()(x)\n",
    "        x = tf.keras.layers.Activation(\"gelu\")(x)\n",
    "        x = tf.keras.layers.Dropout(0.2)(x)\n",
    "        x = tf.keras.layers.Flatten()(x)\n",
    "        output = tf.keras.layers.Dense(250, activation=\"softmax\")(x)\n",
    "        model = tf.keras.Model(inputs=inputs, outputs=output)\n",
    "        model.compile(\n",
    "            loss=tf.keras.losses.SparseCategoricalCrossentropy(), \n",
    "            metrics=[\"accuracy\"]\n",
    "        )\n",
    "        return model\n",
    "    \n",
    "            \n",
    "    '''\n",
    "    approach 8: use convolutional layers\n",
    "    '''\n",
    "    def compose_8(self):\n",
    "        inputs = tf.keras.Input((543, 3), dtype=tf.float32)\n",
    "        x = tf.keras.layers.Conv1D(32, kernel_size=3, activation=\"relu\")(inputs)\n",
    "        x = tf.keras.layers.MaxPooling1D(pool_size=2)(x)\n",
    "        x = tf.keras.layers.Conv1D(64, kernel_size=3, activation=\"relu\")(x)\n",
    "        x = tf.keras.layers.MaxPooling1D(pool_size=2)(x)\n",
    "        x = tf.keras.layers.Conv1D(128, kernel_size=3, activation=\"relu\")(x)\n",
    "        x = tf.keras.layers.MaxPooling1D(pool_size=2)(x)\n",
    "        x = tf.keras.layers.Flatten()(x)\n",
    "        x = tf.keras.layers.Dense(128, activation=\"relu\")(x)\n",
    "        x = tf.keras.layers.Dense(64, activation=\"relu\")(x)\n",
    "        x = tf.keras.layers.Dropout(0.1)(x)\n",
    "        output = tf.keras.layers.Dense(250, activation=\"softmax\")(x)\n",
    "        model = tf.keras.Model(inputs=inputs, outputs=output)\n",
    "        model.compile(\n",
    "            loss=tf.keras.losses.SparseCategoricalCrossentropy(), \n",
    "            optimizer=tf.keras.optimizers.Adam(lr=0.000333),\n",
    "            metrics=[\"accuracy\"]\n",
    "        )\n",
    "        return model\n",
    "    \n",
    "    \n",
    "    '''\n",
    "    approach 9: convolutional with leaky reLU\n",
    "    '''\n",
    "    def compose_9(self):\n",
    "        inputs = tf.keras.Input((543, 3), dtype=tf.float32)\n",
    "        x = tf.keras.layers.Conv1D(32, kernel_size=3, activation=tf.keras.layers.LeakyReLU(alpha=0.2))(inputs)\n",
    "        x = tf.keras.layers.MaxPooling1D(pool_size=2)(x)\n",
    "        x = tf.keras.layers.Conv1D(64, kernel_size=3, activation=tf.keras.layers.LeakyReLU(alpha=0.2))(x)\n",
    "        x = tf.keras.layers.MaxPooling1D(pool_size=2)(x)\n",
    "        x = tf.keras.layers.Conv1D(128, kernel_size=3, activation=tf.keras.layers.LeakyReLU(alpha=0.2))(x)\n",
    "        x = tf.keras.layers.MaxPooling1D(pool_size=2)(x)\n",
    "        x = tf.keras.layers.Flatten()(x)\n",
    "        x = tf.keras.layers.Dense(128, activation=tf.keras.layers.LeakyReLU(alpha=0.2))(x)\n",
    "        x = tf.keras.layers.Dense(64, activation=tf.keras.layers.LeakyReLU(alpha=0.2))(x)\n",
    "        x = tf.keras.layers.Dropout(0.1)(x)\n",
    "        output = tf.keras.layers.Dense(250, activation=\"softmax\")(x)\n",
    "        model = tf.keras.Model(inputs=inputs, outputs=output)\n",
    "        model.compile(\n",
    "            loss=tf.keras.losses.SparseCategoricalCrossentropy(), \n",
    "            optimizer=tf.keras.optimizers.Adam(lr=0.000333),\n",
    "            metrics=[\"accuracy\"]\n",
    "        )\n",
    "        return model\n",
    "    \n",
    "    '''\n",
    "    approach 10: convolutional with leaky reLU, reduce number of layers to reduce complexity to avoid overfitting\n",
    "    '''\n",
    "    def compose_10(self):\n",
    "        inputs = tf.keras.Input((543, 3), dtype=tf.float32)\n",
    "        x = tf.keras.layers.Conv1D(32, kernel_size=3, activation=tf.keras.layers.LeakyReLU(alpha=0.2))(inputs)\n",
    "        x = tf.keras.layers.MaxPooling1D(pool_size=2)(x)\n",
    "        x = tf.keras.layers.Conv1D(64, kernel_size=3, activation=tf.keras.layers.LeakyReLU(alpha=0.2))(x)\n",
    "        x = tf.keras.layers.MaxPooling1D(pool_size=2)(x)\n",
    "        x = tf.keras.layers.Flatten()(x)\n",
    "        x = tf.keras.layers.Dense(128, activation=tf.keras.layers.LeakyReLU(alpha=0.2))(x)\n",
    "        x = tf.keras.layers.Dropout(0.1)(x)\n",
    "        output = tf.keras.layers.Dense(250, activation=\"softmax\")(x)\n",
    "        model = tf.keras.Model(inputs=inputs, outputs=output)\n",
    "        model.compile(\n",
    "            loss=tf.keras.losses.SparseCategoricalCrossentropy(), \n",
    "            optimizer=tf.keras.optimizers.Adam(lr=0.000333),\n",
    "            metrics=[\"accuracy\"]\n",
    "        )\n",
    "        return model\n",
    "    \n",
    "    def train_helper(self, X, y, model, batch_size):\n",
    "        X_train, X_val, y_train, y_val = train_test_split(X, y, test_size=0.2, random_state=42, stratify=y)\n",
    "        del X, y\n",
    "        gc.collect()\n",
    "        callbacks = [\n",
    "            tf.keras.callbacks.ModelCheckpoint('model_checkpoint.h5', save_best_only=True, restore_best_weights=True, monitor=\"val_accuracy\", mode=\"max\"),\n",
    "            tf.keras.callbacks.History(),\n",
    "            tf.keras.callbacks.EarlyStopping(patience=20, restore_best_weights=True, verbose=1),\n",
    "            tf.keras.callbacks.ReduceLROnPlateau(patience=2, factor=0.8, verbose=1)\n",
    "        ]\n",
    "        history = model.fit(X_train, y_train, epochs=self.epochs, validation_data=(X_val, y_val), batch_size=batch_size, callbacks=callbacks)\n",
    "        return history\n",
    "    \n",
    "    def train(self, X, y, model, epochs, batch_size):\n",
    "        self.epochs = epochs\n",
    "        model = self.train_helper(X, y, model, batch_size)\n",
    "        return model       \n",
    "    \n",
    "    '''\n",
    "    save model with given filename\n",
    "    '''\n",
    "    def save(self, model, filename):\n",
    "        with open(filename, 'wb') as file:  \n",
    "            pickle.dump(model, file)\n",
    "            \n",
    "    '''\n",
    "    check if model has already been trained/saved, if so take it from output directory\n",
    "    '''\n",
    "    def load(self, epochs):\n",
    "        loaded_model = None\n",
    "        try:\n",
    "            # check if existing trained model already exists\n",
    "            file_name = f\"/kaggle/working/trained_model_{epochs}_epochs.pkl\"\n",
    "            with open(file_name, 'rb') as file:  \n",
    "                print(\"found pre-existing model for \", epochs, ' epochs ! ')\n",
    "                loaded_model = pickle.load(file)\n",
    "        except:\n",
    "            print('model not found')\n",
    "        return loaded_model"
   ]
  },
  {
   "cell_type": "markdown",
   "id": "198b5bce",
   "metadata": {
    "papermill": {
     "duration": 0.012972,
     "end_time": "2024-08-30T03:50:10.290061",
     "exception": false,
     "start_time": "2024-08-30T03:50:10.277089",
     "status": "completed"
    },
    "tags": []
   },
   "source": [
    "# <font color='289C4E'>6. Define Evaluation class <font><a class='anchor' id='evaluation_class'></a> [↑](#top)\n",
    "    \n",
    "    \n",
    "This is a helper class utlized to plot model accuracy and validation during the evlauation step after training"
   ]
  },
  {
   "cell_type": "code",
   "execution_count": 12,
   "id": "3960880c",
   "metadata": {
    "execution": {
     "iopub.execute_input": "2024-08-30T03:50:10.317924Z",
     "iopub.status.busy": "2024-08-30T03:50:10.317356Z",
     "iopub.status.idle": "2024-08-30T03:50:10.332177Z",
     "shell.execute_reply": "2024-08-30T03:50:10.331213Z"
    },
    "papermill": {
     "duration": 0.031378,
     "end_time": "2024-08-30T03:50:10.334438",
     "exception": false,
     "start_time": "2024-08-30T03:50:10.303060",
     "status": "completed"
    },
    "tags": []
   },
   "outputs": [],
   "source": [
    "class Evaluate:\n",
    "    '''\n",
    "    for each model history, plot accuracy and loss graphs\n",
    "    '''\n",
    "    def plot_valdiation_multiple_models(self, histories):\n",
    "        fig, axs = plt.subplots(len(histories), 2, figsize=(12, 6*len(histories)))\n",
    "        for i, history in enumerate(histories):\n",
    "            # plot training and validation accuracy\n",
    "            axs[i, 0].plot(history.history['accuracy'])\n",
    "            axs[i, 0].plot(history.history['val_accuracy'])\n",
    "            axs[i, 0].set_title('Model ' + str(i+1) + ' Accuracy')\n",
    "            axs[i, 0].legend(['train', 'val'], loc='upper left')\n",
    "\n",
    "            # plot training and validation loss\n",
    "            axs[i, 1].plot(history.history['loss'])\n",
    "            axs[i, 1].plot(history.history['val_loss'])\n",
    "            axs[i, 1].set_title('Model ' + str(i+1) + ' Loss')\n",
    "            axs[i, 1].legend(['train', 'val'], loc='upper left')\n",
    "        plt.show()\n",
    "        \n",
    "    '''\n",
    "    plot training and validation accuracy plots for all models on one graph\n",
    "    '''\n",
    "    def plot_validation_cumlative(self, histories):\n",
    "        model_names = ['model_' + str(i+1) for i,_ in enumerate(histories)]  # list of model names for legend\n",
    "\n",
    "        # plot training and validation accuracy for each model\n",
    "        plt.figure(figsize=(8, 6))\n",
    "        for i, history in enumerate(histories):\n",
    "            plt.plot(history.history['accuracy'], color='C'+str(i))\n",
    "            plt.plot(history.history['val_accuracy'], label=model_names[i] + ' validation', color='C'+str(i), linestyle='dashed')\n",
    "\n",
    "        # set plot title and labels\n",
    "        plt.title('Training and Validation Accuracy')\n",
    "        plt.xlabel('Epochs')\n",
    "        plt.ylabel('Accuracy')\n",
    "        plt.legend(loc='lower right')\n",
    "\n",
    "        # show the plot\n",
    "        plt.show()\n",
    "        \n",
    "    def decoder(self, x):\n",
    "        return sign_prediction_index_map.get(x)\n",
    "    \n",
    "    \n",
    "    def get_dataset_signs(self, train_df):\n",
    "        pass\n",
    "        \n",
    "    "
   ]
  },
  {
   "cell_type": "markdown",
   "id": "808a4299",
   "metadata": {
    "papermill": {
     "duration": 0.01293,
     "end_time": "2024-08-30T03:50:10.360602",
     "exception": false,
     "start_time": "2024-08-30T03:50:10.347672",
     "status": "completed"
    },
    "tags": []
   },
   "source": [
    "# <font color='289C4E'>7. Train models <font><a class='anchor' id='train'></a> [↑](#top)\n",
    "    \n",
    "Here, we will go through each of the 10 tensorflow models defined in the above Models class, train them on speecified epochs, and save the model and its history\n",
    "    \n",
    "    \n"
   ]
  },
  {
   "cell_type": "code",
   "execution_count": 13,
   "id": "1dd450f8",
   "metadata": {
    "execution": {
     "iopub.execute_input": "2024-08-30T03:50:10.388046Z",
     "iopub.status.busy": "2024-08-30T03:50:10.387743Z",
     "iopub.status.idle": "2024-08-30T04:34:33.879095Z",
     "shell.execute_reply": "2024-08-30T04:34:33.878198Z"
    },
    "papermill": {
     "duration": 2663.507666,
     "end_time": "2024-08-30T04:34:33.881325",
     "exception": false,
     "start_time": "2024-08-30T03:50:10.373659",
     "status": "completed"
    },
    "tags": []
   },
   "outputs": [
    {
     "name": "stdout",
     "output_type": "stream",
     "text": [
      "prepocessed files not found [Errno 2] No such file or directory: '/kaggle/working/preprocessed_x.npy'\n"
     ]
    },
    {
     "name": "stderr",
     "output_type": "stream",
     "text": [
      "  0%|          | 4/94477 [00:00<45:04, 34.93it/s]"
     ]
    },
    {
     "name": "stdout",
     "output_type": "stream",
     "text": [
      "preprocessing ith datafile:  0\n"
     ]
    },
    {
     "name": "stderr",
     "output_type": "stream",
     "text": [
      "  1%|          | 507/94477 [00:09<33:50, 46.29it/s]"
     ]
    },
    {
     "name": "stdout",
     "output_type": "stream",
     "text": [
      "preprocessing ith datafile:  500\n"
     ]
    },
    {
     "name": "stderr",
     "output_type": "stream",
     "text": [
      "  1%|          | 1008/94477 [00:18<26:07, 59.62it/s]"
     ]
    },
    {
     "name": "stdout",
     "output_type": "stream",
     "text": [
      "preprocessing ith datafile:  1000\n"
     ]
    },
    {
     "name": "stderr",
     "output_type": "stream",
     "text": [
      "  2%|▏         | 1509/94477 [00:27<26:00, 59.56it/s]"
     ]
    },
    {
     "name": "stdout",
     "output_type": "stream",
     "text": [
      "preprocessing ith datafile:  1500\n"
     ]
    },
    {
     "name": "stderr",
     "output_type": "stream",
     "text": [
      "  2%|▏         | 2011/94477 [00:35<26:56, 57.22it/s]"
     ]
    },
    {
     "name": "stdout",
     "output_type": "stream",
     "text": [
      "preprocessing ith datafile:  2000\n"
     ]
    },
    {
     "name": "stderr",
     "output_type": "stream",
     "text": [
      "  3%|▎         | 2512/94477 [00:44<26:28, 57.90it/s]"
     ]
    },
    {
     "name": "stdout",
     "output_type": "stream",
     "text": [
      "preprocessing ith datafile:  2500\n"
     ]
    },
    {
     "name": "stderr",
     "output_type": "stream",
     "text": [
      "  3%|▎         | 3010/94477 [00:53<24:40, 61.77it/s]"
     ]
    },
    {
     "name": "stdout",
     "output_type": "stream",
     "text": [
      "preprocessing ith datafile:  3000\n"
     ]
    },
    {
     "name": "stderr",
     "output_type": "stream",
     "text": [
      "  4%|▎         | 3506/94477 [01:02<24:10, 62.73it/s]"
     ]
    },
    {
     "name": "stdout",
     "output_type": "stream",
     "text": [
      "preprocessing ith datafile:  3500\n"
     ]
    },
    {
     "name": "stderr",
     "output_type": "stream",
     "text": [
      "  4%|▍         | 4009/94477 [01:10<24:36, 61.26it/s]"
     ]
    },
    {
     "name": "stdout",
     "output_type": "stream",
     "text": [
      "preprocessing ith datafile:  4000\n"
     ]
    },
    {
     "name": "stderr",
     "output_type": "stream",
     "text": [
      "  5%|▍         | 4507/94477 [01:19<26:18, 56.98it/s]"
     ]
    },
    {
     "name": "stdout",
     "output_type": "stream",
     "text": [
      "preprocessing ith datafile:  4500\n"
     ]
    },
    {
     "name": "stderr",
     "output_type": "stream",
     "text": [
      "  5%|▌         | 5006/94477 [01:27<24:26, 61.00it/s]"
     ]
    },
    {
     "name": "stdout",
     "output_type": "stream",
     "text": [
      "preprocessing ith datafile:  5000\n"
     ]
    },
    {
     "name": "stderr",
     "output_type": "stream",
     "text": [
      "  6%|▌         | 5509/94477 [01:36<24:31, 60.45it/s]"
     ]
    },
    {
     "name": "stdout",
     "output_type": "stream",
     "text": [
      "preprocessing ith datafile:  5500\n"
     ]
    },
    {
     "name": "stderr",
     "output_type": "stream",
     "text": [
      "  6%|▋         | 6009/94477 [01:44<28:10, 52.35it/s]"
     ]
    },
    {
     "name": "stdout",
     "output_type": "stream",
     "text": [
      "preprocessing ith datafile:  6000\n"
     ]
    },
    {
     "name": "stderr",
     "output_type": "stream",
     "text": [
      "  7%|▋         | 6506/94477 [01:53<24:47, 59.15it/s]"
     ]
    },
    {
     "name": "stdout",
     "output_type": "stream",
     "text": [
      "preprocessing ith datafile:  6500\n"
     ]
    },
    {
     "name": "stderr",
     "output_type": "stream",
     "text": [
      "  7%|▋         | 7011/94477 [02:02<23:13, 62.78it/s]"
     ]
    },
    {
     "name": "stdout",
     "output_type": "stream",
     "text": [
      "preprocessing ith datafile:  7000\n"
     ]
    },
    {
     "name": "stderr",
     "output_type": "stream",
     "text": [
      "  8%|▊         | 7510/94477 [02:10<24:46, 58.50it/s]"
     ]
    },
    {
     "name": "stdout",
     "output_type": "stream",
     "text": [
      "preprocessing ith datafile:  7500\n"
     ]
    },
    {
     "name": "stderr",
     "output_type": "stream",
     "text": [
      "  8%|▊         | 8013/94477 [02:18<20:05, 71.75it/s]"
     ]
    },
    {
     "name": "stdout",
     "output_type": "stream",
     "text": [
      "preprocessing ith datafile:  8000\n"
     ]
    },
    {
     "name": "stderr",
     "output_type": "stream",
     "text": [
      "  9%|▉         | 8511/94477 [02:26<22:57, 62.41it/s]"
     ]
    },
    {
     "name": "stdout",
     "output_type": "stream",
     "text": [
      "preprocessing ith datafile:  8500\n"
     ]
    },
    {
     "name": "stderr",
     "output_type": "stream",
     "text": [
      " 10%|▉         | 9007/94477 [02:34<23:32, 60.50it/s]"
     ]
    },
    {
     "name": "stdout",
     "output_type": "stream",
     "text": [
      "preprocessing ith datafile:  9000\n"
     ]
    },
    {
     "name": "stderr",
     "output_type": "stream",
     "text": [
      " 10%|█         | 9513/94477 [02:42<21:59, 64.40it/s]"
     ]
    },
    {
     "name": "stdout",
     "output_type": "stream",
     "text": [
      "preprocessing ith datafile:  9500\n"
     ]
    },
    {
     "name": "stderr",
     "output_type": "stream",
     "text": [
      " 11%|█         | 10007/94477 [02:51<20:02, 70.24it/s]"
     ]
    },
    {
     "name": "stdout",
     "output_type": "stream",
     "text": [
      "preprocessing ith datafile:  10000\n"
     ]
    },
    {
     "name": "stderr",
     "output_type": "stream",
     "text": [
      " 11%|█         | 10508/94477 [02:59<25:13, 55.48it/s]"
     ]
    },
    {
     "name": "stdout",
     "output_type": "stream",
     "text": [
      "preprocessing ith datafile:  10500\n"
     ]
    },
    {
     "name": "stderr",
     "output_type": "stream",
     "text": [
      " 12%|█▏        | 11005/94477 [03:07<26:33, 52.37it/s]"
     ]
    },
    {
     "name": "stdout",
     "output_type": "stream",
     "text": [
      "preprocessing ith datafile:  11000\n"
     ]
    },
    {
     "name": "stderr",
     "output_type": "stream",
     "text": [
      " 12%|█▏        | 11508/94477 [03:16<20:21, 67.94it/s]"
     ]
    },
    {
     "name": "stdout",
     "output_type": "stream",
     "text": [
      "preprocessing ith datafile:  11500\n"
     ]
    },
    {
     "name": "stderr",
     "output_type": "stream",
     "text": [
      " 13%|█▎        | 12005/94477 [03:24<23:06, 59.47it/s]"
     ]
    },
    {
     "name": "stdout",
     "output_type": "stream",
     "text": [
      "preprocessing ith datafile:  12000\n"
     ]
    },
    {
     "name": "stderr",
     "output_type": "stream",
     "text": [
      " 13%|█▎        | 12507/94477 [03:32<23:24, 58.34it/s]"
     ]
    },
    {
     "name": "stdout",
     "output_type": "stream",
     "text": [
      "preprocessing ith datafile:  12500\n"
     ]
    },
    {
     "name": "stderr",
     "output_type": "stream",
     "text": [
      " 14%|█▍        | 13011/94477 [03:41<22:45, 59.65it/s]"
     ]
    },
    {
     "name": "stdout",
     "output_type": "stream",
     "text": [
      "preprocessing ith datafile:  13000\n"
     ]
    },
    {
     "name": "stderr",
     "output_type": "stream",
     "text": [
      " 14%|█▍        | 13512/94477 [03:49<21:51, 61.71it/s]"
     ]
    },
    {
     "name": "stdout",
     "output_type": "stream",
     "text": [
      "preprocessing ith datafile:  13500\n"
     ]
    },
    {
     "name": "stderr",
     "output_type": "stream",
     "text": [
      " 15%|█▍        | 14014/94477 [03:58<20:18, 66.02it/s]"
     ]
    },
    {
     "name": "stdout",
     "output_type": "stream",
     "text": [
      "preprocessing ith datafile:  14000\n"
     ]
    },
    {
     "name": "stderr",
     "output_type": "stream",
     "text": [
      " 15%|█▌        | 14508/94477 [04:06<21:04, 63.22it/s]"
     ]
    },
    {
     "name": "stdout",
     "output_type": "stream",
     "text": [
      "preprocessing ith datafile:  14500\n"
     ]
    },
    {
     "name": "stderr",
     "output_type": "stream",
     "text": [
      " 16%|█▌        | 15008/94477 [04:15<23:43, 55.81it/s]"
     ]
    },
    {
     "name": "stdout",
     "output_type": "stream",
     "text": [
      "preprocessing ith datafile:  15000\n"
     ]
    },
    {
     "name": "stderr",
     "output_type": "stream",
     "text": [
      " 16%|█▋        | 15505/94477 [04:23<23:34, 55.82it/s]"
     ]
    },
    {
     "name": "stdout",
     "output_type": "stream",
     "text": [
      "preprocessing ith datafile:  15500\n"
     ]
    },
    {
     "name": "stderr",
     "output_type": "stream",
     "text": [
      " 17%|█▋        | 16007/94477 [04:31<26:35, 49.19it/s]"
     ]
    },
    {
     "name": "stdout",
     "output_type": "stream",
     "text": [
      "preprocessing ith datafile:  16000\n"
     ]
    },
    {
     "name": "stderr",
     "output_type": "stream",
     "text": [
      " 17%|█▋        | 16509/94477 [04:39<20:17, 64.03it/s]"
     ]
    },
    {
     "name": "stdout",
     "output_type": "stream",
     "text": [
      "preprocessing ith datafile:  16500\n"
     ]
    },
    {
     "name": "stderr",
     "output_type": "stream",
     "text": [
      " 18%|█▊        | 17008/94477 [04:48<23:01, 56.09it/s]"
     ]
    },
    {
     "name": "stdout",
     "output_type": "stream",
     "text": [
      "preprocessing ith datafile:  17000\n"
     ]
    },
    {
     "name": "stderr",
     "output_type": "stream",
     "text": [
      " 19%|█▊        | 17508/94477 [04:56<20:18, 63.19it/s]"
     ]
    },
    {
     "name": "stdout",
     "output_type": "stream",
     "text": [
      "preprocessing ith datafile:  17500\n"
     ]
    },
    {
     "name": "stderr",
     "output_type": "stream",
     "text": [
      " 19%|█▉        | 18008/94477 [05:05<19:55, 63.97it/s]"
     ]
    },
    {
     "name": "stdout",
     "output_type": "stream",
     "text": [
      "preprocessing ith datafile:  18000\n"
     ]
    },
    {
     "name": "stderr",
     "output_type": "stream",
     "text": [
      " 20%|█▉        | 18509/94477 [05:13<21:34, 58.66it/s]"
     ]
    },
    {
     "name": "stdout",
     "output_type": "stream",
     "text": [
      "preprocessing ith datafile:  18500\n"
     ]
    },
    {
     "name": "stderr",
     "output_type": "stream",
     "text": [
      " 20%|██        | 19008/94477 [05:22<21:13, 59.25it/s]"
     ]
    },
    {
     "name": "stdout",
     "output_type": "stream",
     "text": [
      "preprocessing ith datafile:  19000\n"
     ]
    },
    {
     "name": "stderr",
     "output_type": "stream",
     "text": [
      " 21%|██        | 19513/94477 [05:30<17:11, 72.68it/s]"
     ]
    },
    {
     "name": "stdout",
     "output_type": "stream",
     "text": [
      "preprocessing ith datafile:  19500\n"
     ]
    },
    {
     "name": "stderr",
     "output_type": "stream",
     "text": [
      " 21%|██        | 20009/94477 [05:38<19:21, 64.11it/s]"
     ]
    },
    {
     "name": "stdout",
     "output_type": "stream",
     "text": [
      "preprocessing ith datafile:  20000\n"
     ]
    },
    {
     "name": "stderr",
     "output_type": "stream",
     "text": [
      " 22%|██▏       | 20510/94477 [05:46<19:57, 61.78it/s]"
     ]
    },
    {
     "name": "stdout",
     "output_type": "stream",
     "text": [
      "preprocessing ith datafile:  20500\n"
     ]
    },
    {
     "name": "stderr",
     "output_type": "stream",
     "text": [
      " 22%|██▏       | 21011/94477 [05:55<19:43, 62.07it/s]"
     ]
    },
    {
     "name": "stdout",
     "output_type": "stream",
     "text": [
      "preprocessing ith datafile:  21000\n"
     ]
    },
    {
     "name": "stderr",
     "output_type": "stream",
     "text": [
      " 23%|██▎       | 21512/94477 [06:03<19:18, 62.99it/s]"
     ]
    },
    {
     "name": "stdout",
     "output_type": "stream",
     "text": [
      "preprocessing ith datafile:  21500\n"
     ]
    },
    {
     "name": "stderr",
     "output_type": "stream",
     "text": [
      " 23%|██▎       | 22011/94477 [06:12<22:26, 53.80it/s]"
     ]
    },
    {
     "name": "stdout",
     "output_type": "stream",
     "text": [
      "preprocessing ith datafile:  22000\n"
     ]
    },
    {
     "name": "stderr",
     "output_type": "stream",
     "text": [
      " 24%|██▍       | 22508/94477 [06:20<18:50, 63.64it/s]"
     ]
    },
    {
     "name": "stdout",
     "output_type": "stream",
     "text": [
      "preprocessing ith datafile:  22500\n"
     ]
    },
    {
     "name": "stderr",
     "output_type": "stream",
     "text": [
      " 24%|██▍       | 23007/94477 [06:28<19:01, 62.64it/s]"
     ]
    },
    {
     "name": "stdout",
     "output_type": "stream",
     "text": [
      "preprocessing ith datafile:  23000\n"
     ]
    },
    {
     "name": "stderr",
     "output_type": "stream",
     "text": [
      " 25%|██▍       | 23511/94477 [06:37<20:21, 58.08it/s]"
     ]
    },
    {
     "name": "stdout",
     "output_type": "stream",
     "text": [
      "preprocessing ith datafile:  23500\n"
     ]
    },
    {
     "name": "stderr",
     "output_type": "stream",
     "text": [
      " 25%|██▌       | 24009/94477 [06:46<20:22, 57.63it/s]"
     ]
    },
    {
     "name": "stdout",
     "output_type": "stream",
     "text": [
      "preprocessing ith datafile:  24000\n"
     ]
    },
    {
     "name": "stderr",
     "output_type": "stream",
     "text": [
      " 26%|██▌       | 24511/94477 [06:54<20:34, 56.70it/s]"
     ]
    },
    {
     "name": "stdout",
     "output_type": "stream",
     "text": [
      "preprocessing ith datafile:  24500\n"
     ]
    },
    {
     "name": "stderr",
     "output_type": "stream",
     "text": [
      " 26%|██▋       | 25006/94477 [07:02<17:05, 67.74it/s]"
     ]
    },
    {
     "name": "stdout",
     "output_type": "stream",
     "text": [
      "preprocessing ith datafile:  25000\n"
     ]
    },
    {
     "name": "stderr",
     "output_type": "stream",
     "text": [
      " 27%|██▋       | 25509/94477 [07:10<21:38, 53.11it/s]"
     ]
    },
    {
     "name": "stdout",
     "output_type": "stream",
     "text": [
      "preprocessing ith datafile:  25500\n"
     ]
    },
    {
     "name": "stderr",
     "output_type": "stream",
     "text": [
      " 28%|██▊       | 26008/94477 [07:19<17:11, 66.39it/s]"
     ]
    },
    {
     "name": "stdout",
     "output_type": "stream",
     "text": [
      "preprocessing ith datafile:  26000\n"
     ]
    },
    {
     "name": "stderr",
     "output_type": "stream",
     "text": [
      " 28%|██▊       | 26510/94477 [07:27<18:15, 62.03it/s]"
     ]
    },
    {
     "name": "stdout",
     "output_type": "stream",
     "text": [
      "preprocessing ith datafile:  26500\n"
     ]
    },
    {
     "name": "stderr",
     "output_type": "stream",
     "text": [
      " 29%|██▊       | 27011/94477 [07:35<18:27, 60.91it/s]"
     ]
    },
    {
     "name": "stdout",
     "output_type": "stream",
     "text": [
      "preprocessing ith datafile:  27000\n"
     ]
    },
    {
     "name": "stderr",
     "output_type": "stream",
     "text": [
      " 29%|██▉       | 27508/94477 [07:44<19:46, 56.43it/s]"
     ]
    },
    {
     "name": "stdout",
     "output_type": "stream",
     "text": [
      "preprocessing ith datafile:  27500\n"
     ]
    },
    {
     "name": "stderr",
     "output_type": "stream",
     "text": [
      " 30%|██▉       | 28007/94477 [07:52<17:37, 62.85it/s]"
     ]
    },
    {
     "name": "stdout",
     "output_type": "stream",
     "text": [
      "preprocessing ith datafile:  28000\n"
     ]
    },
    {
     "name": "stderr",
     "output_type": "stream",
     "text": [
      " 30%|███       | 28508/94477 [08:00<17:21, 63.31it/s]"
     ]
    },
    {
     "name": "stdout",
     "output_type": "stream",
     "text": [
      "preprocessing ith datafile:  28500\n"
     ]
    },
    {
     "name": "stderr",
     "output_type": "stream",
     "text": [
      " 31%|███       | 29013/94477 [08:08<16:12, 67.31it/s]"
     ]
    },
    {
     "name": "stdout",
     "output_type": "stream",
     "text": [
      "preprocessing ith datafile:  29000\n"
     ]
    },
    {
     "name": "stderr",
     "output_type": "stream",
     "text": [
      " 31%|███       | 29511/94477 [08:16<17:27, 62.04it/s]"
     ]
    },
    {
     "name": "stdout",
     "output_type": "stream",
     "text": [
      "preprocessing ith datafile:  29500\n"
     ]
    },
    {
     "name": "stderr",
     "output_type": "stream",
     "text": [
      " 32%|███▏      | 30008/94477 [08:24<16:18, 65.86it/s]"
     ]
    },
    {
     "name": "stdout",
     "output_type": "stream",
     "text": [
      "preprocessing ith datafile:  30000\n"
     ]
    },
    {
     "name": "stderr",
     "output_type": "stream",
     "text": [
      " 32%|███▏      | 30510/94477 [08:32<16:21, 65.20it/s]"
     ]
    },
    {
     "name": "stdout",
     "output_type": "stream",
     "text": [
      "preprocessing ith datafile:  30500\n"
     ]
    },
    {
     "name": "stderr",
     "output_type": "stream",
     "text": [
      " 33%|███▎      | 31009/94477 [08:41<16:30, 64.07it/s]"
     ]
    },
    {
     "name": "stdout",
     "output_type": "stream",
     "text": [
      "preprocessing ith datafile:  31000\n"
     ]
    },
    {
     "name": "stderr",
     "output_type": "stream",
     "text": [
      " 33%|███▎      | 31507/94477 [08:49<19:20, 54.27it/s]"
     ]
    },
    {
     "name": "stdout",
     "output_type": "stream",
     "text": [
      "preprocessing ith datafile:  31500\n"
     ]
    },
    {
     "name": "stderr",
     "output_type": "stream",
     "text": [
      " 34%|███▍      | 32010/94477 [08:58<16:13, 64.20it/s]"
     ]
    },
    {
     "name": "stdout",
     "output_type": "stream",
     "text": [
      "preprocessing ith datafile:  32000\n"
     ]
    },
    {
     "name": "stderr",
     "output_type": "stream",
     "text": [
      " 34%|███▍      | 32511/94477 [09:06<15:30, 66.57it/s]"
     ]
    },
    {
     "name": "stdout",
     "output_type": "stream",
     "text": [
      "preprocessing ith datafile:  32500\n"
     ]
    },
    {
     "name": "stderr",
     "output_type": "stream",
     "text": [
      " 35%|███▍      | 33004/94477 [09:14<17:02, 60.11it/s]"
     ]
    },
    {
     "name": "stdout",
     "output_type": "stream",
     "text": [
      "preprocessing ith datafile:  33000\n"
     ]
    },
    {
     "name": "stderr",
     "output_type": "stream",
     "text": [
      " 35%|███▌      | 33506/94477 [09:22<15:20, 66.22it/s]"
     ]
    },
    {
     "name": "stdout",
     "output_type": "stream",
     "text": [
      "preprocessing ith datafile:  33500\n"
     ]
    },
    {
     "name": "stderr",
     "output_type": "stream",
     "text": [
      " 36%|███▌      | 34007/94477 [09:30<17:11, 58.61it/s]"
     ]
    },
    {
     "name": "stdout",
     "output_type": "stream",
     "text": [
      "preprocessing ith datafile:  34000\n"
     ]
    },
    {
     "name": "stderr",
     "output_type": "stream",
     "text": [
      " 37%|███▋      | 34509/94477 [09:39<16:05, 62.11it/s]"
     ]
    },
    {
     "name": "stdout",
     "output_type": "stream",
     "text": [
      "preprocessing ith datafile:  34500\n"
     ]
    },
    {
     "name": "stderr",
     "output_type": "stream",
     "text": [
      " 37%|███▋      | 35005/94477 [09:47<16:28, 60.17it/s]"
     ]
    },
    {
     "name": "stdout",
     "output_type": "stream",
     "text": [
      "preprocessing ith datafile:  35000\n"
     ]
    },
    {
     "name": "stderr",
     "output_type": "stream",
     "text": [
      " 38%|███▊      | 35511/94477 [09:56<17:38, 55.70it/s]"
     ]
    },
    {
     "name": "stdout",
     "output_type": "stream",
     "text": [
      "preprocessing ith datafile:  35500\n"
     ]
    },
    {
     "name": "stderr",
     "output_type": "stream",
     "text": [
      " 38%|███▊      | 36004/94477 [10:04<18:03, 53.99it/s]"
     ]
    },
    {
     "name": "stdout",
     "output_type": "stream",
     "text": [
      "preprocessing ith datafile:  36000\n"
     ]
    },
    {
     "name": "stderr",
     "output_type": "stream",
     "text": [
      " 39%|███▊      | 36509/94477 [10:13<17:24, 55.50it/s]"
     ]
    },
    {
     "name": "stdout",
     "output_type": "stream",
     "text": [
      "preprocessing ith datafile:  36500\n"
     ]
    },
    {
     "name": "stderr",
     "output_type": "stream",
     "text": [
      " 39%|███▉      | 37005/94477 [10:21<15:03, 63.60it/s]"
     ]
    },
    {
     "name": "stdout",
     "output_type": "stream",
     "text": [
      "preprocessing ith datafile:  37000\n"
     ]
    },
    {
     "name": "stderr",
     "output_type": "stream",
     "text": [
      " 40%|███▉      | 37507/94477 [10:30<14:35, 65.07it/s]"
     ]
    },
    {
     "name": "stdout",
     "output_type": "stream",
     "text": [
      "preprocessing ith datafile:  37500\n"
     ]
    },
    {
     "name": "stderr",
     "output_type": "stream",
     "text": [
      " 40%|████      | 38009/94477 [10:39<16:21, 57.53it/s]"
     ]
    },
    {
     "name": "stdout",
     "output_type": "stream",
     "text": [
      "preprocessing ith datafile:  38000\n"
     ]
    },
    {
     "name": "stderr",
     "output_type": "stream",
     "text": [
      " 41%|████      | 38511/94477 [10:47<15:24, 60.54it/s]"
     ]
    },
    {
     "name": "stdout",
     "output_type": "stream",
     "text": [
      "preprocessing ith datafile:  38500\n"
     ]
    },
    {
     "name": "stderr",
     "output_type": "stream",
     "text": [
      " 41%|████▏     | 39006/94477 [10:56<15:00, 61.57it/s]"
     ]
    },
    {
     "name": "stdout",
     "output_type": "stream",
     "text": [
      "preprocessing ith datafile:  39000\n"
     ]
    },
    {
     "name": "stderr",
     "output_type": "stream",
     "text": [
      " 42%|████▏     | 39509/94477 [11:04<14:59, 61.12it/s]"
     ]
    },
    {
     "name": "stdout",
     "output_type": "stream",
     "text": [
      "preprocessing ith datafile:  39500\n"
     ]
    },
    {
     "name": "stderr",
     "output_type": "stream",
     "text": [
      " 42%|████▏     | 40007/94477 [11:13<14:23, 63.08it/s]"
     ]
    },
    {
     "name": "stdout",
     "output_type": "stream",
     "text": [
      "preprocessing ith datafile:  40000\n"
     ]
    },
    {
     "name": "stderr",
     "output_type": "stream",
     "text": [
      " 43%|████▎     | 40505/94477 [11:21<15:14, 59.01it/s]"
     ]
    },
    {
     "name": "stdout",
     "output_type": "stream",
     "text": [
      "preprocessing ith datafile:  40500\n"
     ]
    },
    {
     "name": "stderr",
     "output_type": "stream",
     "text": [
      " 43%|████▎     | 41008/94477 [11:29<14:19, 62.23it/s]"
     ]
    },
    {
     "name": "stdout",
     "output_type": "stream",
     "text": [
      "preprocessing ith datafile:  41000\n"
     ]
    },
    {
     "name": "stderr",
     "output_type": "stream",
     "text": [
      " 44%|████▍     | 41506/94477 [11:38<15:38, 56.46it/s]"
     ]
    },
    {
     "name": "stdout",
     "output_type": "stream",
     "text": [
      "preprocessing ith datafile:  41500\n"
     ]
    },
    {
     "name": "stderr",
     "output_type": "stream",
     "text": [
      " 44%|████▍     | 42012/94477 [11:47<14:55, 58.57it/s]"
     ]
    },
    {
     "name": "stdout",
     "output_type": "stream",
     "text": [
      "preprocessing ith datafile:  42000\n"
     ]
    },
    {
     "name": "stderr",
     "output_type": "stream",
     "text": [
      " 45%|████▍     | 42507/94477 [11:55<13:47, 62.79it/s]"
     ]
    },
    {
     "name": "stdout",
     "output_type": "stream",
     "text": [
      "preprocessing ith datafile:  42500\n"
     ]
    },
    {
     "name": "stderr",
     "output_type": "stream",
     "text": [
      " 46%|████▌     | 43007/94477 [12:03<14:44, 58.20it/s]"
     ]
    },
    {
     "name": "stdout",
     "output_type": "stream",
     "text": [
      "preprocessing ith datafile:  43000\n"
     ]
    },
    {
     "name": "stderr",
     "output_type": "stream",
     "text": [
      " 46%|████▌     | 43509/94477 [12:12<13:46, 61.70it/s]"
     ]
    },
    {
     "name": "stdout",
     "output_type": "stream",
     "text": [
      "preprocessing ith datafile:  43500\n"
     ]
    },
    {
     "name": "stderr",
     "output_type": "stream",
     "text": [
      " 47%|████▋     | 44011/94477 [12:20<13:41, 61.42it/s]"
     ]
    },
    {
     "name": "stdout",
     "output_type": "stream",
     "text": [
      "preprocessing ith datafile:  44000\n"
     ]
    },
    {
     "name": "stderr",
     "output_type": "stream",
     "text": [
      " 47%|████▋     | 44511/94477 [12:28<12:45, 65.25it/s]"
     ]
    },
    {
     "name": "stdout",
     "output_type": "stream",
     "text": [
      "preprocessing ith datafile:  44500\n"
     ]
    },
    {
     "name": "stderr",
     "output_type": "stream",
     "text": [
      " 48%|████▊     | 45011/94477 [12:36<13:29, 61.11it/s]"
     ]
    },
    {
     "name": "stdout",
     "output_type": "stream",
     "text": [
      "preprocessing ith datafile:  45000\n"
     ]
    },
    {
     "name": "stderr",
     "output_type": "stream",
     "text": [
      " 48%|████▊     | 45506/94477 [12:45<14:38, 55.76it/s]"
     ]
    },
    {
     "name": "stdout",
     "output_type": "stream",
     "text": [
      "preprocessing ith datafile:  45500\n"
     ]
    },
    {
     "name": "stderr",
     "output_type": "stream",
     "text": [
      " 49%|████▊     | 46007/94477 [12:53<12:59, 62.16it/s]"
     ]
    },
    {
     "name": "stdout",
     "output_type": "stream",
     "text": [
      "preprocessing ith datafile:  46000\n"
     ]
    },
    {
     "name": "stderr",
     "output_type": "stream",
     "text": [
      " 49%|████▉     | 46508/94477 [13:02<14:08, 56.54it/s]"
     ]
    },
    {
     "name": "stdout",
     "output_type": "stream",
     "text": [
      "preprocessing ith datafile:  46500\n"
     ]
    },
    {
     "name": "stderr",
     "output_type": "stream",
     "text": [
      " 50%|████▉     | 47011/94477 [13:11<12:40, 62.45it/s]"
     ]
    },
    {
     "name": "stdout",
     "output_type": "stream",
     "text": [
      "preprocessing ith datafile:  47000\n"
     ]
    },
    {
     "name": "stderr",
     "output_type": "stream",
     "text": [
      " 50%|█████     | 47512/94477 [13:19<13:36, 57.50it/s]"
     ]
    },
    {
     "name": "stdout",
     "output_type": "stream",
     "text": [
      "preprocessing ith datafile:  47500\n"
     ]
    },
    {
     "name": "stderr",
     "output_type": "stream",
     "text": [
      " 51%|█████     | 48010/94477 [13:27<13:35, 56.99it/s]"
     ]
    },
    {
     "name": "stdout",
     "output_type": "stream",
     "text": [
      "preprocessing ith datafile:  48000\n"
     ]
    },
    {
     "name": "stderr",
     "output_type": "stream",
     "text": [
      " 51%|█████▏    | 48510/94477 [13:35<12:41, 60.34it/s]"
     ]
    },
    {
     "name": "stdout",
     "output_type": "stream",
     "text": [
      "preprocessing ith datafile:  48500\n"
     ]
    },
    {
     "name": "stderr",
     "output_type": "stream",
     "text": [
      " 52%|█████▏    | 49006/94477 [13:44<12:38, 59.96it/s]"
     ]
    },
    {
     "name": "stdout",
     "output_type": "stream",
     "text": [
      "preprocessing ith datafile:  49000\n"
     ]
    },
    {
     "name": "stderr",
     "output_type": "stream",
     "text": [
      " 52%|█████▏    | 49506/94477 [13:53<11:58, 62.61it/s]"
     ]
    },
    {
     "name": "stdout",
     "output_type": "stream",
     "text": [
      "preprocessing ith datafile:  49500\n"
     ]
    },
    {
     "name": "stderr",
     "output_type": "stream",
     "text": [
      " 53%|█████▎    | 50009/94477 [14:01<12:36, 58.80it/s]"
     ]
    },
    {
     "name": "stdout",
     "output_type": "stream",
     "text": [
      "preprocessing ith datafile:  50000\n"
     ]
    },
    {
     "name": "stderr",
     "output_type": "stream",
     "text": [
      " 53%|█████▎    | 50506/94477 [14:10<11:49, 61.94it/s]"
     ]
    },
    {
     "name": "stdout",
     "output_type": "stream",
     "text": [
      "preprocessing ith datafile:  50500\n"
     ]
    },
    {
     "name": "stderr",
     "output_type": "stream",
     "text": [
      " 54%|█████▍    | 51009/94477 [14:18<11:35, 62.46it/s]"
     ]
    },
    {
     "name": "stdout",
     "output_type": "stream",
     "text": [
      "preprocessing ith datafile:  51000\n"
     ]
    },
    {
     "name": "stderr",
     "output_type": "stream",
     "text": [
      " 55%|█████▍    | 51504/94477 [14:26<10:55, 65.54it/s]"
     ]
    },
    {
     "name": "stdout",
     "output_type": "stream",
     "text": [
      "preprocessing ith datafile:  51500\n"
     ]
    },
    {
     "name": "stderr",
     "output_type": "stream",
     "text": [
      " 55%|█████▌    | 52011/94477 [14:35<11:32, 61.32it/s]"
     ]
    },
    {
     "name": "stdout",
     "output_type": "stream",
     "text": [
      "preprocessing ith datafile:  52000\n"
     ]
    },
    {
     "name": "stderr",
     "output_type": "stream",
     "text": [
      " 56%|█████▌    | 52508/94477 [14:44<13:17, 52.60it/s]"
     ]
    },
    {
     "name": "stdout",
     "output_type": "stream",
     "text": [
      "preprocessing ith datafile:  52500\n"
     ]
    },
    {
     "name": "stderr",
     "output_type": "stream",
     "text": [
      " 56%|█████▌    | 53008/94477 [14:52<10:08, 68.16it/s]"
     ]
    },
    {
     "name": "stdout",
     "output_type": "stream",
     "text": [
      "preprocessing ith datafile:  53000\n"
     ]
    },
    {
     "name": "stderr",
     "output_type": "stream",
     "text": [
      " 57%|█████▋    | 53509/94477 [15:01<10:16, 66.42it/s]"
     ]
    },
    {
     "name": "stdout",
     "output_type": "stream",
     "text": [
      "preprocessing ith datafile:  53500\n"
     ]
    },
    {
     "name": "stderr",
     "output_type": "stream",
     "text": [
      " 57%|█████▋    | 54007/94477 [15:09<10:04, 66.90it/s]"
     ]
    },
    {
     "name": "stdout",
     "output_type": "stream",
     "text": [
      "preprocessing ith datafile:  54000\n"
     ]
    },
    {
     "name": "stderr",
     "output_type": "stream",
     "text": [
      " 58%|█████▊    | 54507/94477 [15:18<10:16, 64.83it/s]"
     ]
    },
    {
     "name": "stdout",
     "output_type": "stream",
     "text": [
      "preprocessing ith datafile:  54500\n"
     ]
    },
    {
     "name": "stderr",
     "output_type": "stream",
     "text": [
      " 58%|█████▊    | 55011/94477 [15:26<11:10, 58.88it/s]"
     ]
    },
    {
     "name": "stdout",
     "output_type": "stream",
     "text": [
      "preprocessing ith datafile:  55000\n"
     ]
    },
    {
     "name": "stderr",
     "output_type": "stream",
     "text": [
      " 59%|█████▉    | 55506/94477 [15:34<12:18, 52.75it/s]"
     ]
    },
    {
     "name": "stdout",
     "output_type": "stream",
     "text": [
      "preprocessing ith datafile:  55500\n"
     ]
    },
    {
     "name": "stderr",
     "output_type": "stream",
     "text": [
      " 59%|█████▉    | 56008/94477 [15:43<10:32, 60.78it/s]"
     ]
    },
    {
     "name": "stdout",
     "output_type": "stream",
     "text": [
      "preprocessing ith datafile:  56000\n"
     ]
    },
    {
     "name": "stderr",
     "output_type": "stream",
     "text": [
      " 60%|█████▉    | 56513/94477 [15:51<09:47, 64.65it/s]"
     ]
    },
    {
     "name": "stdout",
     "output_type": "stream",
     "text": [
      "preprocessing ith datafile:  56500\n"
     ]
    },
    {
     "name": "stderr",
     "output_type": "stream",
     "text": [
      " 60%|██████    | 57004/94477 [16:00<10:08, 61.56it/s]"
     ]
    },
    {
     "name": "stdout",
     "output_type": "stream",
     "text": [
      "preprocessing ith datafile:  57000\n"
     ]
    },
    {
     "name": "stderr",
     "output_type": "stream",
     "text": [
      " 61%|██████    | 57509/94477 [16:08<08:57, 68.84it/s]"
     ]
    },
    {
     "name": "stdout",
     "output_type": "stream",
     "text": [
      "preprocessing ith datafile:  57500\n"
     ]
    },
    {
     "name": "stderr",
     "output_type": "stream",
     "text": [
      " 61%|██████▏   | 58007/94477 [16:16<08:52, 68.51it/s]"
     ]
    },
    {
     "name": "stdout",
     "output_type": "stream",
     "text": [
      "preprocessing ith datafile:  58000\n"
     ]
    },
    {
     "name": "stderr",
     "output_type": "stream",
     "text": [
      " 62%|██████▏   | 58512/94477 [16:24<08:35, 69.80it/s]"
     ]
    },
    {
     "name": "stdout",
     "output_type": "stream",
     "text": [
      "preprocessing ith datafile:  58500\n"
     ]
    },
    {
     "name": "stderr",
     "output_type": "stream",
     "text": [
      " 62%|██████▏   | 59007/94477 [16:32<09:05, 64.96it/s]"
     ]
    },
    {
     "name": "stdout",
     "output_type": "stream",
     "text": [
      "preprocessing ith datafile:  59000\n"
     ]
    },
    {
     "name": "stderr",
     "output_type": "stream",
     "text": [
      " 63%|██████▎   | 59509/94477 [16:41<08:22, 69.64it/s]"
     ]
    },
    {
     "name": "stdout",
     "output_type": "stream",
     "text": [
      "preprocessing ith datafile:  59500\n"
     ]
    },
    {
     "name": "stderr",
     "output_type": "stream",
     "text": [
      " 64%|██████▎   | 60012/94477 [16:49<08:51, 64.84it/s]"
     ]
    },
    {
     "name": "stdout",
     "output_type": "stream",
     "text": [
      "preprocessing ith datafile:  60000\n"
     ]
    },
    {
     "name": "stderr",
     "output_type": "stream",
     "text": [
      " 64%|██████▍   | 60508/94477 [16:58<09:33, 59.22it/s]"
     ]
    },
    {
     "name": "stdout",
     "output_type": "stream",
     "text": [
      "preprocessing ith datafile:  60500\n"
     ]
    },
    {
     "name": "stderr",
     "output_type": "stream",
     "text": [
      " 65%|██████▍   | 61007/94477 [17:06<08:40, 64.31it/s]"
     ]
    },
    {
     "name": "stdout",
     "output_type": "stream",
     "text": [
      "preprocessing ith datafile:  61000\n"
     ]
    },
    {
     "name": "stderr",
     "output_type": "stream",
     "text": [
      " 65%|██████▌   | 61508/94477 [17:14<09:42, 56.59it/s]"
     ]
    },
    {
     "name": "stdout",
     "output_type": "stream",
     "text": [
      "preprocessing ith datafile:  61500\n"
     ]
    },
    {
     "name": "stderr",
     "output_type": "stream",
     "text": [
      " 66%|██████▌   | 62007/94477 [17:22<08:45, 61.83it/s]"
     ]
    },
    {
     "name": "stdout",
     "output_type": "stream",
     "text": [
      "preprocessing ith datafile:  62000\n"
     ]
    },
    {
     "name": "stderr",
     "output_type": "stream",
     "text": [
      " 66%|██████▌   | 62510/94477 [17:31<09:03, 58.79it/s]"
     ]
    },
    {
     "name": "stdout",
     "output_type": "stream",
     "text": [
      "preprocessing ith datafile:  62500\n"
     ]
    },
    {
     "name": "stderr",
     "output_type": "stream",
     "text": [
      " 67%|██████▋   | 63005/94477 [17:39<09:26, 55.54it/s]"
     ]
    },
    {
     "name": "stdout",
     "output_type": "stream",
     "text": [
      "preprocessing ith datafile:  63000\n"
     ]
    },
    {
     "name": "stderr",
     "output_type": "stream",
     "text": [
      " 67%|██████▋   | 63505/94477 [17:48<09:09, 56.35it/s]"
     ]
    },
    {
     "name": "stdout",
     "output_type": "stream",
     "text": [
      "preprocessing ith datafile:  63500\n"
     ]
    },
    {
     "name": "stderr",
     "output_type": "stream",
     "text": [
      " 68%|██████▊   | 64010/94477 [17:57<08:26, 60.11it/s]"
     ]
    },
    {
     "name": "stdout",
     "output_type": "stream",
     "text": [
      "preprocessing ith datafile:  64000\n"
     ]
    },
    {
     "name": "stderr",
     "output_type": "stream",
     "text": [
      " 68%|██████▊   | 64507/94477 [18:05<08:23, 59.50it/s]"
     ]
    },
    {
     "name": "stdout",
     "output_type": "stream",
     "text": [
      "preprocessing ith datafile:  64500\n"
     ]
    },
    {
     "name": "stderr",
     "output_type": "stream",
     "text": [
      " 69%|██████▉   | 65005/94477 [18:13<08:15, 59.47it/s]"
     ]
    },
    {
     "name": "stdout",
     "output_type": "stream",
     "text": [
      "preprocessing ith datafile:  65000\n"
     ]
    },
    {
     "name": "stderr",
     "output_type": "stream",
     "text": [
      " 69%|██████▉   | 65512/94477 [18:22<08:09, 59.19it/s]"
     ]
    },
    {
     "name": "stdout",
     "output_type": "stream",
     "text": [
      "preprocessing ith datafile:  65500\n"
     ]
    },
    {
     "name": "stderr",
     "output_type": "stream",
     "text": [
      " 70%|██████▉   | 66007/94477 [18:30<07:21, 64.55it/s]"
     ]
    },
    {
     "name": "stdout",
     "output_type": "stream",
     "text": [
      "preprocessing ith datafile:  66000\n"
     ]
    },
    {
     "name": "stderr",
     "output_type": "stream",
     "text": [
      " 70%|███████   | 66511/94477 [18:38<07:39, 60.83it/s]"
     ]
    },
    {
     "name": "stdout",
     "output_type": "stream",
     "text": [
      "preprocessing ith datafile:  66500\n"
     ]
    },
    {
     "name": "stderr",
     "output_type": "stream",
     "text": [
      " 71%|███████   | 67011/94477 [18:47<07:34, 60.44it/s]"
     ]
    },
    {
     "name": "stdout",
     "output_type": "stream",
     "text": [
      "preprocessing ith datafile:  67000\n"
     ]
    },
    {
     "name": "stderr",
     "output_type": "stream",
     "text": [
      " 71%|███████▏  | 67510/94477 [18:56<07:25, 60.59it/s]"
     ]
    },
    {
     "name": "stdout",
     "output_type": "stream",
     "text": [
      "preprocessing ith datafile:  67500\n"
     ]
    },
    {
     "name": "stderr",
     "output_type": "stream",
     "text": [
      " 72%|███████▏  | 68008/94477 [19:04<07:39, 57.60it/s]"
     ]
    },
    {
     "name": "stdout",
     "output_type": "stream",
     "text": [
      "preprocessing ith datafile:  68000\n"
     ]
    },
    {
     "name": "stderr",
     "output_type": "stream",
     "text": [
      " 73%|███████▎  | 68506/94477 [19:12<07:29, 57.75it/s]"
     ]
    },
    {
     "name": "stdout",
     "output_type": "stream",
     "text": [
      "preprocessing ith datafile:  68500\n"
     ]
    },
    {
     "name": "stderr",
     "output_type": "stream",
     "text": [
      " 73%|███████▎  | 69009/94477 [19:21<07:00, 60.63it/s]"
     ]
    },
    {
     "name": "stdout",
     "output_type": "stream",
     "text": [
      "preprocessing ith datafile:  69000\n"
     ]
    },
    {
     "name": "stderr",
     "output_type": "stream",
     "text": [
      " 74%|███████▎  | 69508/94477 [19:29<07:04, 58.88it/s]"
     ]
    },
    {
     "name": "stdout",
     "output_type": "stream",
     "text": [
      "preprocessing ith datafile:  69500\n"
     ]
    },
    {
     "name": "stderr",
     "output_type": "stream",
     "text": [
      " 74%|███████▍  | 70012/94477 [19:38<06:40, 61.09it/s]"
     ]
    },
    {
     "name": "stdout",
     "output_type": "stream",
     "text": [
      "preprocessing ith datafile:  70000\n"
     ]
    },
    {
     "name": "stderr",
     "output_type": "stream",
     "text": [
      " 75%|███████▍  | 70503/94477 [19:46<07:33, 52.89it/s]"
     ]
    },
    {
     "name": "stdout",
     "output_type": "stream",
     "text": [
      "preprocessing ith datafile:  70500\n"
     ]
    },
    {
     "name": "stderr",
     "output_type": "stream",
     "text": [
      " 75%|███████▌  | 71012/94477 [19:55<06:11, 63.14it/s]"
     ]
    },
    {
     "name": "stdout",
     "output_type": "stream",
     "text": [
      "preprocessing ith datafile:  71000\n"
     ]
    },
    {
     "name": "stderr",
     "output_type": "stream",
     "text": [
      " 76%|███████▌  | 71506/94477 [20:03<06:54, 55.46it/s]"
     ]
    },
    {
     "name": "stdout",
     "output_type": "stream",
     "text": [
      "preprocessing ith datafile:  71500\n"
     ]
    },
    {
     "name": "stderr",
     "output_type": "stream",
     "text": [
      " 76%|███████▌  | 72008/94477 [20:12<07:28, 50.12it/s]"
     ]
    },
    {
     "name": "stdout",
     "output_type": "stream",
     "text": [
      "preprocessing ith datafile:  72000\n"
     ]
    },
    {
     "name": "stderr",
     "output_type": "stream",
     "text": [
      " 77%|███████▋  | 72508/94477 [20:20<05:18, 69.03it/s]"
     ]
    },
    {
     "name": "stdout",
     "output_type": "stream",
     "text": [
      "preprocessing ith datafile:  72500\n"
     ]
    },
    {
     "name": "stderr",
     "output_type": "stream",
     "text": [
      " 77%|███████▋  | 73008/94477 [20:29<06:32, 54.69it/s]"
     ]
    },
    {
     "name": "stdout",
     "output_type": "stream",
     "text": [
      "preprocessing ith datafile:  73000\n"
     ]
    },
    {
     "name": "stderr",
     "output_type": "stream",
     "text": [
      " 78%|███████▊  | 73509/94477 [20:37<06:15, 55.87it/s]"
     ]
    },
    {
     "name": "stdout",
     "output_type": "stream",
     "text": [
      "preprocessing ith datafile:  73500\n"
     ]
    },
    {
     "name": "stderr",
     "output_type": "stream",
     "text": [
      " 78%|███████▊  | 74010/94477 [20:46<06:38, 51.41it/s]"
     ]
    },
    {
     "name": "stdout",
     "output_type": "stream",
     "text": [
      "preprocessing ith datafile:  74000\n"
     ]
    },
    {
     "name": "stderr",
     "output_type": "stream",
     "text": [
      " 79%|███████▉  | 74508/94477 [20:55<05:40, 58.57it/s]"
     ]
    },
    {
     "name": "stdout",
     "output_type": "stream",
     "text": [
      "preprocessing ith datafile:  74500\n"
     ]
    },
    {
     "name": "stderr",
     "output_type": "stream",
     "text": [
      " 79%|███████▉  | 75011/94477 [21:04<04:50, 66.98it/s]"
     ]
    },
    {
     "name": "stdout",
     "output_type": "stream",
     "text": [
      "preprocessing ith datafile:  75000\n"
     ]
    },
    {
     "name": "stderr",
     "output_type": "stream",
     "text": [
      " 80%|███████▉  | 75507/94477 [21:13<05:31, 57.30it/s]"
     ]
    },
    {
     "name": "stdout",
     "output_type": "stream",
     "text": [
      "preprocessing ith datafile:  75500\n"
     ]
    },
    {
     "name": "stderr",
     "output_type": "stream",
     "text": [
      " 80%|████████  | 76007/94477 [21:21<04:53, 63.00it/s]"
     ]
    },
    {
     "name": "stdout",
     "output_type": "stream",
     "text": [
      "preprocessing ith datafile:  76000\n"
     ]
    },
    {
     "name": "stderr",
     "output_type": "stream",
     "text": [
      " 81%|████████  | 76511/94477 [21:29<05:09, 58.05it/s]"
     ]
    },
    {
     "name": "stdout",
     "output_type": "stream",
     "text": [
      "preprocessing ith datafile:  76500\n"
     ]
    },
    {
     "name": "stderr",
     "output_type": "stream",
     "text": [
      " 82%|████████▏ | 77013/94477 [21:38<04:26, 65.46it/s]"
     ]
    },
    {
     "name": "stdout",
     "output_type": "stream",
     "text": [
      "preprocessing ith datafile:  77000\n"
     ]
    },
    {
     "name": "stderr",
     "output_type": "stream",
     "text": [
      " 82%|████████▏ | 77507/94477 [21:47<05:43, 49.36it/s]"
     ]
    },
    {
     "name": "stdout",
     "output_type": "stream",
     "text": [
      "preprocessing ith datafile:  77500\n"
     ]
    },
    {
     "name": "stderr",
     "output_type": "stream",
     "text": [
      " 83%|████████▎ | 78007/94477 [21:55<04:55, 55.81it/s]"
     ]
    },
    {
     "name": "stdout",
     "output_type": "stream",
     "text": [
      "preprocessing ith datafile:  78000\n"
     ]
    },
    {
     "name": "stderr",
     "output_type": "stream",
     "text": [
      " 83%|████████▎ | 78511/94477 [22:04<04:38, 57.31it/s]"
     ]
    },
    {
     "name": "stdout",
     "output_type": "stream",
     "text": [
      "preprocessing ith datafile:  78500\n"
     ]
    },
    {
     "name": "stderr",
     "output_type": "stream",
     "text": [
      " 84%|████████▎ | 79007/94477 [22:12<04:40, 55.11it/s]"
     ]
    },
    {
     "name": "stdout",
     "output_type": "stream",
     "text": [
      "preprocessing ith datafile:  79000\n"
     ]
    },
    {
     "name": "stderr",
     "output_type": "stream",
     "text": [
      " 84%|████████▍ | 79507/94477 [22:21<04:48, 51.93it/s]"
     ]
    },
    {
     "name": "stdout",
     "output_type": "stream",
     "text": [
      "preprocessing ith datafile:  79500\n"
     ]
    },
    {
     "name": "stderr",
     "output_type": "stream",
     "text": [
      " 85%|████████▍ | 80009/94477 [22:29<03:40, 65.75it/s]"
     ]
    },
    {
     "name": "stdout",
     "output_type": "stream",
     "text": [
      "preprocessing ith datafile:  80000\n"
     ]
    },
    {
     "name": "stderr",
     "output_type": "stream",
     "text": [
      " 85%|████████▌ | 80508/94477 [22:37<03:56, 58.97it/s]"
     ]
    },
    {
     "name": "stdout",
     "output_type": "stream",
     "text": [
      "preprocessing ith datafile:  80500\n"
     ]
    },
    {
     "name": "stderr",
     "output_type": "stream",
     "text": [
      " 86%|████████▌ | 81011/94477 [22:46<03:59, 56.23it/s]"
     ]
    },
    {
     "name": "stdout",
     "output_type": "stream",
     "text": [
      "preprocessing ith datafile:  81000\n"
     ]
    },
    {
     "name": "stderr",
     "output_type": "stream",
     "text": [
      " 86%|████████▋ | 81512/94477 [22:55<03:44, 57.84it/s]"
     ]
    },
    {
     "name": "stdout",
     "output_type": "stream",
     "text": [
      "preprocessing ith datafile:  81500\n"
     ]
    },
    {
     "name": "stderr",
     "output_type": "stream",
     "text": [
      " 87%|████████▋ | 82007/94477 [23:03<03:24, 60.87it/s]"
     ]
    },
    {
     "name": "stdout",
     "output_type": "stream",
     "text": [
      "preprocessing ith datafile:  82000\n"
     ]
    },
    {
     "name": "stderr",
     "output_type": "stream",
     "text": [
      " 87%|████████▋ | 82512/94477 [23:11<03:18, 60.34it/s]"
     ]
    },
    {
     "name": "stdout",
     "output_type": "stream",
     "text": [
      "preprocessing ith datafile:  82500\n"
     ]
    },
    {
     "name": "stderr",
     "output_type": "stream",
     "text": [
      " 88%|████████▊ | 83010/94477 [23:19<02:52, 66.41it/s]"
     ]
    },
    {
     "name": "stdout",
     "output_type": "stream",
     "text": [
      "preprocessing ith datafile:  83000\n"
     ]
    },
    {
     "name": "stderr",
     "output_type": "stream",
     "text": [
      " 88%|████████▊ | 83506/94477 [23:28<02:45, 66.36it/s]"
     ]
    },
    {
     "name": "stdout",
     "output_type": "stream",
     "text": [
      "preprocessing ith datafile:  83500\n"
     ]
    },
    {
     "name": "stderr",
     "output_type": "stream",
     "text": [
      " 89%|████████▉ | 84007/94477 [23:36<02:58, 58.52it/s]"
     ]
    },
    {
     "name": "stdout",
     "output_type": "stream",
     "text": [
      "preprocessing ith datafile:  84000\n"
     ]
    },
    {
     "name": "stderr",
     "output_type": "stream",
     "text": [
      " 89%|████████▉ | 84510/94477 [23:45<03:05, 53.83it/s]"
     ]
    },
    {
     "name": "stdout",
     "output_type": "stream",
     "text": [
      "preprocessing ith datafile:  84500\n"
     ]
    },
    {
     "name": "stderr",
     "output_type": "stream",
     "text": [
      " 90%|████████▉ | 85006/94477 [23:53<02:35, 61.07it/s]"
     ]
    },
    {
     "name": "stdout",
     "output_type": "stream",
     "text": [
      "preprocessing ith datafile:  85000\n"
     ]
    },
    {
     "name": "stderr",
     "output_type": "stream",
     "text": [
      " 91%|█████████ | 85512/94477 [24:02<02:23, 62.39it/s]"
     ]
    },
    {
     "name": "stdout",
     "output_type": "stream",
     "text": [
      "preprocessing ith datafile:  85500\n"
     ]
    },
    {
     "name": "stderr",
     "output_type": "stream",
     "text": [
      " 91%|█████████ | 86009/94477 [24:10<02:33, 55.34it/s]"
     ]
    },
    {
     "name": "stdout",
     "output_type": "stream",
     "text": [
      "preprocessing ith datafile:  86000\n"
     ]
    },
    {
     "name": "stderr",
     "output_type": "stream",
     "text": [
      " 92%|█████████▏| 86509/94477 [24:18<02:15, 58.70it/s]"
     ]
    },
    {
     "name": "stdout",
     "output_type": "stream",
     "text": [
      "preprocessing ith datafile:  86500\n"
     ]
    },
    {
     "name": "stderr",
     "output_type": "stream",
     "text": [
      " 92%|█████████▏| 87007/94477 [24:27<02:02, 61.16it/s]"
     ]
    },
    {
     "name": "stdout",
     "output_type": "stream",
     "text": [
      "preprocessing ith datafile:  87000\n"
     ]
    },
    {
     "name": "stderr",
     "output_type": "stream",
     "text": [
      " 93%|█████████▎| 87507/94477 [24:35<01:52, 61.99it/s]"
     ]
    },
    {
     "name": "stdout",
     "output_type": "stream",
     "text": [
      "preprocessing ith datafile:  87500\n"
     ]
    },
    {
     "name": "stderr",
     "output_type": "stream",
     "text": [
      " 93%|█████████▎| 88006/94477 [24:44<01:47, 60.46it/s]"
     ]
    },
    {
     "name": "stdout",
     "output_type": "stream",
     "text": [
      "preprocessing ith datafile:  88000\n"
     ]
    },
    {
     "name": "stderr",
     "output_type": "stream",
     "text": [
      " 94%|█████████▎| 88505/94477 [24:52<01:37, 61.46it/s]"
     ]
    },
    {
     "name": "stdout",
     "output_type": "stream",
     "text": [
      "preprocessing ith datafile:  88500\n"
     ]
    },
    {
     "name": "stderr",
     "output_type": "stream",
     "text": [
      " 94%|█████████▍| 89010/94477 [25:01<01:33, 58.51it/s]"
     ]
    },
    {
     "name": "stdout",
     "output_type": "stream",
     "text": [
      "preprocessing ith datafile:  89000\n"
     ]
    },
    {
     "name": "stderr",
     "output_type": "stream",
     "text": [
      " 95%|█████████▍| 89506/94477 [25:09<01:25, 58.44it/s]"
     ]
    },
    {
     "name": "stdout",
     "output_type": "stream",
     "text": [
      "preprocessing ith datafile:  89500\n"
     ]
    },
    {
     "name": "stderr",
     "output_type": "stream",
     "text": [
      " 95%|█████████▌| 90009/94477 [25:17<01:23, 53.68it/s]"
     ]
    },
    {
     "name": "stdout",
     "output_type": "stream",
     "text": [
      "preprocessing ith datafile:  90000\n"
     ]
    },
    {
     "name": "stderr",
     "output_type": "stream",
     "text": [
      " 96%|█████████▌| 90513/94477 [25:26<00:59, 66.27it/s]"
     ]
    },
    {
     "name": "stdout",
     "output_type": "stream",
     "text": [
      "preprocessing ith datafile:  90500\n"
     ]
    },
    {
     "name": "stderr",
     "output_type": "stream",
     "text": [
      " 96%|█████████▋| 91008/94477 [25:34<00:59, 58.64it/s]"
     ]
    },
    {
     "name": "stdout",
     "output_type": "stream",
     "text": [
      "preprocessing ith datafile:  91000\n"
     ]
    },
    {
     "name": "stderr",
     "output_type": "stream",
     "text": [
      " 97%|█████████▋| 91505/94477 [25:43<00:58, 51.10it/s]"
     ]
    },
    {
     "name": "stdout",
     "output_type": "stream",
     "text": [
      "preprocessing ith datafile:  91500\n"
     ]
    },
    {
     "name": "stderr",
     "output_type": "stream",
     "text": [
      " 97%|█████████▋| 92011/94477 [25:51<00:37, 66.07it/s]"
     ]
    },
    {
     "name": "stdout",
     "output_type": "stream",
     "text": [
      "preprocessing ith datafile:  92000\n"
     ]
    },
    {
     "name": "stderr",
     "output_type": "stream",
     "text": [
      " 98%|█████████▊| 92512/94477 [26:00<00:32, 61.14it/s]"
     ]
    },
    {
     "name": "stdout",
     "output_type": "stream",
     "text": [
      "preprocessing ith datafile:  92500\n"
     ]
    },
    {
     "name": "stderr",
     "output_type": "stream",
     "text": [
      " 98%|█████████▊| 93008/94477 [26:09<00:28, 51.59it/s]"
     ]
    },
    {
     "name": "stdout",
     "output_type": "stream",
     "text": [
      "preprocessing ith datafile:  93000\n"
     ]
    },
    {
     "name": "stderr",
     "output_type": "stream",
     "text": [
      " 99%|█████████▉| 93507/94477 [26:17<00:16, 59.69it/s]"
     ]
    },
    {
     "name": "stdout",
     "output_type": "stream",
     "text": [
      "preprocessing ith datafile:  93500\n"
     ]
    },
    {
     "name": "stderr",
     "output_type": "stream",
     "text": [
      "100%|█████████▉| 94010/94477 [26:26<00:07, 59.88it/s]"
     ]
    },
    {
     "name": "stdout",
     "output_type": "stream",
     "text": [
      "preprocessing ith datafile:  94000\n"
     ]
    },
    {
     "name": "stderr",
     "output_type": "stream",
     "text": [
      "100%|██████████| 94477/94477 [26:34<00:00, 59.26it/s]\n"
     ]
    },
    {
     "name": "stdout",
     "output_type": "stream",
     "text": [
      "x here:  [[[ 0.52765715  0.37799075 -0.03728105]\n",
      "  [ 0.5251776   0.3464021  -0.06119015]\n",
      "  [ 0.52835715  0.3561508  -0.0347196 ]\n",
      "  ...\n",
      "  [ 0.13420019  0.21228456 -0.03837654]\n",
      "  [ 0.14469755  0.20351398 -0.0434552 ]\n",
      "  [ 0.15583248  0.19811937 -0.04688056]]\n",
      "\n",
      " [[ 0.56010526  0.5072882  -0.05165111]\n",
      "  [ 0.5527518   0.46723697 -0.07367232]\n",
      "  [ 0.5539145   0.48089406 -0.04462063]\n",
      "  ...\n",
      "  [ 0.05285492  0.11605947 -0.01730338]\n",
      "  [ 0.06151751  0.11655395 -0.01873624]\n",
      "  [ 0.06911661  0.11730912 -0.01933736]]\n",
      "\n",
      " [[ 0.4211941   0.4509534  -0.0542616 ]\n",
      "  [ 0.4149809   0.40822628 -0.07477555]\n",
      "  [ 0.41923973  0.4248634  -0.04694982]\n",
      "  ...\n",
      "  [ 0.          0.          0.        ]\n",
      "  [ 0.          0.          0.        ]\n",
      "  [ 0.          0.          0.        ]]\n",
      "\n",
      " ...\n",
      "\n",
      " [[ 0.5111345   0.45825803 -0.03927014]\n",
      "  [ 0.5085241   0.42190665 -0.07742088]\n",
      "  [ 0.5089503   0.43250006 -0.04032401]\n",
      "  ...\n",
      "  [ 0.37470642  0.40586954 -0.04665324]\n",
      "  [ 0.38366532  0.39592457 -0.03716206]\n",
      "  [ 0.38599375  0.39320356 -0.02790262]]\n",
      "\n",
      " [[ 0.466285    0.49635282 -0.03799575]\n",
      "  [ 0.46103606  0.46487314 -0.05938021]\n",
      "  [ 0.4625555   0.47636777 -0.03431759]\n",
      "  ...\n",
      "  [ 0.05827671  0.1369388  -0.01792354]\n",
      "  [ 0.06542867  0.13607429 -0.01701066]\n",
      "  [ 0.07052667  0.13511434 -0.01620824]]\n",
      "\n",
      " [[ 0.43818358  0.34290773 -0.05256486]\n",
      "  [ 0.4321533   0.29800463 -0.06837797]\n",
      "  [ 0.43549144  0.3165417  -0.04366653]\n",
      "  ...\n",
      "  [ 0.          0.          0.        ]\n",
      "  [ 0.          0.          0.        ]\n",
      "  [ 0.          0.          0.        ]]]\n",
      "y:  [ 25 232  48 ...  86 188 105]\n",
      "data shape:  (94477, 543, 3)\n",
      "Epoch 1/150\n",
      "591/591 [==============================] - 13s 9ms/step - loss: 5.4840 - accuracy: 0.0051 - val_loss: 5.3215 - val_accuracy: 0.0100 - lr: 0.0010\n",
      "Epoch 2/150\n",
      "591/591 [==============================] - 4s 8ms/step - loss: 5.2239 - accuracy: 0.0122 - val_loss: 5.1090 - val_accuracy: 0.0184 - lr: 0.0010\n",
      "Epoch 3/150\n",
      "591/591 [==============================] - 5s 8ms/step - loss: 4.9852 - accuracy: 0.0253 - val_loss: 4.7991 - val_accuracy: 0.0383 - lr: 0.0010\n",
      "Epoch 4/150\n",
      "591/591 [==============================] - 4s 8ms/step - loss: 4.6474 - accuracy: 0.0500 - val_loss: 4.4260 - val_accuracy: 0.0708 - lr: 0.0010\n",
      "Epoch 5/150\n",
      "591/591 [==============================] - 5s 8ms/step - loss: 4.3795 - accuracy: 0.0720 - val_loss: 4.2476 - val_accuracy: 0.0909 - lr: 0.0010\n",
      "Epoch 6/150\n",
      "591/591 [==============================] - 4s 8ms/step - loss: 4.2097 - accuracy: 0.0886 - val_loss: 4.1401 - val_accuracy: 0.0964 - lr: 0.0010\n",
      "Epoch 7/150\n",
      "591/591 [==============================] - 4s 8ms/step - loss: 4.0566 - accuracy: 0.1080 - val_loss: 3.9118 - val_accuracy: 0.1352 - lr: 0.0010\n",
      "Epoch 8/150\n",
      "591/591 [==============================] - 4s 8ms/step - loss: 3.8570 - accuracy: 0.1357 - val_loss: 3.7563 - val_accuracy: 0.1497 - lr: 0.0010\n",
      "Epoch 9/150\n",
      "591/591 [==============================] - 4s 7ms/step - loss: 3.6820 - accuracy: 0.1612 - val_loss: 3.5624 - val_accuracy: 0.1807 - lr: 0.0010\n",
      "Epoch 10/150\n",
      "591/591 [==============================] - 4s 8ms/step - loss: 3.5265 - accuracy: 0.1858 - val_loss: 3.4688 - val_accuracy: 0.1983 - lr: 0.0010\n",
      "Epoch 11/150\n",
      "591/591 [==============================] - 4s 7ms/step - loss: 3.4138 - accuracy: 0.2048 - val_loss: 3.3111 - val_accuracy: 0.2256 - lr: 0.0010\n",
      "Epoch 12/150\n",
      "591/591 [==============================] - 4s 7ms/step - loss: 3.3201 - accuracy: 0.2202 - val_loss: 3.2187 - val_accuracy: 0.2416 - lr: 0.0010\n",
      "Epoch 13/150\n",
      "591/591 [==============================] - 4s 7ms/step - loss: 3.2406 - accuracy: 0.2351 - val_loss: 3.2127 - val_accuracy: 0.2414 - lr: 0.0010\n",
      "Epoch 14/150\n",
      "591/591 [==============================] - 4s 7ms/step - loss: 3.1742 - accuracy: 0.2469 - val_loss: 3.0820 - val_accuracy: 0.2681 - lr: 0.0010\n",
      "Epoch 15/150\n",
      "591/591 [==============================] - 4s 7ms/step - loss: 3.1139 - accuracy: 0.2554 - val_loss: 3.0380 - val_accuracy: 0.2762 - lr: 0.0010\n",
      "Epoch 16/150\n",
      "591/591 [==============================] - 4s 7ms/step - loss: 3.0676 - accuracy: 0.2638 - val_loss: 2.9861 - val_accuracy: 0.2891 - lr: 0.0010\n",
      "Epoch 17/150\n",
      "591/591 [==============================] - 4s 7ms/step - loss: 3.0115 - accuracy: 0.2743 - val_loss: 2.9567 - val_accuracy: 0.2902 - lr: 0.0010\n",
      "Epoch 18/150\n",
      "591/591 [==============================] - 4s 7ms/step - loss: 2.9648 - accuracy: 0.2834 - val_loss: 2.8851 - val_accuracy: 0.3045 - lr: 0.0010\n",
      "Epoch 19/150\n",
      "591/591 [==============================] - 4s 7ms/step - loss: 2.9181 - accuracy: 0.2929 - val_loss: 2.8717 - val_accuracy: 0.3078 - lr: 0.0010\n",
      "Epoch 20/150\n",
      "591/591 [==============================] - 4s 7ms/step - loss: 2.8679 - accuracy: 0.3004 - val_loss: 2.8424 - val_accuracy: 0.3114 - lr: 0.0010\n",
      "Epoch 21/150\n",
      "591/591 [==============================] - 4s 7ms/step - loss: 2.8321 - accuracy: 0.3081 - val_loss: 2.7809 - val_accuracy: 0.3294 - lr: 0.0010\n",
      "Epoch 22/150\n",
      "591/591 [==============================] - 4s 7ms/step - loss: 2.7964 - accuracy: 0.3144 - val_loss: 2.7483 - val_accuracy: 0.3330 - lr: 0.0010\n",
      "Epoch 23/150\n",
      "591/591 [==============================] - 4s 7ms/step - loss: 2.7594 - accuracy: 0.3207 - val_loss: 2.7031 - val_accuracy: 0.3447 - lr: 0.0010\n",
      "Epoch 24/150\n",
      "591/591 [==============================] - 4s 7ms/step - loss: 2.7259 - accuracy: 0.3275 - val_loss: 2.6817 - val_accuracy: 0.3489 - lr: 0.0010\n",
      "Epoch 25/150\n",
      "591/591 [==============================] - 4s 7ms/step - loss: 2.6897 - accuracy: 0.3373 - val_loss: 2.6911 - val_accuracy: 0.3475 - lr: 0.0010\n",
      "Epoch 26/150\n",
      "591/591 [==============================] - 4s 7ms/step - loss: 2.6630 - accuracy: 0.3433 - val_loss: 2.6170 - val_accuracy: 0.3636 - lr: 0.0010\n",
      "Epoch 27/150\n",
      "591/591 [==============================] - 4s 7ms/step - loss: 2.6356 - accuracy: 0.3452 - val_loss: 2.6067 - val_accuracy: 0.3625 - lr: 0.0010\n",
      "Epoch 28/150\n",
      "591/591 [==============================] - 4s 7ms/step - loss: 2.6121 - accuracy: 0.3518 - val_loss: 2.5779 - val_accuracy: 0.3769 - lr: 0.0010\n",
      "Epoch 29/150\n",
      "591/591 [==============================] - 4s 7ms/step - loss: 2.5828 - accuracy: 0.3580 - val_loss: 2.5843 - val_accuracy: 0.3656 - lr: 0.0010\n",
      "Epoch 30/150\n",
      "591/591 [==============================] - 4s 7ms/step - loss: 2.5539 - accuracy: 0.3651 - val_loss: 2.5347 - val_accuracy: 0.3827 - lr: 0.0010\n",
      "Epoch 31/150\n",
      "591/591 [==============================] - 4s 7ms/step - loss: 2.5274 - accuracy: 0.3674 - val_loss: 2.5578 - val_accuracy: 0.3838 - lr: 0.0010\n",
      "Epoch 32/150\n",
      "591/591 [==============================] - 4s 7ms/step - loss: 2.5015 - accuracy: 0.3737 - val_loss: 2.5105 - val_accuracy: 0.3934 - lr: 0.0010\n",
      "Epoch 33/150\n",
      "591/591 [==============================] - 4s 7ms/step - loss: 2.4768 - accuracy: 0.3812 - val_loss: 2.4870 - val_accuracy: 0.3973 - lr: 0.0010\n",
      "Epoch 34/150\n",
      "591/591 [==============================] - 4s 7ms/step - loss: 2.4602 - accuracy: 0.3837 - val_loss: 2.4560 - val_accuracy: 0.3965 - lr: 0.0010\n",
      "Epoch 35/150\n",
      "591/591 [==============================] - 4s 7ms/step - loss: 2.4360 - accuracy: 0.3878 - val_loss: 2.4508 - val_accuracy: 0.4028 - lr: 0.0010\n",
      "Epoch 36/150\n",
      "591/591 [==============================] - 4s 7ms/step - loss: 2.4127 - accuracy: 0.3929 - val_loss: 2.4011 - val_accuracy: 0.4102 - lr: 0.0010\n",
      "Epoch 37/150\n",
      "591/591 [==============================] - 4s 7ms/step - loss: 2.3860 - accuracy: 0.3991 - val_loss: 2.4164 - val_accuracy: 0.4088 - lr: 0.0010\n",
      "Epoch 38/150\n",
      "591/591 [==============================] - 4s 7ms/step - loss: 2.3788 - accuracy: 0.4022 - val_loss: 2.3626 - val_accuracy: 0.4206 - lr: 0.0010\n",
      "Epoch 39/150\n",
      "591/591 [==============================] - 4s 7ms/step - loss: 2.3518 - accuracy: 0.4071 - val_loss: 2.3732 - val_accuracy: 0.4187 - lr: 0.0010\n",
      "Epoch 40/150\n",
      "588/591 [============================>.] - ETA: 0s - loss: 2.3419 - accuracy: 0.4093\n",
      "Epoch 40: ReduceLROnPlateau reducing learning rate to 0.000800000037997961.\n",
      "591/591 [==============================] - 4s 7ms/step - loss: 2.3424 - accuracy: 0.4091 - val_loss: 2.3777 - val_accuracy: 0.4182 - lr: 0.0010\n",
      "Epoch 41/150\n",
      "591/591 [==============================] - 4s 7ms/step - loss: 2.2949 - accuracy: 0.4193 - val_loss: 2.3502 - val_accuracy: 0.4250 - lr: 8.0000e-04\n",
      "Epoch 42/150\n",
      "591/591 [==============================] - 4s 7ms/step - loss: 2.2875 - accuracy: 0.4206 - val_loss: 2.2992 - val_accuracy: 0.4388 - lr: 8.0000e-04\n",
      "Epoch 43/150\n",
      "591/591 [==============================] - 4s 7ms/step - loss: 2.2731 - accuracy: 0.4243 - val_loss: 2.3284 - val_accuracy: 0.4282 - lr: 8.0000e-04\n",
      "Epoch 44/150\n",
      "584/591 [============================>.] - ETA: 0s - loss: 2.2583 - accuracy: 0.4256\n",
      "Epoch 44: ReduceLROnPlateau reducing learning rate to 0.0006400000303983689.\n",
      "591/591 [==============================] - 4s 7ms/step - loss: 2.2588 - accuracy: 0.4255 - val_loss: 2.2996 - val_accuracy: 0.4365 - lr: 8.0000e-04\n",
      "Epoch 45/150\n",
      "591/591 [==============================] - 4s 7ms/step - loss: 2.2231 - accuracy: 0.4357 - val_loss: 2.3011 - val_accuracy: 0.4377 - lr: 6.4000e-04\n",
      "Epoch 46/150\n",
      "591/591 [==============================] - 4s 7ms/step - loss: 2.2129 - accuracy: 0.4361 - val_loss: 2.2744 - val_accuracy: 0.4425 - lr: 6.4000e-04\n",
      "Epoch 47/150\n",
      "591/591 [==============================] - 4s 7ms/step - loss: 2.1981 - accuracy: 0.4412 - val_loss: 2.2693 - val_accuracy: 0.4413 - lr: 6.4000e-04\n",
      "Epoch 48/150\n",
      "591/591 [==============================] - 4s 7ms/step - loss: 2.1894 - accuracy: 0.4400 - val_loss: 2.2792 - val_accuracy: 0.4402 - lr: 6.4000e-04\n",
      "Epoch 49/150\n",
      "591/591 [==============================] - 4s 8ms/step - loss: 2.1851 - accuracy: 0.4439 - val_loss: 2.2562 - val_accuracy: 0.4456 - lr: 6.4000e-04\n",
      "Epoch 50/150\n",
      "591/591 [==============================] - 4s 7ms/step - loss: 2.1727 - accuracy: 0.4450 - val_loss: 2.2493 - val_accuracy: 0.4486 - lr: 6.4000e-04\n",
      "Epoch 51/150\n",
      "591/591 [==============================] - 5s 8ms/step - loss: 2.1677 - accuracy: 0.4454 - val_loss: 2.2565 - val_accuracy: 0.4500 - lr: 6.4000e-04\n",
      "Epoch 52/150\n",
      "589/591 [============================>.] - ETA: 0s - loss: 2.1629 - accuracy: 0.4471\n",
      "Epoch 52: ReduceLROnPlateau reducing learning rate to 0.0005120000336319208.\n",
      "591/591 [==============================] - 4s 7ms/step - loss: 2.1623 - accuracy: 0.4472 - val_loss: 2.2712 - val_accuracy: 0.4428 - lr: 6.4000e-04\n",
      "Epoch 53/150\n",
      "591/591 [==============================] - 4s 7ms/step - loss: 2.1272 - accuracy: 0.4562 - val_loss: 2.2156 - val_accuracy: 0.4585 - lr: 5.1200e-04\n",
      "Epoch 54/150\n",
      "591/591 [==============================] - 4s 7ms/step - loss: 2.1192 - accuracy: 0.4565 - val_loss: 2.1980 - val_accuracy: 0.4605 - lr: 5.1200e-04\n",
      "Epoch 55/150\n",
      "591/591 [==============================] - 4s 7ms/step - loss: 2.1152 - accuracy: 0.4570 - val_loss: 2.2248 - val_accuracy: 0.4544 - lr: 5.1200e-04\n",
      "Epoch 56/150\n",
      "591/591 [==============================] - 4s 7ms/step - loss: 2.1045 - accuracy: 0.4594 - val_loss: 2.1943 - val_accuracy: 0.4633 - lr: 5.1200e-04\n",
      "Epoch 57/150\n",
      "591/591 [==============================] - 4s 7ms/step - loss: 2.0989 - accuracy: 0.4617 - val_loss: 2.2129 - val_accuracy: 0.4607 - lr: 5.1200e-04\n",
      "Epoch 58/150\n",
      "591/591 [==============================] - 4s 7ms/step - loss: 2.0943 - accuracy: 0.4597 - val_loss: 2.1929 - val_accuracy: 0.4630 - lr: 5.1200e-04\n",
      "Epoch 59/150\n",
      "591/591 [==============================] - 4s 7ms/step - loss: 2.0919 - accuracy: 0.4623 - val_loss: 2.2114 - val_accuracy: 0.4542 - lr: 5.1200e-04\n",
      "Epoch 60/150\n",
      "591/591 [==============================] - 4s 7ms/step - loss: 2.0789 - accuracy: 0.4648 - val_loss: 2.1893 - val_accuracy: 0.4649 - lr: 5.1200e-04\n",
      "Epoch 61/150\n",
      "591/591 [==============================] - 4s 7ms/step - loss: 2.0720 - accuracy: 0.4676 - val_loss: 2.1894 - val_accuracy: 0.4624 - lr: 5.1200e-04\n",
      "Epoch 62/150\n",
      "591/591 [==============================] - 4s 7ms/step - loss: 2.0677 - accuracy: 0.4701 - val_loss: 2.1878 - val_accuracy: 0.4634 - lr: 5.1200e-04\n",
      "Epoch 63/150\n",
      "591/591 [==============================] - 4s 7ms/step - loss: 2.0572 - accuracy: 0.4702 - val_loss: 2.1811 - val_accuracy: 0.4632 - lr: 5.1200e-04\n",
      "Epoch 64/150\n",
      "591/591 [==============================] - 4s 7ms/step - loss: 2.0559 - accuracy: 0.4691 - val_loss: 2.1744 - val_accuracy: 0.4672 - lr: 5.1200e-04\n",
      "Epoch 65/150\n",
      "591/591 [==============================] - 4s 7ms/step - loss: 2.0478 - accuracy: 0.4711 - val_loss: 2.1772 - val_accuracy: 0.4673 - lr: 5.1200e-04\n",
      "Epoch 66/150\n",
      "585/591 [============================>.] - ETA: 0s - loss: 2.0485 - accuracy: 0.4723\n",
      "Epoch 66: ReduceLROnPlateau reducing learning rate to 0.00040960004553198815.\n",
      "591/591 [==============================] - 4s 7ms/step - loss: 2.0492 - accuracy: 0.4721 - val_loss: 2.1872 - val_accuracy: 0.4631 - lr: 5.1200e-04\n",
      "Epoch 67/150\n",
      "591/591 [==============================] - 4s 7ms/step - loss: 2.0210 - accuracy: 0.4769 - val_loss: 2.1686 - val_accuracy: 0.4698 - lr: 4.0960e-04\n",
      "Epoch 68/150\n",
      "591/591 [==============================] - 4s 7ms/step - loss: 2.0129 - accuracy: 0.4782 - val_loss: 2.1527 - val_accuracy: 0.4709 - lr: 4.0960e-04\n",
      "Epoch 69/150\n",
      "591/591 [==============================] - 5s 8ms/step - loss: 2.0098 - accuracy: 0.4788 - val_loss: 2.1576 - val_accuracy: 0.4730 - lr: 4.0960e-04\n",
      "Epoch 70/150\n",
      "591/591 [==============================] - 4s 8ms/step - loss: 2.0041 - accuracy: 0.4809 - val_loss: 2.1476 - val_accuracy: 0.4742 - lr: 4.0960e-04\n",
      "Epoch 71/150\n",
      "591/591 [==============================] - 4s 7ms/step - loss: 1.9995 - accuracy: 0.4821 - val_loss: 2.1542 - val_accuracy: 0.4713 - lr: 4.0960e-04\n",
      "Epoch 72/150\n",
      "585/591 [============================>.] - ETA: 0s - loss: 1.9993 - accuracy: 0.4836\n",
      "Epoch 72: ReduceLROnPlateau reducing learning rate to 0.00032768002711236477.\n",
      "591/591 [==============================] - 4s 7ms/step - loss: 1.9990 - accuracy: 0.4837 - val_loss: 2.1535 - val_accuracy: 0.4717 - lr: 4.0960e-04\n",
      "Epoch 73/150\n",
      "591/591 [==============================] - 4s 7ms/step - loss: 1.9765 - accuracy: 0.4874 - val_loss: 2.1167 - val_accuracy: 0.4827 - lr: 3.2768e-04\n",
      "Epoch 74/150\n",
      "591/591 [==============================] - 4s 7ms/step - loss: 1.9700 - accuracy: 0.4871 - val_loss: 2.1307 - val_accuracy: 0.4786 - lr: 3.2768e-04\n",
      "Epoch 75/150\n",
      "588/591 [============================>.] - ETA: 0s - loss: 1.9682 - accuracy: 0.4893\n",
      "Epoch 75: ReduceLROnPlateau reducing learning rate to 0.0002621440216898918.\n",
      "591/591 [==============================] - 4s 7ms/step - loss: 1.9681 - accuracy: 0.4893 - val_loss: 2.1268 - val_accuracy: 0.4811 - lr: 3.2768e-04\n",
      "Epoch 76/150\n",
      "591/591 [==============================] - 4s 7ms/step - loss: 1.9541 - accuracy: 0.4924 - val_loss: 2.1143 - val_accuracy: 0.4854 - lr: 2.6214e-04\n",
      "Epoch 77/150\n",
      "591/591 [==============================] - 4s 7ms/step - loss: 1.9444 - accuracy: 0.4943 - val_loss: 2.1148 - val_accuracy: 0.4834 - lr: 2.6214e-04\n",
      "Epoch 78/150\n",
      "591/591 [==============================] - 4s 8ms/step - loss: 1.9414 - accuracy: 0.4957 - val_loss: 2.1104 - val_accuracy: 0.4859 - lr: 2.6214e-04\n",
      "Epoch 79/150\n",
      "591/591 [==============================] - 4s 7ms/step - loss: 1.9394 - accuracy: 0.4964 - val_loss: 2.1149 - val_accuracy: 0.4841 - lr: 2.6214e-04\n",
      "Epoch 80/150\n",
      "591/591 [==============================] - 4s 7ms/step - loss: 1.9316 - accuracy: 0.4977 - val_loss: 2.1042 - val_accuracy: 0.4871 - lr: 2.6214e-04\n",
      "Epoch 81/150\n",
      "591/591 [==============================] - 4s 7ms/step - loss: 1.9311 - accuracy: 0.4974 - val_loss: 2.1131 - val_accuracy: 0.4841 - lr: 2.6214e-04\n",
      "Epoch 82/150\n",
      "585/591 [============================>.] - ETA: 0s - loss: 1.9302 - accuracy: 0.4998\n",
      "Epoch 82: ReduceLROnPlateau reducing learning rate to 0.00020971521735191345.\n",
      "591/591 [==============================] - 4s 7ms/step - loss: 1.9312 - accuracy: 0.4995 - val_loss: 2.1119 - val_accuracy: 0.4872 - lr: 2.6214e-04\n",
      "Epoch 83/150\n",
      "591/591 [==============================] - 4s 7ms/step - loss: 1.9183 - accuracy: 0.5017 - val_loss: 2.1072 - val_accuracy: 0.4841 - lr: 2.0972e-04\n",
      "Epoch 84/150\n",
      "591/591 [==============================] - 4s 8ms/step - loss: 1.9128 - accuracy: 0.5015 - val_loss: 2.0933 - val_accuracy: 0.4905 - lr: 2.0972e-04\n",
      "Epoch 85/150\n",
      "591/591 [==============================] - 4s 7ms/step - loss: 1.9119 - accuracy: 0.5011 - val_loss: 2.0929 - val_accuracy: 0.4888 - lr: 2.0972e-04\n",
      "Epoch 86/150\n",
      "591/591 [==============================] - 4s 7ms/step - loss: 1.9049 - accuracy: 0.5033 - val_loss: 2.0960 - val_accuracy: 0.4914 - lr: 2.0972e-04\n",
      "Epoch 87/150\n",
      "585/591 [============================>.] - ETA: 0s - loss: 1.9034 - accuracy: 0.5048\n",
      "Epoch 87: ReduceLROnPlateau reducing learning rate to 0.00016777217388153076.\n",
      "591/591 [==============================] - 4s 7ms/step - loss: 1.9038 - accuracy: 0.5049 - val_loss: 2.0951 - val_accuracy: 0.4891 - lr: 2.0972e-04\n",
      "Epoch 88/150\n",
      "591/591 [==============================] - 4s 7ms/step - loss: 1.8913 - accuracy: 0.5062 - val_loss: 2.0975 - val_accuracy: 0.4878 - lr: 1.6777e-04\n",
      "Epoch 89/150\n",
      "591/591 [==============================] - 4s 7ms/step - loss: 1.8924 - accuracy: 0.5059 - val_loss: 2.0923 - val_accuracy: 0.4897 - lr: 1.6777e-04\n",
      "Epoch 90/150\n",
      "591/591 [==============================] - 4s 7ms/step - loss: 1.8929 - accuracy: 0.5073 - val_loss: 2.0965 - val_accuracy: 0.4907 - lr: 1.6777e-04\n",
      "Epoch 91/150\n",
      "586/591 [============================>.] - ETA: 0s - loss: 1.8889 - accuracy: 0.5089\n",
      "Epoch 91: ReduceLROnPlateau reducing learning rate to 0.00013421773910522462.\n",
      "591/591 [==============================] - 4s 8ms/step - loss: 1.8901 - accuracy: 0.5088 - val_loss: 2.0973 - val_accuracy: 0.4910 - lr: 1.6777e-04\n",
      "Epoch 92/150\n",
      "591/591 [==============================] - 4s 8ms/step - loss: 1.8777 - accuracy: 0.5103 - val_loss: 2.0865 - val_accuracy: 0.4941 - lr: 1.3422e-04\n",
      "Epoch 93/150\n",
      "591/591 [==============================] - 4s 7ms/step - loss: 1.8775 - accuracy: 0.5083 - val_loss: 2.0949 - val_accuracy: 0.4900 - lr: 1.3422e-04\n",
      "Epoch 94/150\n",
      "591/591 [==============================] - ETA: 0s - loss: 1.8785 - accuracy: 0.5102\n",
      "Epoch 94: ReduceLROnPlateau reducing learning rate to 0.00010737419361248613.\n",
      "591/591 [==============================] - 4s 7ms/step - loss: 1.8785 - accuracy: 0.5102 - val_loss: 2.0865 - val_accuracy: 0.4922 - lr: 1.3422e-04\n",
      "Epoch 95/150\n",
      "591/591 [==============================] - 4s 7ms/step - loss: 1.8644 - accuracy: 0.5141 - val_loss: 2.0784 - val_accuracy: 0.4963 - lr: 1.0737e-04\n",
      "Epoch 96/150\n",
      "591/591 [==============================] - 4s 7ms/step - loss: 1.8627 - accuracy: 0.5127 - val_loss: 2.0823 - val_accuracy: 0.4952 - lr: 1.0737e-04\n",
      "Epoch 97/150\n",
      "584/591 [============================>.] - ETA: 0s - loss: 1.8629 - accuracy: 0.5138\n",
      "Epoch 97: ReduceLROnPlateau reducing learning rate to 8.589935605414213e-05.\n",
      "591/591 [==============================] - 4s 7ms/step - loss: 1.8625 - accuracy: 0.5138 - val_loss: 2.0823 - val_accuracy: 0.4933 - lr: 1.0737e-04\n",
      "Epoch 98/150\n",
      "591/591 [==============================] - 4s 7ms/step - loss: 1.8592 - accuracy: 0.5162 - val_loss: 2.0792 - val_accuracy: 0.4958 - lr: 8.5899e-05\n",
      "Epoch 99/150\n",
      "591/591 [==============================] - 4s 8ms/step - loss: 1.8533 - accuracy: 0.5156 - val_loss: 2.0780 - val_accuracy: 0.4965 - lr: 8.5899e-05\n",
      "Epoch 100/150\n",
      "591/591 [==============================] - 4s 7ms/step - loss: 1.8574 - accuracy: 0.5168 - val_loss: 2.0828 - val_accuracy: 0.4939 - lr: 8.5899e-05\n",
      "Epoch 101/150\n",
      "584/591 [============================>.] - ETA: 0s - loss: 1.8527 - accuracy: 0.5151\n",
      "Epoch 101: ReduceLROnPlateau reducing learning rate to 6.871948717162013e-05.\n",
      "591/591 [==============================] - 4s 7ms/step - loss: 1.8530 - accuracy: 0.5151 - val_loss: 2.0823 - val_accuracy: 0.4927 - lr: 8.5899e-05\n",
      "Epoch 102/150\n",
      "591/591 [==============================] - 4s 7ms/step - loss: 1.8472 - accuracy: 0.5164 - val_loss: 2.0755 - val_accuracy: 0.4959 - lr: 6.8719e-05\n",
      "Epoch 103/150\n",
      "591/591 [==============================] - 4s 7ms/step - loss: 1.8433 - accuracy: 0.5162 - val_loss: 2.0773 - val_accuracy: 0.4960 - lr: 6.8719e-05\n",
      "Epoch 104/150\n",
      "585/591 [============================>.] - ETA: 0s - loss: 1.8444 - accuracy: 0.5188\n",
      "Epoch 104: ReduceLROnPlateau reducing learning rate to 5.497558740898967e-05.\n",
      "591/591 [==============================] - 4s 7ms/step - loss: 1.8457 - accuracy: 0.5187 - val_loss: 2.0792 - val_accuracy: 0.4967 - lr: 6.8719e-05\n",
      "Epoch 105/150\n",
      "591/591 [==============================] - 4s 7ms/step - loss: 1.8455 - accuracy: 0.5170 - val_loss: 2.0708 - val_accuracy: 0.4988 - lr: 5.4976e-05\n",
      "Epoch 106/150\n",
      "591/591 [==============================] - 4s 8ms/step - loss: 1.8395 - accuracy: 0.5180 - val_loss: 2.0735 - val_accuracy: 0.4972 - lr: 5.4976e-05\n",
      "Epoch 107/150\n",
      "591/591 [==============================] - ETA: 0s - loss: 1.8430 - accuracy: 0.5177\n",
      "Epoch 107: ReduceLROnPlateau reducing learning rate to 4.398046876303852e-05.\n",
      "591/591 [==============================] - 4s 7ms/step - loss: 1.8430 - accuracy: 0.5177 - val_loss: 2.0712 - val_accuracy: 0.4977 - lr: 5.4976e-05\n",
      "Epoch 108/150\n",
      "591/591 [==============================] - 4s 7ms/step - loss: 1.8380 - accuracy: 0.5196 - val_loss: 2.0707 - val_accuracy: 0.4975 - lr: 4.3980e-05\n",
      "Epoch 109/150\n",
      "591/591 [==============================] - 4s 7ms/step - loss: 1.8394 - accuracy: 0.5199 - val_loss: 2.0727 - val_accuracy: 0.4988 - lr: 4.3980e-05\n",
      "Epoch 110/150\n",
      "591/591 [==============================] - 4s 7ms/step - loss: 1.8350 - accuracy: 0.5189 - val_loss: 2.0694 - val_accuracy: 0.4994 - lr: 4.3980e-05\n",
      "Epoch 111/150\n",
      "591/591 [==============================] - 4s 7ms/step - loss: 1.8365 - accuracy: 0.5197 - val_loss: 2.0709 - val_accuracy: 0.4995 - lr: 4.3980e-05\n",
      "Epoch 112/150\n",
      "586/591 [============================>.] - ETA: 0s - loss: 1.8380 - accuracy: 0.5175\n",
      "Epoch 112: ReduceLROnPlateau reducing learning rate to 3.518437442835421e-05.\n",
      "591/591 [==============================] - 4s 7ms/step - loss: 1.8383 - accuracy: 0.5174 - val_loss: 2.0713 - val_accuracy: 0.4961 - lr: 4.3980e-05\n",
      "Epoch 113/150\n",
      "591/591 [==============================] - 4s 8ms/step - loss: 1.8338 - accuracy: 0.5205 - val_loss: 2.0677 - val_accuracy: 0.4997 - lr: 3.5184e-05\n",
      "Epoch 114/150\n",
      "591/591 [==============================] - 4s 7ms/step - loss: 1.8302 - accuracy: 0.5219 - val_loss: 2.0709 - val_accuracy: 0.4984 - lr: 3.5184e-05\n",
      "Epoch 115/150\n",
      "589/591 [============================>.] - ETA: 0s - loss: 1.8339 - accuracy: 0.5200\n",
      "Epoch 115: ReduceLROnPlateau reducing learning rate to 2.8147498960606756e-05.\n",
      "591/591 [==============================] - 4s 7ms/step - loss: 1.8335 - accuracy: 0.5201 - val_loss: 2.0694 - val_accuracy: 0.4982 - lr: 3.5184e-05\n",
      "Epoch 116/150\n",
      "591/591 [==============================] - 4s 7ms/step - loss: 1.8303 - accuracy: 0.5220 - val_loss: 2.0685 - val_accuracy: 0.4983 - lr: 2.8147e-05\n",
      "Epoch 117/150\n",
      "591/591 [==============================] - ETA: 0s - loss: 1.8300 - accuracy: 0.5219\n",
      "Epoch 117: ReduceLROnPlateau reducing learning rate to 2.25179988774471e-05.\n",
      "591/591 [==============================] - 4s 7ms/step - loss: 1.8300 - accuracy: 0.5219 - val_loss: 2.0700 - val_accuracy: 0.4995 - lr: 2.8147e-05\n",
      "Epoch 118/150\n",
      "591/591 [==============================] - 4s 7ms/step - loss: 1.8263 - accuracy: 0.5230 - val_loss: 2.0686 - val_accuracy: 0.5006 - lr: 2.2518e-05\n",
      "Epoch 119/150\n",
      "585/591 [============================>.] - ETA: 0s - loss: 1.8264 - accuracy: 0.5209\n",
      "Epoch 119: ReduceLROnPlateau reducing learning rate to 1.8014399392995985e-05.\n",
      "591/591 [==============================] - 4s 7ms/step - loss: 1.8253 - accuracy: 0.5211 - val_loss: 2.0703 - val_accuracy: 0.4992 - lr: 2.2518e-05\n",
      "Epoch 120/150\n",
      "591/591 [==============================] - 4s 8ms/step - loss: 1.8244 - accuracy: 0.5218 - val_loss: 2.0670 - val_accuracy: 0.5008 - lr: 1.8014e-05\n",
      "Epoch 121/150\n",
      "591/591 [==============================] - 4s 7ms/step - loss: 1.8244 - accuracy: 0.5234 - val_loss: 2.0687 - val_accuracy: 0.4979 - lr: 1.8014e-05\n",
      "Epoch 122/150\n",
      "589/591 [============================>.] - ETA: 0s - loss: 1.8254 - accuracy: 0.5226\n",
      "Epoch 122: ReduceLROnPlateau reducing learning rate to 1.4411519805435093e-05.\n",
      "591/591 [==============================] - 4s 8ms/step - loss: 1.8252 - accuracy: 0.5227 - val_loss: 2.0702 - val_accuracy: 0.5004 - lr: 1.8014e-05\n",
      "Epoch 123/150\n",
      "591/591 [==============================] - 4s 7ms/step - loss: 1.8239 - accuracy: 0.5214 - val_loss: 2.0672 - val_accuracy: 0.4997 - lr: 1.4412e-05\n",
      "Epoch 124/150\n",
      "584/591 [============================>.] - ETA: 0s - loss: 1.8259 - accuracy: 0.5228\n",
      "Epoch 124: ReduceLROnPlateau reducing learning rate to 1.1529216135386379e-05.\n",
      "591/591 [==============================] - 4s 7ms/step - loss: 1.8264 - accuracy: 0.5225 - val_loss: 2.0684 - val_accuracy: 0.4995 - lr: 1.4412e-05\n",
      "Epoch 125/150\n",
      "591/591 [==============================] - 4s 7ms/step - loss: 1.8237 - accuracy: 0.5217 - val_loss: 2.0676 - val_accuracy: 0.4990 - lr: 1.1529e-05\n",
      "Epoch 126/150\n",
      "591/591 [==============================] - 4s 7ms/step - loss: 1.8209 - accuracy: 0.5235 - val_loss: 2.0662 - val_accuracy: 0.5002 - lr: 1.1529e-05\n",
      "Epoch 127/150\n",
      "591/591 [==============================] - 4s 7ms/step - loss: 1.8220 - accuracy: 0.5232 - val_loss: 2.0679 - val_accuracy: 0.5002 - lr: 1.1529e-05\n",
      "Epoch 128/150\n",
      "587/591 [============================>.] - ETA: 0s - loss: 1.8223 - accuracy: 0.5228\n",
      "Epoch 128: ReduceLROnPlateau reducing learning rate to 9.223372762789951e-06.\n",
      "591/591 [==============================] - 4s 7ms/step - loss: 1.8228 - accuracy: 0.5229 - val_loss: 2.0666 - val_accuracy: 0.5004 - lr: 1.1529e-05\n",
      "Epoch 129/150\n",
      "591/591 [==============================] - 4s 7ms/step - loss: 1.8203 - accuracy: 0.5230 - val_loss: 2.0675 - val_accuracy: 0.5002 - lr: 9.2234e-06\n",
      "Epoch 130/150\n",
      "590/591 [============================>.] - ETA: 0s - loss: 1.8221 - accuracy: 0.5236\n",
      "Epoch 130: ReduceLROnPlateau reducing learning rate to 7.378698501270265e-06.\n",
      "591/591 [==============================] - 4s 7ms/step - loss: 1.8221 - accuracy: 0.5236 - val_loss: 2.0668 - val_accuracy: 0.4993 - lr: 9.2234e-06\n",
      "Epoch 131/150\n",
      "591/591 [==============================] - 4s 7ms/step - loss: 1.8224 - accuracy: 0.5239 - val_loss: 2.0671 - val_accuracy: 0.4996 - lr: 7.3787e-06\n",
      "Epoch 132/150\n",
      "586/591 [============================>.] - ETA: 0s - loss: 1.8227 - accuracy: 0.5219\n",
      "Epoch 132: ReduceLROnPlateau reducing learning rate to 5.902958946535364e-06.\n",
      "591/591 [==============================] - 4s 7ms/step - loss: 1.8234 - accuracy: 0.5217 - val_loss: 2.0673 - val_accuracy: 0.5007 - lr: 7.3787e-06\n",
      "Epoch 133/150\n",
      "591/591 [==============================] - 4s 7ms/step - loss: 1.8180 - accuracy: 0.5231 - val_loss: 2.0664 - val_accuracy: 0.5003 - lr: 5.9030e-06\n",
      "Epoch 134/150\n",
      "585/591 [============================>.] - ETA: 0s - loss: 1.8221 - accuracy: 0.5214\n",
      "Epoch 134: ReduceLROnPlateau reducing learning rate to 4.7223671572282915e-06.\n",
      "591/591 [==============================] - 4s 7ms/step - loss: 1.8228 - accuracy: 0.5214 - val_loss: 2.0666 - val_accuracy: 0.5003 - lr: 5.9030e-06\n",
      "Epoch 135/150\n",
      "591/591 [==============================] - 4s 8ms/step - loss: 1.8211 - accuracy: 0.5232 - val_loss: 2.0668 - val_accuracy: 0.5007 - lr: 4.7224e-06\n",
      "Epoch 136/150\n",
      "586/591 [============================>.] - ETA: 0s - loss: 1.8170 - accuracy: 0.5246\n",
      "Epoch 136: ReduceLROnPlateau reducing learning rate to 3.7778936530230567e-06.\n",
      "591/591 [==============================] - 4s 7ms/step - loss: 1.8166 - accuracy: 0.5249 - val_loss: 2.0670 - val_accuracy: 0.5001 - lr: 4.7224e-06\n",
      "Epoch 137/150\n",
      "591/591 [==============================] - 4s 7ms/step - loss: 1.8202 - accuracy: 0.5248 - val_loss: 2.0668 - val_accuracy: 0.5012 - lr: 3.7779e-06\n",
      "Epoch 138/150\n",
      "584/591 [============================>.] - ETA: 0s - loss: 1.8186 - accuracy: 0.5237\n",
      "Epoch 138: ReduceLROnPlateau reducing learning rate to 3.0223149224184457e-06.\n",
      "591/591 [==============================] - 4s 7ms/step - loss: 1.8180 - accuracy: 0.5237 - val_loss: 2.0663 - val_accuracy: 0.5010 - lr: 3.7779e-06\n",
      "Epoch 139/150\n",
      "591/591 [==============================] - 4s 7ms/step - loss: 1.8159 - accuracy: 0.5260 - val_loss: 2.0666 - val_accuracy: 0.5002 - lr: 3.0223e-06\n",
      "Epoch 140/150\n",
      "584/591 [============================>.] - ETA: 0s - loss: 1.8190 - accuracy: 0.5247\n",
      "Epoch 140: ReduceLROnPlateau reducing learning rate to 2.4178520106943328e-06.\n",
      "591/591 [==============================] - 4s 7ms/step - loss: 1.8195 - accuracy: 0.5246 - val_loss: 2.0667 - val_accuracy: 0.5005 - lr: 3.0223e-06\n",
      "Epoch 141/150\n",
      "591/591 [==============================] - 4s 7ms/step - loss: 1.8202 - accuracy: 0.5217 - val_loss: 2.0666 - val_accuracy: 0.4999 - lr: 2.4179e-06\n",
      "Epoch 142/150\n",
      "585/591 [============================>.] - ETA: 0s - loss: 1.8191 - accuracy: 0.5245\n",
      "Epoch 142: ReduceLROnPlateau reducing learning rate to 1.9342816813150422e-06.\n",
      "591/591 [==============================] - 4s 7ms/step - loss: 1.8196 - accuracy: 0.5242 - val_loss: 2.0669 - val_accuracy: 0.5001 - lr: 2.4179e-06\n",
      "Epoch 143/150\n",
      "591/591 [==============================] - 4s 7ms/step - loss: 1.8185 - accuracy: 0.5250 - val_loss: 2.0670 - val_accuracy: 0.5004 - lr: 1.9343e-06\n",
      "Epoch 144/150\n",
      "584/591 [============================>.] - ETA: 0s - loss: 1.8222 - accuracy: 0.5217\n",
      "Epoch 144: ReduceLROnPlateau reducing learning rate to 1.547425381431822e-06.\n",
      "591/591 [==============================] - 4s 7ms/step - loss: 1.8224 - accuracy: 0.5218 - val_loss: 2.0667 - val_accuracy: 0.5001 - lr: 1.9343e-06\n",
      "Epoch 145/150\n",
      "591/591 [==============================] - 4s 7ms/step - loss: 1.8185 - accuracy: 0.5238 - val_loss: 2.0667 - val_accuracy: 0.5005 - lr: 1.5474e-06\n",
      "Epoch 146/150\n",
      "585/591 [============================>.] - ETA: 0s - loss: 1.8130 - accuracy: 0.5245Restoring model weights from the end of the best epoch: 126.\n",
      "\n",
      "Epoch 146: ReduceLROnPlateau reducing learning rate to 1.2379403415252455e-06.\n",
      "591/591 [==============================] - 4s 7ms/step - loss: 1.8131 - accuracy: 0.5244 - val_loss: 2.0667 - val_accuracy: 0.5003 - lr: 1.5474e-06\n",
      "Epoch 146: early stopping\n",
      "Keras weights file (<HDF5 file \"variables.h5\" (mode r+)>) saving:\n",
      "...layers\n",
      "......conv1d\n",
      ".........vars\n",
      "............0\n",
      "............1\n",
      "......conv1d_1\n",
      ".........vars\n",
      "............0\n",
      "............1\n",
      "......conv1d_2\n",
      ".........vars\n",
      "............0\n",
      "............1\n",
      "......dense\n",
      ".........vars\n",
      "............0\n",
      "............1\n",
      "......dense_1\n",
      ".........vars\n",
      "............0\n",
      "............1\n",
      "......dense_2\n",
      ".........vars\n",
      "............0\n",
      "............1\n",
      "......dropout\n",
      ".........vars\n",
      "......flatten\n",
      ".........vars\n",
      "......input_layer\n",
      ".........vars\n",
      "......max_pooling1d\n",
      ".........vars\n",
      "......max_pooling1d_1\n",
      ".........vars\n",
      "......max_pooling1d_2\n",
      ".........vars\n",
      "...metrics\n",
      "......mean\n",
      ".........vars\n",
      "............0\n",
      "............1\n",
      "......mean_metric_wrapper\n",
      ".........vars\n",
      "............0\n",
      "............1\n",
      "...optimizer\n",
      "......vars\n",
      ".........0\n",
      ".........1\n",
      ".........10\n",
      ".........11\n",
      ".........12\n",
      ".........13\n",
      ".........14\n",
      ".........15\n",
      ".........16\n",
      ".........17\n",
      ".........18\n",
      ".........19\n",
      ".........2\n",
      ".........20\n",
      ".........21\n",
      ".........22\n",
      ".........23\n",
      ".........24\n",
      ".........3\n",
      ".........4\n",
      ".........5\n",
      ".........6\n",
      ".........7\n",
      ".........8\n",
      ".........9\n",
      "...vars\n",
      "Keras model archive saving:\n",
      "File Name                                             Modified             Size\n",
      "config.json                                    2024-08-30 04:27:36         5835\n",
      "variables.h5                                   2024-08-30 04:27:36     13695144\n",
      "metadata.json                                  2024-08-30 04:27:36           64\n",
      "Epoch 1/150\n",
      "591/591 [==============================] - 7s 8ms/step - loss: 5.4479 - accuracy: 0.0058 - val_loss: 5.2397 - val_accuracy: 0.0131 - lr: 0.0010\n",
      "Epoch 2/150\n",
      "591/591 [==============================] - 4s 7ms/step - loss: 4.9769 - accuracy: 0.0272 - val_loss: 4.5452 - val_accuracy: 0.0618 - lr: 0.0010\n",
      "Epoch 3/150\n",
      "591/591 [==============================] - 4s 8ms/step - loss: 4.2516 - accuracy: 0.0882 - val_loss: 3.9082 - val_accuracy: 0.1342 - lr: 0.0010\n",
      "Epoch 4/150\n",
      "591/591 [==============================] - 4s 8ms/step - loss: 3.6985 - accuracy: 0.1636 - val_loss: 3.4164 - val_accuracy: 0.2161 - lr: 0.0010\n",
      "Epoch 5/150\n",
      "591/591 [==============================] - 4s 8ms/step - loss: 3.3567 - accuracy: 0.2225 - val_loss: 3.2281 - val_accuracy: 0.2513 - lr: 0.0010\n",
      "Epoch 6/150\n",
      "591/591 [==============================] - 4s 7ms/step - loss: 3.1566 - accuracy: 0.2582 - val_loss: 3.0178 - val_accuracy: 0.2887 - lr: 0.0010\n",
      "Epoch 7/150\n",
      "591/591 [==============================] - 4s 7ms/step - loss: 2.9986 - accuracy: 0.2843 - val_loss: 2.8878 - val_accuracy: 0.3164 - lr: 0.0010\n",
      "Epoch 8/150\n",
      "591/591 [==============================] - 4s 7ms/step - loss: 2.8662 - accuracy: 0.3097 - val_loss: 2.7369 - val_accuracy: 0.3445 - lr: 0.0010\n",
      "Epoch 9/150\n",
      "591/591 [==============================] - 4s 7ms/step - loss: 2.7508 - accuracy: 0.3333 - val_loss: 2.6793 - val_accuracy: 0.3580 - lr: 0.0010\n",
      "Epoch 10/150\n",
      "591/591 [==============================] - 4s 8ms/step - loss: 2.6548 - accuracy: 0.3535 - val_loss: 2.5727 - val_accuracy: 0.3828 - lr: 0.0010\n",
      "Epoch 11/150\n",
      "591/591 [==============================] - 4s 7ms/step - loss: 2.5567 - accuracy: 0.3744 - val_loss: 2.4962 - val_accuracy: 0.3965 - lr: 0.0010\n",
      "Epoch 12/150\n",
      "591/591 [==============================] - 5s 8ms/step - loss: 2.4737 - accuracy: 0.3889 - val_loss: 2.4107 - val_accuracy: 0.4151 - lr: 0.0010\n",
      "Epoch 13/150\n",
      "591/591 [==============================] - 4s 7ms/step - loss: 2.4103 - accuracy: 0.4040 - val_loss: 2.3940 - val_accuracy: 0.4182 - lr: 0.0010\n",
      "Epoch 14/150\n",
      "591/591 [==============================] - 4s 7ms/step - loss: 2.3463 - accuracy: 0.4171 - val_loss: 2.3062 - val_accuracy: 0.4378 - lr: 0.0010\n",
      "Epoch 15/150\n",
      "591/591 [==============================] - 4s 7ms/step - loss: 2.2972 - accuracy: 0.4264 - val_loss: 2.2486 - val_accuracy: 0.4451 - lr: 0.0010\n",
      "Epoch 16/150\n",
      "591/591 [==============================] - 4s 7ms/step - loss: 2.2379 - accuracy: 0.4404 - val_loss: 2.2454 - val_accuracy: 0.4487 - lr: 0.0010\n",
      "Epoch 17/150\n",
      "591/591 [==============================] - 4s 8ms/step - loss: 2.1905 - accuracy: 0.4518 - val_loss: 2.2124 - val_accuracy: 0.4552 - lr: 0.0010\n",
      "Epoch 18/150\n",
      "591/591 [==============================] - 4s 7ms/step - loss: 2.1579 - accuracy: 0.4575 - val_loss: 2.1666 - val_accuracy: 0.4660 - lr: 0.0010\n",
      "Epoch 19/150\n",
      "591/591 [==============================] - 4s 8ms/step - loss: 2.1073 - accuracy: 0.4692 - val_loss: 2.1245 - val_accuracy: 0.4760 - lr: 0.0010\n",
      "Epoch 20/150\n",
      "591/591 [==============================] - 4s 7ms/step - loss: 2.0722 - accuracy: 0.4766 - val_loss: 2.1439 - val_accuracy: 0.4734 - lr: 0.0010\n",
      "Epoch 21/150\n",
      "591/591 [==============================] - 4s 7ms/step - loss: 2.0363 - accuracy: 0.4827 - val_loss: 2.0847 - val_accuracy: 0.4843 - lr: 0.0010\n",
      "Epoch 22/150\n",
      "591/591 [==============================] - 4s 7ms/step - loss: 2.0055 - accuracy: 0.4901 - val_loss: 2.1017 - val_accuracy: 0.4796 - lr: 0.0010\n",
      "Epoch 23/150\n",
      "591/591 [==============================] - 4s 7ms/step - loss: 1.9776 - accuracy: 0.4957 - val_loss: 2.0019 - val_accuracy: 0.5035 - lr: 0.0010\n",
      "Epoch 24/150\n",
      "591/591 [==============================] - 4s 7ms/step - loss: 1.9452 - accuracy: 0.5043 - val_loss: 2.0146 - val_accuracy: 0.5006 - lr: 0.0010\n",
      "Epoch 25/150\n",
      "591/591 [==============================] - 4s 8ms/step - loss: 1.9069 - accuracy: 0.5110 - val_loss: 1.9791 - val_accuracy: 0.5077 - lr: 0.0010\n",
      "Epoch 26/150\n",
      "591/591 [==============================] - 5s 8ms/step - loss: 1.8930 - accuracy: 0.5138 - val_loss: 1.9464 - val_accuracy: 0.5182 - lr: 0.0010\n",
      "Epoch 27/150\n",
      "591/591 [==============================] - 4s 7ms/step - loss: 1.8583 - accuracy: 0.5219 - val_loss: 1.9563 - val_accuracy: 0.5167 - lr: 0.0010\n",
      "Epoch 28/150\n",
      "591/591 [==============================] - 4s 8ms/step - loss: 1.8242 - accuracy: 0.5300 - val_loss: 1.9162 - val_accuracy: 0.5242 - lr: 0.0010\n",
      "Epoch 29/150\n",
      "591/591 [==============================] - 4s 7ms/step - loss: 1.8070 - accuracy: 0.5329 - val_loss: 1.9245 - val_accuracy: 0.5220 - lr: 0.0010\n",
      "Epoch 30/150\n",
      "591/591 [==============================] - 4s 7ms/step - loss: 1.7836 - accuracy: 0.5377 - val_loss: 1.8851 - val_accuracy: 0.5316 - lr: 0.0010\n",
      "Epoch 31/150\n",
      "591/591 [==============================] - 4s 7ms/step - loss: 1.7605 - accuracy: 0.5457 - val_loss: 1.9526 - val_accuracy: 0.5110 - lr: 0.0010\n",
      "Epoch 32/150\n",
      "591/591 [==============================] - 4s 8ms/step - loss: 1.7431 - accuracy: 0.5483 - val_loss: 1.8715 - val_accuracy: 0.5343 - lr: 0.0010\n",
      "Epoch 33/150\n",
      "591/591 [==============================] - 4s 7ms/step - loss: 1.7237 - accuracy: 0.5535 - val_loss: 1.8695 - val_accuracy: 0.5357 - lr: 0.0010\n",
      "Epoch 34/150\n",
      "591/591 [==============================] - 4s 8ms/step - loss: 1.6941 - accuracy: 0.5590 - val_loss: 1.8792 - val_accuracy: 0.5332 - lr: 0.0010\n",
      "Epoch 35/150\n",
      "591/591 [==============================] - 4s 7ms/step - loss: 1.6794 - accuracy: 0.5624 - val_loss: 1.8384 - val_accuracy: 0.5449 - lr: 0.0010\n",
      "Epoch 36/150\n",
      "591/591 [==============================] - 4s 7ms/step - loss: 1.6575 - accuracy: 0.5680 - val_loss: 1.8566 - val_accuracy: 0.5386 - lr: 0.0010\n",
      "Epoch 37/150\n",
      "591/591 [==============================] - 4s 7ms/step - loss: 1.6421 - accuracy: 0.5697 - val_loss: 1.8346 - val_accuracy: 0.5455 - lr: 0.0010\n",
      "Epoch 38/150\n",
      "591/591 [==============================] - 4s 7ms/step - loss: 1.6275 - accuracy: 0.5746 - val_loss: 1.7968 - val_accuracy: 0.5538 - lr: 0.0010\n",
      "Epoch 39/150\n",
      "591/591 [==============================] - 4s 8ms/step - loss: 1.6032 - accuracy: 0.5778 - val_loss: 1.7585 - val_accuracy: 0.5631 - lr: 0.0010\n",
      "Epoch 40/150\n",
      "591/591 [==============================] - 4s 7ms/step - loss: 1.5816 - accuracy: 0.5846 - val_loss: 1.7737 - val_accuracy: 0.5595 - lr: 0.0010\n",
      "Epoch 41/150\n",
      "590/591 [============================>.] - ETA: 0s - loss: 1.5738 - accuracy: 0.5859\n",
      "Epoch 41: ReduceLROnPlateau reducing learning rate to 0.000800000037997961.\n",
      "591/591 [==============================] - 5s 8ms/step - loss: 1.5735 - accuracy: 0.5861 - val_loss: 1.8170 - val_accuracy: 0.5508 - lr: 0.0010\n",
      "Epoch 42/150\n",
      "591/591 [==============================] - 4s 7ms/step - loss: 1.5055 - accuracy: 0.6049 - val_loss: 1.7703 - val_accuracy: 0.5630 - lr: 8.0000e-04\n",
      "Epoch 43/150\n",
      "591/591 [==============================] - 4s 7ms/step - loss: 1.4871 - accuracy: 0.6072 - val_loss: 1.7379 - val_accuracy: 0.5681 - lr: 8.0000e-04\n",
      "Epoch 44/150\n",
      "591/591 [==============================] - 4s 7ms/step - loss: 1.4763 - accuracy: 0.6103 - val_loss: 1.7772 - val_accuracy: 0.5633 - lr: 8.0000e-04\n",
      "Epoch 45/150\n",
      "584/591 [============================>.] - ETA: 0s - loss: 1.4530 - accuracy: 0.6149\n",
      "Epoch 45: ReduceLROnPlateau reducing learning rate to 0.0006400000303983689.\n",
      "591/591 [==============================] - 4s 7ms/step - loss: 1.4528 - accuracy: 0.6148 - val_loss: 1.7520 - val_accuracy: 0.5671 - lr: 8.0000e-04\n",
      "Epoch 46/150\n",
      "591/591 [==============================] - 5s 8ms/step - loss: 1.4023 - accuracy: 0.6289 - val_loss: 1.6935 - val_accuracy: 0.5825 - lr: 6.4000e-04\n",
      "Epoch 47/150\n",
      "591/591 [==============================] - 4s 7ms/step - loss: 1.3887 - accuracy: 0.6313 - val_loss: 1.7191 - val_accuracy: 0.5768 - lr: 6.4000e-04\n",
      "Epoch 48/150\n",
      "585/591 [============================>.] - ETA: 0s - loss: 1.3794 - accuracy: 0.6327\n",
      "Epoch 48: ReduceLROnPlateau reducing learning rate to 0.0005120000336319208.\n",
      "591/591 [==============================] - 4s 7ms/step - loss: 1.3789 - accuracy: 0.6330 - val_loss: 1.7106 - val_accuracy: 0.5779 - lr: 6.4000e-04\n",
      "Epoch 49/150\n",
      "591/591 [==============================] - 4s 7ms/step - loss: 1.3278 - accuracy: 0.6472 - val_loss: 1.6982 - val_accuracy: 0.5822 - lr: 5.1200e-04\n",
      "Epoch 50/150\n",
      "591/591 [==============================] - ETA: 0s - loss: 1.3172 - accuracy: 0.6484\n",
      "Epoch 50: ReduceLROnPlateau reducing learning rate to 0.00040960004553198815.\n",
      "591/591 [==============================] - 4s 7ms/step - loss: 1.3172 - accuracy: 0.6484 - val_loss: 1.7012 - val_accuracy: 0.5808 - lr: 5.1200e-04\n",
      "Epoch 51/150\n",
      "591/591 [==============================] - 4s 7ms/step - loss: 1.2766 - accuracy: 0.6576 - val_loss: 1.6744 - val_accuracy: 0.5891 - lr: 4.0960e-04\n",
      "Epoch 52/150\n",
      "591/591 [==============================] - 4s 7ms/step - loss: 1.2679 - accuracy: 0.6590 - val_loss: 1.6815 - val_accuracy: 0.5873 - lr: 4.0960e-04\n",
      "Epoch 53/150\n",
      "585/591 [============================>.] - ETA: 0s - loss: 1.2579 - accuracy: 0.6621\n",
      "Epoch 53: ReduceLROnPlateau reducing learning rate to 0.00032768002711236477.\n",
      "591/591 [==============================] - 4s 7ms/step - loss: 1.2576 - accuracy: 0.6622 - val_loss: 1.6834 - val_accuracy: 0.5873 - lr: 4.0960e-04\n",
      "Epoch 54/150\n",
      "591/591 [==============================] - 4s 8ms/step - loss: 1.2273 - accuracy: 0.6709 - val_loss: 1.6815 - val_accuracy: 0.5913 - lr: 3.2768e-04\n",
      "Epoch 55/150\n",
      "591/591 [==============================] - 4s 7ms/step - loss: 1.2207 - accuracy: 0.6711 - val_loss: 1.6628 - val_accuracy: 0.5947 - lr: 3.2768e-04\n",
      "Epoch 56/150\n",
      "591/591 [==============================] - 4s 8ms/step - loss: 1.2085 - accuracy: 0.6738 - val_loss: 1.6580 - val_accuracy: 0.5970 - lr: 3.2768e-04\n",
      "Epoch 57/150\n",
      "591/591 [==============================] - 4s 7ms/step - loss: 1.2009 - accuracy: 0.6768 - val_loss: 1.6686 - val_accuracy: 0.5949 - lr: 3.2768e-04\n",
      "Epoch 58/150\n",
      "591/591 [==============================] - 4s 7ms/step - loss: 1.2003 - accuracy: 0.6761 - val_loss: 1.6498 - val_accuracy: 0.6019 - lr: 3.2768e-04\n",
      "Epoch 59/150\n",
      "591/591 [==============================] - 4s 7ms/step - loss: 1.1906 - accuracy: 0.6796 - val_loss: 1.6539 - val_accuracy: 0.5960 - lr: 3.2768e-04\n",
      "Epoch 60/150\n",
      "585/591 [============================>.] - ETA: 0s - loss: 1.1833 - accuracy: 0.6812\n",
      "Epoch 60: ReduceLROnPlateau reducing learning rate to 0.0002621440216898918.\n",
      "591/591 [==============================] - 4s 7ms/step - loss: 1.1840 - accuracy: 0.6810 - val_loss: 1.6740 - val_accuracy: 0.5945 - lr: 3.2768e-04\n",
      "Epoch 61/150\n",
      "591/591 [==============================] - 4s 7ms/step - loss: 1.1579 - accuracy: 0.6883 - val_loss: 1.6603 - val_accuracy: 0.5974 - lr: 2.6214e-04\n",
      "Epoch 62/150\n",
      "585/591 [============================>.] - ETA: 0s - loss: 1.1417 - accuracy: 0.6917\n",
      "Epoch 62: ReduceLROnPlateau reducing learning rate to 0.00020971521735191345.\n",
      "591/591 [==============================] - 4s 7ms/step - loss: 1.1435 - accuracy: 0.6914 - val_loss: 1.6515 - val_accuracy: 0.5983 - lr: 2.6214e-04\n",
      "Epoch 63/150\n",
      "591/591 [==============================] - 4s 7ms/step - loss: 1.1253 - accuracy: 0.6961 - val_loss: 1.6353 - val_accuracy: 0.6041 - lr: 2.0972e-04\n",
      "Epoch 64/150\n",
      "591/591 [==============================] - 4s 7ms/step - loss: 1.1197 - accuracy: 0.6969 - val_loss: 1.6528 - val_accuracy: 0.5978 - lr: 2.0972e-04\n",
      "Epoch 65/150\n",
      "591/591 [==============================] - 4s 7ms/step - loss: 1.1132 - accuracy: 0.7001 - val_loss: 1.6335 - val_accuracy: 0.6011 - lr: 2.0972e-04\n",
      "Epoch 66/150\n",
      "591/591 [==============================] - 4s 7ms/step - loss: 1.1097 - accuracy: 0.6987 - val_loss: 1.6419 - val_accuracy: 0.6018 - lr: 2.0972e-04\n",
      "Epoch 67/150\n",
      "585/591 [============================>.] - ETA: 0s - loss: 1.1019 - accuracy: 0.7010\n",
      "Epoch 67: ReduceLROnPlateau reducing learning rate to 0.00016777217388153076.\n",
      "591/591 [==============================] - 4s 7ms/step - loss: 1.1016 - accuracy: 0.7011 - val_loss: 1.6486 - val_accuracy: 0.6028 - lr: 2.0972e-04\n",
      "Epoch 68/150\n",
      "591/591 [==============================] - 4s 8ms/step - loss: 1.0868 - accuracy: 0.7052 - val_loss: 1.6409 - val_accuracy: 0.6032 - lr: 1.6777e-04\n",
      "Epoch 69/150\n",
      "585/591 [============================>.] - ETA: 0s - loss: 1.0799 - accuracy: 0.7075\n",
      "Epoch 69: ReduceLROnPlateau reducing learning rate to 0.00013421773910522462.\n",
      "591/591 [==============================] - 4s 7ms/step - loss: 1.0791 - accuracy: 0.7076 - val_loss: 1.6497 - val_accuracy: 0.6040 - lr: 1.6777e-04\n",
      "Epoch 70/150\n",
      "591/591 [==============================] - 4s 7ms/step - loss: 1.0663 - accuracy: 0.7099 - val_loss: 1.6347 - val_accuracy: 0.6032 - lr: 1.3422e-04\n",
      "Epoch 71/150\n",
      "585/591 [============================>.] - ETA: 0s - loss: 1.0633 - accuracy: 0.7113\n",
      "Epoch 71: ReduceLROnPlateau reducing learning rate to 0.00010737419361248613.\n",
      "591/591 [==============================] - 4s 7ms/step - loss: 1.0628 - accuracy: 0.7115 - val_loss: 1.6419 - val_accuracy: 0.6041 - lr: 1.3422e-04\n",
      "Epoch 72/150\n",
      "591/591 [==============================] - 4s 7ms/step - loss: 1.0514 - accuracy: 0.7153 - val_loss: 1.6400 - val_accuracy: 0.6070 - lr: 1.0737e-04\n",
      "Epoch 73/150\n",
      "591/591 [==============================] - ETA: 0s - loss: 1.0430 - accuracy: 0.7172\n",
      "Epoch 73: ReduceLROnPlateau reducing learning rate to 8.589935605414213e-05.\n",
      "591/591 [==============================] - 4s 7ms/step - loss: 1.0430 - accuracy: 0.7172 - val_loss: 1.6348 - val_accuracy: 0.6055 - lr: 1.0737e-04\n",
      "Epoch 74/150\n",
      "591/591 [==============================] - 4s 7ms/step - loss: 1.0364 - accuracy: 0.7206 - val_loss: 1.6331 - val_accuracy: 0.6068 - lr: 8.5899e-05\n",
      "Epoch 75/150\n",
      "591/591 [==============================] - 4s 7ms/step - loss: 1.0336 - accuracy: 0.7212 - val_loss: 1.6349 - val_accuracy: 0.6066 - lr: 8.5899e-05\n",
      "Epoch 76/150\n",
      "585/591 [============================>.] - ETA: 0s - loss: 1.0323 - accuracy: 0.7207\n",
      "Epoch 76: ReduceLROnPlateau reducing learning rate to 6.871948717162013e-05.\n",
      "591/591 [==============================] - 4s 8ms/step - loss: 1.0314 - accuracy: 0.7209 - val_loss: 1.6344 - val_accuracy: 0.6072 - lr: 8.5899e-05\n",
      "Epoch 77/150\n",
      "591/591 [==============================] - 4s 7ms/step - loss: 1.0229 - accuracy: 0.7216 - val_loss: 1.6363 - val_accuracy: 0.6073 - lr: 6.8719e-05\n",
      "Epoch 78/150\n",
      "585/591 [============================>.] - ETA: 0s - loss: 1.0251 - accuracy: 0.7214\n",
      "Epoch 78: ReduceLROnPlateau reducing learning rate to 5.497558740898967e-05.\n",
      "591/591 [==============================] - 4s 7ms/step - loss: 1.0249 - accuracy: 0.7214 - val_loss: 1.6388 - val_accuracy: 0.6063 - lr: 6.8719e-05\n",
      "Epoch 79/150\n",
      "591/591 [==============================] - 4s 8ms/step - loss: 1.0126 - accuracy: 0.7258 - val_loss: 1.6367 - val_accuracy: 0.6081 - lr: 5.4976e-05\n",
      "Epoch 80/150\n",
      "585/591 [============================>.] - ETA: 0s - loss: 1.0124 - accuracy: 0.7250\n",
      "Epoch 80: ReduceLROnPlateau reducing learning rate to 4.398046876303852e-05.\n",
      "591/591 [==============================] - 4s 7ms/step - loss: 1.0117 - accuracy: 0.7252 - val_loss: 1.6397 - val_accuracy: 0.6072 - lr: 5.4976e-05\n",
      "Epoch 81/150\n",
      "591/591 [==============================] - 4s 7ms/step - loss: 1.0056 - accuracy: 0.7267 - val_loss: 1.6342 - val_accuracy: 0.6063 - lr: 4.3980e-05\n",
      "Epoch 82/150\n",
      "591/591 [==============================] - ETA: 0s - loss: 1.0049 - accuracy: 0.7273\n",
      "Epoch 82: ReduceLROnPlateau reducing learning rate to 3.518437442835421e-05.\n",
      "591/591 [==============================] - 4s 7ms/step - loss: 1.0049 - accuracy: 0.7273 - val_loss: 1.6356 - val_accuracy: 0.6067 - lr: 4.3980e-05\n",
      "Epoch 83/150\n",
      "591/591 [==============================] - 4s 7ms/step - loss: 0.9995 - accuracy: 0.7298 - val_loss: 1.6347 - val_accuracy: 0.6055 - lr: 3.5184e-05\n",
      "Epoch 84/150\n",
      "583/591 [============================>.] - ETA: 0s - loss: 0.9995 - accuracy: 0.7293\n",
      "Epoch 84: ReduceLROnPlateau reducing learning rate to 2.8147498960606756e-05.\n",
      "591/591 [==============================] - 4s 7ms/step - loss: 1.0003 - accuracy: 0.7291 - val_loss: 1.6392 - val_accuracy: 0.6080 - lr: 3.5184e-05\n",
      "Epoch 85/150\n",
      "591/591 [==============================] - 4s 7ms/step - loss: 0.9990 - accuracy: 0.7284 - val_loss: 1.6368 - val_accuracy: 0.6093 - lr: 2.8147e-05\n",
      "Epoch 86/150\n",
      "588/591 [============================>.] - ETA: 0s - loss: 0.9977 - accuracy: 0.7295\n",
      "Epoch 86: ReduceLROnPlateau reducing learning rate to 2.25179988774471e-05.\n",
      "591/591 [==============================] - 4s 7ms/step - loss: 0.9974 - accuracy: 0.7295 - val_loss: 1.6401 - val_accuracy: 0.6090 - lr: 2.8147e-05\n",
      "Epoch 87/150\n",
      "591/591 [==============================] - 4s 7ms/step - loss: 0.9901 - accuracy: 0.7310 - val_loss: 1.6343 - val_accuracy: 0.6083 - lr: 2.2518e-05\n",
      "Epoch 88/150\n",
      "583/591 [============================>.] - ETA: 0s - loss: 0.9909 - accuracy: 0.7296\n",
      "Epoch 88: ReduceLROnPlateau reducing learning rate to 1.8014399392995985e-05.\n",
      "591/591 [==============================] - 4s 7ms/step - loss: 0.9918 - accuracy: 0.7293 - val_loss: 1.6361 - val_accuracy: 0.6082 - lr: 2.2518e-05\n",
      "Epoch 89/150\n",
      "591/591 [==============================] - 4s 7ms/step - loss: 0.9901 - accuracy: 0.7322 - val_loss: 1.6364 - val_accuracy: 0.6085 - lr: 1.8014e-05\n",
      "Epoch 90/150\n",
      "587/591 [============================>.] - ETA: 0s - loss: 0.9919 - accuracy: 0.7319\n",
      "Epoch 90: ReduceLROnPlateau reducing learning rate to 1.4411519805435093e-05.\n",
      "591/591 [==============================] - 4s 8ms/step - loss: 0.9909 - accuracy: 0.7320 - val_loss: 1.6376 - val_accuracy: 0.6092 - lr: 1.8014e-05\n",
      "Epoch 91/150\n",
      "591/591 [==============================] - 4s 7ms/step - loss: 0.9895 - accuracy: 0.7321 - val_loss: 1.6355 - val_accuracy: 0.6092 - lr: 1.4412e-05\n",
      "Epoch 92/150\n",
      "585/591 [============================>.] - ETA: 0s - loss: 0.9858 - accuracy: 0.7325\n",
      "Epoch 92: ReduceLROnPlateau reducing learning rate to 1.1529216135386379e-05.\n",
      "591/591 [==============================] - 4s 7ms/step - loss: 0.9855 - accuracy: 0.7325 - val_loss: 1.6363 - val_accuracy: 0.6081 - lr: 1.4412e-05\n",
      "Epoch 93/150\n",
      "591/591 [==============================] - 4s 7ms/step - loss: 0.9855 - accuracy: 0.7333 - val_loss: 1.6356 - val_accuracy: 0.6085 - lr: 1.1529e-05\n",
      "Epoch 94/150\n",
      "586/591 [============================>.] - ETA: 0s - loss: 0.9862 - accuracy: 0.7321Restoring model weights from the end of the best epoch: 74.\n",
      "\n",
      "Epoch 94: ReduceLROnPlateau reducing learning rate to 9.223372762789951e-06.\n",
      "591/591 [==============================] - 4s 7ms/step - loss: 0.9859 - accuracy: 0.7320 - val_loss: 1.6355 - val_accuracy: 0.6088 - lr: 1.1529e-05\n",
      "Epoch 94: early stopping\n",
      "Keras weights file (<HDF5 file \"variables.h5\" (mode r+)>) saving:\n",
      "...layers\n",
      "......conv1d\n",
      ".........activation\n",
      "............vars\n",
      ".........vars\n",
      "............0\n",
      "............1\n",
      "......conv1d_1\n",
      ".........activation\n",
      "............vars\n",
      ".........vars\n",
      "............0\n",
      "............1\n",
      "......conv1d_2\n",
      ".........activation\n",
      "............vars\n",
      ".........vars\n",
      "............0\n",
      "............1\n",
      "......dense\n",
      ".........activation\n",
      "............vars\n",
      ".........vars\n",
      "............0\n",
      "............1\n",
      "......dense_1\n",
      ".........activation\n",
      "............vars\n",
      ".........vars\n",
      "............0\n",
      "............1\n",
      "......dense_2\n",
      ".........vars\n",
      "............0\n",
      "............1\n",
      "......dropout\n",
      ".........vars\n",
      "......flatten\n",
      ".........vars\n",
      "......input_layer\n",
      ".........vars\n",
      "......max_pooling1d\n",
      ".........vars\n",
      "......max_pooling1d_1\n",
      ".........vars\n",
      "......max_pooling1d_2\n",
      ".........vars\n",
      "...metrics\n",
      "......mean\n",
      ".........vars\n",
      "............0\n",
      "............1\n",
      "......mean_metric_wrapper\n",
      ".........vars\n",
      "............0\n",
      "............1\n",
      "...optimizer\n",
      "......vars\n",
      ".........0\n",
      ".........1\n",
      ".........10\n",
      ".........11\n",
      ".........12\n",
      ".........13\n",
      ".........14\n",
      ".........15\n",
      ".........16\n",
      ".........17\n",
      ".........18\n",
      ".........19\n",
      ".........2\n",
      ".........20\n",
      ".........21\n",
      ".........22\n",
      ".........23\n",
      ".........24\n",
      ".........3\n",
      ".........4\n",
      ".........5\n",
      ".........6\n",
      ".........7\n",
      ".........8\n",
      ".........9\n",
      "...vars\n",
      "Keras model archive saving:\n",
      "File Name                                             Modified             Size\n",
      "config.json                                    2024-08-30 04:34:33         6498\n",
      "variables.h5                                   2024-08-30 04:34:33     13703800\n",
      "metadata.json                                  2024-08-30 04:34:33           64\n"
     ]
    }
   ],
   "source": [
    "epochs = 150\n",
    "batch_size = 128\n",
    "model_histories = []\n",
    "is_training = True\n",
    "model_class = Model(is_training)\n",
    "X, y = model_class.preprocess()\n",
    "print('data shape: ', X.shape)\n",
    "\n",
    "# build list of models, each of these models builds tensorflow model for use\n",
    "# they'll be trained iteratived, saved and plotted in the next step\n",
    "# added notes above each one about their performance, just as a preview of its progression / for my own reference\n",
    "model_function_list = [\n",
    "    #model 1: base model approach, ~0.3509 accuracy, early stop at 46 epochs\n",
    "#     model_class.compose,  \n",
    "    \n",
    "#     # model 2: more layers approach, ~0.0044 acacuracy, early stop at epochs 49 epochs\n",
    "#     model_class.compose_2, \n",
    "    \n",
    "#     # model 3: change acitivation function to relu leaky approach: ~0.38 accuracy, 100 epochs\n",
    "#     model_class.compose_3, \n",
    "    \n",
    "#     # model 4: add dropout after each dense layer, ~0.36 accuracy plateau, 100 epochs\n",
    "#     model_class.compose_4, \n",
    "    \n",
    "#     # model 5: base model but change batch size to 64 instead of 128, ~0.35 accuracy, early stop\n",
    "#     model_class.compose,\n",
    "    \n",
    "#     # model 6: dropout and relu leaky, ~39% with 100 epochs\n",
    "#     model_class.compose_6, \n",
    "    \n",
    "#     # model 7: ~0.3628 at 100 epochs\n",
    "#     model_class.compose_7, \n",
    "    \n",
    "#     # model 8: add convolutional layers, ~0.4489 at 100 epochs\n",
    "#     model_class.compose_8, \n",
    "    \n",
    "#     # model 9: convolutional layers with ReLU leaky, ~61% accuracy 100 epochs\n",
    "    model_class.compose_8,\n",
    "    \n",
    "    # model 10: keep only 1 convolutional layer from prior run, ~62% 100 epochs\n",
    "    model_class.compose_9]\n",
    "\n",
    "for idx, compose_model_fn in enumerate(model_function_list):\n",
    "    # construct tensorflow model\n",
    "    model = compose_model_fn()\n",
    "    \n",
    "    # batch size is 128 for all expcept for experiment/model #5\n",
    "    batch_size = 64 if idx == 4 else batch_size\n",
    "    \n",
    "    # train model\n",
    "    model_history = model_class.train(X, y, model, epochs, batch_size)\n",
    "     \n",
    "    # save model in outputs so we dont have to retrain later\n",
    "    model_name = 'model_' + str(idx+1) + '_' + str(epochs) + '_epochs'\n",
    "    model_class.save(model_history, model_name)\n",
    "    \n",
    "    # save history for plotting\n",
    "    model_histories.append(model_history)"
   ]
  },
  {
   "cell_type": "markdown",
   "id": "e2a0fb39",
   "metadata": {
    "papermill": {
     "duration": 2.616171,
     "end_time": "2024-08-30T04:34:39.183166",
     "exception": false,
     "start_time": "2024-08-30T04:34:36.566995",
     "status": "completed"
    },
    "tags": []
   },
   "source": [
    "# <font color='289C4E'>8. Evaluate models <font><a class='anchor' id='eval'></a> [↑](#top)\n",
    "    \n",
    "This step will plot validation accuracy vs training accuracy for each model, as well as loss\n",
    "    \n",
    "It will also plot a cummaltive plot of all the models together to compare their accuracy"
   ]
  },
  {
   "cell_type": "code",
   "execution_count": 14,
   "id": "3096f15b",
   "metadata": {
    "execution": {
     "iopub.execute_input": "2024-08-30T04:34:44.332547Z",
     "iopub.status.busy": "2024-08-30T04:34:44.331592Z",
     "iopub.status.idle": "2024-08-30T04:34:45.054687Z",
     "shell.execute_reply": "2024-08-30T04:34:45.053797Z"
    },
    "papermill": {
     "duration": 3.298842,
     "end_time": "2024-08-30T04:34:45.057061",
     "exception": false,
     "start_time": "2024-08-30T04:34:41.758219",
     "status": "completed"
    },
    "tags": []
   },
   "outputs": [
    {
     "data": {
      "image/png": "[encoded data removed]",
      "text/plain": [
       "<Figure size 1200x1200 with 4 Axes>"
      ]
     },
     "metadata": {},
     "output_type": "display_data"
    },
    {
     "data": {
      "image/png": "[encoded data removed]",
      "text/plain": [
       "<Figure size 800x600 with 1 Axes>"
      ]
     },
     "metadata": {},
     "output_type": "display_data"
    }
   ],
   "source": [
    "eval_class = Evaluate()\n",
    "eval_class.plot_valdiation_multiple_models(model_histories)\n",
    "eval_class.plot_validation_cumlative(model_histories)"
   ]
  },
  {
   "cell_type": "markdown",
   "id": "0aae5915",
   "metadata": {
    "papermill": {
     "duration": 2.59626,
     "end_time": "2024-08-30T04:34:50.300863",
     "exception": false,
     "start_time": "2024-08-30T04:34:47.704603",
     "status": "completed"
    },
    "tags": []
   },
   "source": [
    "# <font color='289C4E'> Create submission <font><a class='anchor' id='future_work'></a> [↑](#top)\n",
    "    "
   ]
  },
  {
   "cell_type": "code",
   "execution_count": 15,
   "id": "104c86d1",
   "metadata": {
    "execution": {
     "iopub.execute_input": "2024-08-30T04:34:55.485994Z",
     "iopub.status.busy": "2024-08-30T04:34:55.485212Z",
     "iopub.status.idle": "2024-08-30T04:34:55.622464Z",
     "shell.execute_reply": "2024-08-30T04:34:55.621469Z"
    },
    "papermill": {
     "duration": 2.729295,
     "end_time": "2024-08-30T04:34:55.624907",
     "exception": false,
     "start_time": "2024-08-30T04:34:52.895612",
     "status": "completed"
    },
    "tags": []
   },
   "outputs": [
    {
     "data": {
      "text/plain": [
       "<tf.Tensor: shape=(1, 3258), dtype=float32, numpy=\n",
       "array([[ 0.52765715,  0.37799075, -0.03728105, ...,  0.15039368,\n",
       "         0.0695638 ,  0.04059875]], dtype=float32)>"
      ]
     },
     "execution_count": 15,
     "metadata": {},
     "output_type": "execute_result"
    }
   ],
   "source": [
    "# https://www.kaggle.com/code/dschettler8845/gislr-learn-eda-baseline\n",
    "class PrepInputs(tf.keras.layers.Layer):\n",
    "    def __init__(self, face_idx_range=(0, 468), lh_idx_range=(468, 489), \n",
    "                 pose_idx_range=(489, 522), rh_idx_range=(522, 543)):\n",
    "        super(PrepInputs, self).__init__()\n",
    "        self.idx_ranges = [face_idx_range, lh_idx_range, pose_idx_range, rh_idx_range]\n",
    "        self.flat_feat_lens = [3*(_range[1]-_range[0]) for _range in self.idx_ranges]\n",
    "    \n",
    "    def call(self, x_in):\n",
    "        \n",
    "        # Split the single vector into 4\n",
    "        xs = [x_in[:, _range[0]:_range[1], :] for _range in self.idx_ranges]\n",
    "        \n",
    "        # Reshape based on specific number of keypoints\n",
    "        xs = [tf.reshape(_x, (-1, flat_feat_len)) for _x, flat_feat_len in zip(xs, self.flat_feat_lens)]\n",
    "        \n",
    "        # Drop empty rows - Empty rows are present in \n",
    "        #   --> pose, lh, rh\n",
    "        #   --> so we don't have to for face\n",
    "        xs[1:] = [\n",
    "            tf.boolean_mask(_x, tf.reduce_all(tf.logical_not(tf.math.is_nan(_x)), axis=1), axis=0)\n",
    "            for _x in xs[1:]\n",
    "        ]\n",
    "        \n",
    "        # Get means and stds\n",
    "        x_means = [tf.math.reduce_mean(_x, axis=0) for _x in xs]\n",
    "        x_stds  = [tf.math.reduce_std(_x,  axis=0) for _x in xs]\n",
    "        \n",
    "        x_out = tf.concat([*x_means, *x_stds], axis=0)\n",
    "        x_out = tf.where(tf.math.is_finite(x_out), x_out, tf.zeros_like(x_out))\n",
    "        return tf.expand_dims(x_out, axis=0)\n",
    "    \n",
    "PrepInputs()(model_class.utilties.load_relevant_data_subset(train_data.path[0]))"
   ]
  },
  {
   "cell_type": "code",
   "execution_count": 16,
   "id": "6f36b619",
   "metadata": {
    "execution": {
     "iopub.execute_input": "2024-08-30T04:35:00.835177Z",
     "iopub.status.busy": "2024-08-30T04:35:00.834186Z",
     "iopub.status.idle": "2024-08-30T04:35:01.345186Z",
     "shell.execute_reply": "2024-08-30T04:35:01.344266Z"
    },
    "papermill": {
     "duration": 3.119628,
     "end_time": "2024-08-30T04:35:01.347890",
     "exception": false,
     "start_time": "2024-08-30T04:34:58.228262",
     "status": "completed"
    },
    "tags": []
   },
   "outputs": [],
   "source": [
    "# https://www.kaggle.com/code/dschettler8845/gislr-learn-eda-baseline\n",
    "class TensorflowLiteModel(tf.Module):\n",
    "    \"\"\"\n",
    "    TensorFlow Lite model that takes input tensors and applies:\n",
    "        – a preprocessing model\n",
    "        – the ISLR model \n",
    "    \"\"\"\n",
    "\n",
    "    def __init__(self, islr_model):\n",
    "        \"\"\"\n",
    "        Initializes the TensorflowLiteModel with the specified preprocessing model and ISLR model.\n",
    "        \"\"\"\n",
    "        super(TensorflowLiteModel, self).__init__()\n",
    "\n",
    "        # Load the feature generation and main models\n",
    "        self.prep_inputs = PrepInputs()\n",
    "        self.islr_model   = islr_model\n",
    "    \n",
    "    @tf.function(input_signature=[tf.TensorSpec(shape=[None, 543, 3], dtype=tf.float32, name='inputs')])\n",
    "    def __call__(self, inputs):\n",
    "        \"\"\"\n",
    "        Applies the feature generation model and main model to the input tensors.\n",
    "\n",
    "        Args:\n",
    "            inputs: Input tensor with shape [batch_size, 543, 3].\n",
    "\n",
    "        Returns:\n",
    "            A dictionary with a single key 'outputs' and corresponding output tensor.\n",
    "        \"\"\"\n",
    "        x = self.prep_inputs(tf.cast(inputs, dtype=tf.float32))\n",
    "        outputs = self.islr_model(inputs)[0, :]\n",
    "        return {'outputs': outputs}\n",
    "\n",
    "tflite_keras_model = TensorflowLiteModel(islr_model=model)\n",
    "data_test = model_class.utilties.load_relevant_data_subset(train_data.path[0])\n",
    "demo_output = tflite_keras_model(model_class.utilties.load_relevant_data_subset(train_data.path[0]))[\"outputs\"]"
   ]
  },
  {
   "cell_type": "markdown",
   "id": "bc1bc4c1",
   "metadata": {
    "papermill": {
     "duration": 2.631792,
     "end_time": "2024-08-30T04:35:06.579286",
     "exception": false,
     "start_time": "2024-08-30T04:35:03.947494",
     "status": "completed"
    },
    "tags": []
   },
   "source": [
    "# <font color='289C4E'> Validate submission <font><a class='anchor' id='future_work'></a> [↑](#top)\n"
   ]
  },
  {
   "cell_type": "code",
   "execution_count": 17,
   "id": "685d3c89",
   "metadata": {
    "execution": {
     "iopub.execute_input": "2024-08-30T04:35:11.815840Z",
     "iopub.status.busy": "2024-08-30T04:35:11.814891Z",
     "iopub.status.idle": "2024-08-30T04:35:31.109269Z",
     "shell.execute_reply": "2024-08-30T04:35:31.107945Z"
    },
    "papermill": {
     "duration": 21.893243,
     "end_time": "2024-08-30T04:35:31.112111",
     "exception": false,
     "start_time": "2024-08-30T04:35:09.218868",
     "status": "completed"
    },
    "tags": []
   },
   "outputs": [
    {
     "name": "stdout",
     "output_type": "stream",
     "text": [
      "\tzip warning: name not matched: /kaggle/working/models/model.tflite\r\n",
      "\r\n",
      "zip error: Nothing to do! (submission.zip)\r\n",
      "Collecting tflite-runtime\r\n",
      "  Downloading tflite_runtime-2.11.0-cp37-cp37m-manylinux2014_x86_64.whl (2.5 MB)\r\n",
      "\u001b[2K     \u001b[90m━━━━━━━━━━━━━━━━━━━━━━━━━━━━━━━━━━━━━━━━\u001b[0m \u001b[32m2.5/2.5 MB\u001b[0m \u001b[31m5.2 MB/s\u001b[0m eta \u001b[36m0:00:00\u001b[0m\r\n",
      "\u001b[?25hRequirement already satisfied: numpy>=1.19.2 in /opt/conda/lib/python3.7/site-packages (from tflite-runtime) (1.21.6)\r\n",
      "Installing collected packages: tflite-runtime\r\n",
      "Successfully installed tflite-runtime-2.11.0\r\n",
      "\u001b[33mWARNING: Running pip as the 'root' user can result in broken permissions and conflicting behaviour with the system package manager. It is recommended to use a virtual environment instead: https://pip.pypa.io/warnings/venv\u001b[0m\u001b[33m\r\n",
      "\u001b[0m"
     ]
    }
   ],
   "source": [
    "keras_model_converter = tf.lite.TFLiteConverter.from_keras_model(tflite_keras_model)\n",
    "tflite_model = keras_model_converter.convert()\n",
    "with open('/kaggle/working/model.tflite', 'wb') as f:\n",
    "    f.write(tflite_model)\n",
    "!zip submission.zip /kaggle/working/models/model.tflite\n",
    "\n",
    "!pip install tflite-runtime\n",
    "import tflite_runtime.interpreter as tflite\n",
    "\n",
    "interpreter = tflite.Interpreter(\"/kaggle/working/model.tflite\")\n",
    "found_signatures = list(interpreter.get_signature_list().keys())\n",
    "prediction_fn = interpreter.get_signature_runner(\"serving_default\")\n",
    "\n",
    "# output = prediction_fn(inputs=model_class.utilties.load_relevant_data_subset(train_data.path[0]))\n",
    "# sign = np.argmax(output[\"outputs\"])\n",
    "\n",
    "# print(\"prediction : \", eval_class.decoder(sign))\n",
    "# print(\"ground truth : \", train_data.sign[0])\n",
    "\n",
    "for path in train_data.path[1:10]:\n",
    "    output = prediction_fn(inputs=model_class.utilties.load_relevant_data_subset(path))\n",
    "    sign = np.argmax(output[\"outputs\"])"
   ]
  },
  {
   "cell_type": "code",
   "execution_count": 18,
   "id": "1124acea",
   "metadata": {
    "execution": {
     "iopub.execute_input": "2024-08-30T04:35:36.325242Z",
     "iopub.status.busy": "2024-08-30T04:35:36.324831Z",
     "iopub.status.idle": "2024-08-30T04:35:37.663193Z",
     "shell.execute_reply": "2024-08-30T04:35:37.661838Z"
    },
    "papermill": {
     "duration": 3.948879,
     "end_time": "2024-08-30T04:35:37.665878",
     "exception": false,
     "start_time": "2024-08-30T04:35:33.716999",
     "status": "completed"
    },
    "tags": []
   },
   "outputs": [
    {
     "name": "stdout",
     "output_type": "stream",
     "text": [
      "  adding: kaggle/working/model.tflite (deflated 7%)\r\n"
     ]
    }
   ],
   "source": [
    "submission_path = '/kaggle/working/model.tflite'\n",
    "!zip submission.zip $submission_path"
   ]
  },
  {
   "cell_type": "markdown",
   "id": "19b4c6f7",
   "metadata": {
    "papermill": {
     "duration": 2.597208,
     "end_time": "2024-08-30T04:35:42.895154",
     "exception": false,
     "start_time": "2024-08-30T04:35:40.297946",
     "status": "completed"
    },
    "tags": []
   },
   "source": [
    "# <font color='289C4E'>Future work <font><a class='anchor' id='future_work'></a> [↑](#top)\n",
    "    \n",
    "    \n",
    "There is a lot more to do be done here in order to improve overall classification accuracy! some things that this notebook did not explore but would like to for future work:  \n",
    "- data augmentation to create more data\n",
    "- preprocessing data differently, handling NaN's differently\n",
    "- adding LSTM's to see how that affects accuracy"
   ]
  },
  {
   "cell_type": "markdown",
   "id": "a5e5d4be",
   "metadata": {
    "papermill": {
     "duration": 2.596163,
     "end_time": "2024-08-30T04:35:48.071375",
     "exception": false,
     "start_time": "2024-08-30T04:35:45.475212",
     "status": "completed"
    },
    "tags": []
   },
   "source": [
    "# <font color='289C4E'>References <font><a class='anchor' id='references'></a> [↑](#top)\n",
    "    \n",
    "[🤟 GISLR 🤟 - 📚Learn – 🔭EDA – 🤖Baseline](https://www.kaggle.com/code/dschettler8845/gislr-learn-eda-baseline#background_information)\n",
    "    \n",
    "[Tips To Make Your Notebook Look Better]()\n",
    "    \n",
    "[Isolated Sign Language Aggregation Dataset](https://www.kaggle.com/datasets/lonnieqin/isolated-sign-language-aggregation-dataset?select=train.csv)"
   ]
  }
 ],
 "metadata": {
  "kaggle": {
   "accelerator": "gpu",
   "dataSources": [
    {
     "databundleVersionId": 5087314,
     "sourceId": 46105,
     "sourceType": "competition"
    },
    {
     "datasetId": 2941209,
     "sourceId": 5065715,
     "sourceType": "datasetVersion"
    }
   ],
   "dockerImageVersionId": 30407,
   "isGpuEnabled": true,
   "isInternetEnabled": true,
   "language": "python",
   "sourceType": "notebook"
  },
  "kernelspec": {
   "display_name": "Python 3",
   "language": "python",
   "name": "python3"
  },
  "language_info": {
   "codemirror_mode": {
    "name": "ipython",
    "version": 3
   },
   "file_extension": ".py",
   "mimetype": "text/x-python",
   "name": "python",
   "nbconvert_exporter": "python",
   "pygments_lexer": "ipython3",
   "version": "3.7.12"
  },
  "papermill": {
   "default_parameters": {},
   "duration": 2773.583454,
   "end_time": "2024-08-30T04:35:53.921501",
   "environment_variables": {},
   "exception": null,
   "input_path": "__notebook__.ipynb",
   "output_path": "__notebook__.ipynb",
   "parameters": {},
   "start_time": "2024-08-30T03:49:40.338047",
   "version": "2.4.0"
  }
 },
 "nbformat": 4,
 "nbformat_minor": 5
}
